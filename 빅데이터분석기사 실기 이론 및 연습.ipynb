{
 "cells": [
  {
   "cell_type": "code",
   "execution_count": 1,
   "id": "74c34236",
   "metadata": {},
   "outputs": [],
   "source": [
    "import pandas as pd\n",
    "import numpy as np"
   ]
  },
  {
   "cell_type": "code",
   "execution_count": 2,
   "id": "451de3b1",
   "metadata": {},
   "outputs": [
    {
     "data": {
      "text/html": [
       "<div>\n",
       "<style scoped>\n",
       "    .dataframe tbody tr th:only-of-type {\n",
       "        vertical-align: middle;\n",
       "    }\n",
       "\n",
       "    .dataframe tbody tr th {\n",
       "        vertical-align: top;\n",
       "    }\n",
       "\n",
       "    .dataframe thead th {\n",
       "        text-align: right;\n",
       "    }\n",
       "</style>\n",
       "<table border=\"1\" class=\"dataframe\">\n",
       "  <thead>\n",
       "    <tr style=\"text-align: right;\">\n",
       "      <th></th>\n",
       "      <th>Unnamed: 0</th>\n",
       "      <th>mpg</th>\n",
       "      <th>cyl</th>\n",
       "      <th>disp</th>\n",
       "      <th>hp</th>\n",
       "      <th>drat</th>\n",
       "      <th>wt</th>\n",
       "      <th>qsec</th>\n",
       "      <th>vs</th>\n",
       "      <th>am</th>\n",
       "      <th>gear</th>\n",
       "      <th>carb</th>\n",
       "    </tr>\n",
       "  </thead>\n",
       "  <tbody>\n",
       "    <tr>\n",
       "      <th>0</th>\n",
       "      <td>Mazda RX4</td>\n",
       "      <td>21.0</td>\n",
       "      <td>6.0</td>\n",
       "      <td>160.0</td>\n",
       "      <td>110</td>\n",
       "      <td>3.90</td>\n",
       "      <td>2.620</td>\n",
       "      <td>16.46</td>\n",
       "      <td>0</td>\n",
       "      <td>manual</td>\n",
       "      <td>4</td>\n",
       "      <td>4</td>\n",
       "    </tr>\n",
       "    <tr>\n",
       "      <th>1</th>\n",
       "      <td>Mazda RX4 Wag</td>\n",
       "      <td>21.0</td>\n",
       "      <td>6.0</td>\n",
       "      <td>160.0</td>\n",
       "      <td>110</td>\n",
       "      <td>3.90</td>\n",
       "      <td>2.875</td>\n",
       "      <td>17.02</td>\n",
       "      <td>0</td>\n",
       "      <td>manual</td>\n",
       "      <td>4</td>\n",
       "      <td>4</td>\n",
       "    </tr>\n",
       "    <tr>\n",
       "      <th>2</th>\n",
       "      <td>Datsun 710</td>\n",
       "      <td>22.8</td>\n",
       "      <td>4.0</td>\n",
       "      <td>108.0</td>\n",
       "      <td>93</td>\n",
       "      <td>3.85</td>\n",
       "      <td>2.320</td>\n",
       "      <td>18.61</td>\n",
       "      <td>1</td>\n",
       "      <td>manual</td>\n",
       "      <td>4</td>\n",
       "      <td>1</td>\n",
       "    </tr>\n",
       "    <tr>\n",
       "      <th>3</th>\n",
       "      <td>Hornet 4 Drive</td>\n",
       "      <td>21.4</td>\n",
       "      <td>6.0</td>\n",
       "      <td>258.0</td>\n",
       "      <td>110</td>\n",
       "      <td>3.08</td>\n",
       "      <td>3.215</td>\n",
       "      <td>0.10</td>\n",
       "      <td>1</td>\n",
       "      <td>auto</td>\n",
       "      <td>3</td>\n",
       "      <td>1</td>\n",
       "    </tr>\n",
       "    <tr>\n",
       "      <th>4</th>\n",
       "      <td>Hornet Sportabout</td>\n",
       "      <td>18.7</td>\n",
       "      <td>8.0</td>\n",
       "      <td>360.0</td>\n",
       "      <td>175</td>\n",
       "      <td>3.15</td>\n",
       "      <td>3.440</td>\n",
       "      <td>17.02</td>\n",
       "      <td>0</td>\n",
       "      <td>auto</td>\n",
       "      <td>3</td>\n",
       "      <td>2</td>\n",
       "    </tr>\n",
       "  </tbody>\n",
       "</table>\n",
       "</div>"
      ],
      "text/plain": [
       "          Unnamed: 0   mpg  cyl   disp   hp  drat     wt   qsec  vs      am  \\\n",
       "0          Mazda RX4  21.0  6.0  160.0  110  3.90  2.620  16.46   0  manual   \n",
       "1      Mazda RX4 Wag  21.0  6.0  160.0  110  3.90  2.875  17.02   0  manual   \n",
       "2         Datsun 710  22.8  4.0  108.0   93  3.85  2.320  18.61   1  manual   \n",
       "3     Hornet 4 Drive  21.4  6.0  258.0  110  3.08  3.215   0.10   1    auto   \n",
       "4  Hornet Sportabout  18.7  8.0  360.0  175  3.15  3.440  17.02   0    auto   \n",
       "\n",
       "  gear  carb  \n",
       "0    4     4  \n",
       "1    4     4  \n",
       "2    4     1  \n",
       "3    3     1  \n",
       "4    3     2  "
      ]
     },
     "execution_count": 2,
     "metadata": {},
     "output_type": "execute_result"
    }
   ],
   "source": [
    "data = pd.read_csv('mtcars.csv')\n",
    "data.head()"
   ]
  },
  {
   "cell_type": "markdown",
   "id": "f4e6fc1b",
   "metadata": {},
   "source": [
    "mpg : 연비(miles/gallon) \n",
    "Unnamed: 0 : 자동차 모델명 \n",
    "cyl : 엔진의 기통수 (Number of cylinders)\n",
    "disp : 배기량(Displacement)\n",
    "wt : 무게(Weight)\n",
    "qsec : 1/4mile 도달시간 (1/4mile time)\n",
    "vs : V형 엔진/직렬 엔진 (V engine/Straight engine)\n",
    "am : 변속기(Transmission)\n",
    "gear : 전진기어 개수(Number of forward gears)\n",
    "carb : 기화기 개수(Number of carburetors)"
   ]
  },
  {
   "cell_type": "code",
   "execution_count": 3,
   "id": "e6d75009",
   "metadata": {},
   "outputs": [
    {
     "data": {
      "text/plain": [
       "(32, 12)"
      ]
     },
     "execution_count": 3,
     "metadata": {},
     "output_type": "execute_result"
    }
   ],
   "source": [
    "data.shape"
   ]
  },
  {
   "cell_type": "code",
   "execution_count": 4,
   "id": "b683e782",
   "metadata": {},
   "outputs": [
    {
     "data": {
      "text/plain": [
       "pandas.core.frame.DataFrame"
      ]
     },
     "execution_count": 4,
     "metadata": {},
     "output_type": "execute_result"
    }
   ],
   "source": [
    "type(data)"
   ]
  },
  {
   "cell_type": "code",
   "execution_count": 5,
   "id": "d665a56b",
   "metadata": {},
   "outputs": [
    {
     "data": {
      "text/plain": [
       "Index(['Unnamed: 0', 'mpg', 'cyl', 'disp', 'hp', 'drat', 'wt', 'qsec', 'vs',\n",
       "       'am', 'gear', 'carb'],\n",
       "      dtype='object')"
      ]
     },
     "execution_count": 5,
     "metadata": {},
     "output_type": "execute_result"
    }
   ],
   "source": [
    "data.columns"
   ]
  },
  {
   "cell_type": "code",
   "execution_count": 6,
   "id": "26e86de3",
   "metadata": {},
   "outputs": [
    {
     "data": {
      "text/html": [
       "<div>\n",
       "<style scoped>\n",
       "    .dataframe tbody tr th:only-of-type {\n",
       "        vertical-align: middle;\n",
       "    }\n",
       "\n",
       "    .dataframe tbody tr th {\n",
       "        vertical-align: top;\n",
       "    }\n",
       "\n",
       "    .dataframe thead th {\n",
       "        text-align: right;\n",
       "    }\n",
       "</style>\n",
       "<table border=\"1\" class=\"dataframe\">\n",
       "  <thead>\n",
       "    <tr style=\"text-align: right;\">\n",
       "      <th></th>\n",
       "      <th>mpg</th>\n",
       "      <th>cyl</th>\n",
       "      <th>disp</th>\n",
       "      <th>hp</th>\n",
       "      <th>drat</th>\n",
       "      <th>wt</th>\n",
       "      <th>qsec</th>\n",
       "      <th>vs</th>\n",
       "      <th>carb</th>\n",
       "    </tr>\n",
       "  </thead>\n",
       "  <tbody>\n",
       "    <tr>\n",
       "      <th>count</th>\n",
       "      <td>32.000000</td>\n",
       "      <td>30.000000</td>\n",
       "      <td>32.000000</td>\n",
       "      <td>32.000000</td>\n",
       "      <td>32.000000</td>\n",
       "      <td>32.000000</td>\n",
       "      <td>31.000000</td>\n",
       "      <td>32.000000</td>\n",
       "      <td>32.0000</td>\n",
       "    </tr>\n",
       "    <tr>\n",
       "      <th>mean</th>\n",
       "      <td>20.090625</td>\n",
       "      <td>7.600000</td>\n",
       "      <td>230.721875</td>\n",
       "      <td>146.687500</td>\n",
       "      <td>3.596563</td>\n",
       "      <td>3.217250</td>\n",
       "      <td>19.866774</td>\n",
       "      <td>0.437500</td>\n",
       "      <td>2.8125</td>\n",
       "    </tr>\n",
       "    <tr>\n",
       "      <th>std</th>\n",
       "      <td>6.026948</td>\n",
       "      <td>8.194195</td>\n",
       "      <td>123.938694</td>\n",
       "      <td>68.562868</td>\n",
       "      <td>0.534679</td>\n",
       "      <td>0.978457</td>\n",
       "      <td>15.310469</td>\n",
       "      <td>0.504016</td>\n",
       "      <td>1.6152</td>\n",
       "    </tr>\n",
       "    <tr>\n",
       "      <th>min</th>\n",
       "      <td>10.400000</td>\n",
       "      <td>4.000000</td>\n",
       "      <td>71.100000</td>\n",
       "      <td>52.000000</td>\n",
       "      <td>2.760000</td>\n",
       "      <td>1.513000</td>\n",
       "      <td>0.100000</td>\n",
       "      <td>0.000000</td>\n",
       "      <td>1.0000</td>\n",
       "    </tr>\n",
       "    <tr>\n",
       "      <th>25%</th>\n",
       "      <td>15.425000</td>\n",
       "      <td>4.000000</td>\n",
       "      <td>120.825000</td>\n",
       "      <td>96.500000</td>\n",
       "      <td>3.080000</td>\n",
       "      <td>2.581250</td>\n",
       "      <td>16.785000</td>\n",
       "      <td>0.000000</td>\n",
       "      <td>2.0000</td>\n",
       "    </tr>\n",
       "    <tr>\n",
       "      <th>50%</th>\n",
       "      <td>19.200000</td>\n",
       "      <td>6.000000</td>\n",
       "      <td>196.300000</td>\n",
       "      <td>123.000000</td>\n",
       "      <td>3.695000</td>\n",
       "      <td>3.325000</td>\n",
       "      <td>17.600000</td>\n",
       "      <td>0.000000</td>\n",
       "      <td>2.0000</td>\n",
       "    </tr>\n",
       "    <tr>\n",
       "      <th>75%</th>\n",
       "      <td>22.800000</td>\n",
       "      <td>8.000000</td>\n",
       "      <td>326.000000</td>\n",
       "      <td>180.000000</td>\n",
       "      <td>3.920000</td>\n",
       "      <td>3.610000</td>\n",
       "      <td>18.755000</td>\n",
       "      <td>1.000000</td>\n",
       "      <td>4.0000</td>\n",
       "    </tr>\n",
       "    <tr>\n",
       "      <th>max</th>\n",
       "      <td>33.900000</td>\n",
       "      <td>50.000000</td>\n",
       "      <td>472.000000</td>\n",
       "      <td>335.000000</td>\n",
       "      <td>4.930000</td>\n",
       "      <td>5.424000</td>\n",
       "      <td>100.000000</td>\n",
       "      <td>1.000000</td>\n",
       "      <td>8.0000</td>\n",
       "    </tr>\n",
       "  </tbody>\n",
       "</table>\n",
       "</div>"
      ],
      "text/plain": [
       "             mpg        cyl        disp          hp       drat         wt  \\\n",
       "count  32.000000  30.000000   32.000000   32.000000  32.000000  32.000000   \n",
       "mean   20.090625   7.600000  230.721875  146.687500   3.596563   3.217250   \n",
       "std     6.026948   8.194195  123.938694   68.562868   0.534679   0.978457   \n",
       "min    10.400000   4.000000   71.100000   52.000000   2.760000   1.513000   \n",
       "25%    15.425000   4.000000  120.825000   96.500000   3.080000   2.581250   \n",
       "50%    19.200000   6.000000  196.300000  123.000000   3.695000   3.325000   \n",
       "75%    22.800000   8.000000  326.000000  180.000000   3.920000   3.610000   \n",
       "max    33.900000  50.000000  472.000000  335.000000   4.930000   5.424000   \n",
       "\n",
       "             qsec         vs     carb  \n",
       "count   31.000000  32.000000  32.0000  \n",
       "mean    19.866774   0.437500   2.8125  \n",
       "std     15.310469   0.504016   1.6152  \n",
       "min      0.100000   0.000000   1.0000  \n",
       "25%     16.785000   0.000000   2.0000  \n",
       "50%     17.600000   0.000000   2.0000  \n",
       "75%     18.755000   1.000000   4.0000  \n",
       "max    100.000000   1.000000   8.0000  "
      ]
     },
     "execution_count": 6,
     "metadata": {},
     "output_type": "execute_result"
    }
   ],
   "source": [
    "data.describe() # 모든 수치형 변수들의 기초통계량 구하기"
   ]
  },
  {
   "cell_type": "code",
   "execution_count": 7,
   "id": "6e1f545f",
   "metadata": {},
   "outputs": [
    {
     "name": "stdout",
     "output_type": "stream",
     "text": [
      "<class 'pandas.core.frame.DataFrame'>\n",
      "RangeIndex: 32 entries, 0 to 31\n",
      "Data columns (total 12 columns):\n",
      " #   Column      Non-Null Count  Dtype  \n",
      "---  ------      --------------  -----  \n",
      " 0   Unnamed: 0  32 non-null     object \n",
      " 1   mpg         32 non-null     float64\n",
      " 2   cyl         30 non-null     float64\n",
      " 3   disp        32 non-null     float64\n",
      " 4   hp          32 non-null     int64  \n",
      " 5   drat        32 non-null     float64\n",
      " 6   wt          32 non-null     float64\n",
      " 7   qsec        31 non-null     float64\n",
      " 8   vs          32 non-null     int64  \n",
      " 9   am          32 non-null     object \n",
      " 10  gear        32 non-null     object \n",
      " 11  carb        32 non-null     int64  \n",
      "dtypes: float64(6), int64(3), object(3)\n",
      "memory usage: 3.1+ KB\n"
     ]
    }
   ],
   "source": [
    "data.info() # 데이터 요약정보 구하ㅣ"
   ]
  },
  {
   "cell_type": "code",
   "execution_count": 8,
   "id": "47817931",
   "metadata": {},
   "outputs": [
    {
     "data": {
      "text/html": [
       "<div>\n",
       "<style scoped>\n",
       "    .dataframe tbody tr th:only-of-type {\n",
       "        vertical-align: middle;\n",
       "    }\n",
       "\n",
       "    .dataframe tbody tr th {\n",
       "        vertical-align: top;\n",
       "    }\n",
       "\n",
       "    .dataframe thead th {\n",
       "        text-align: right;\n",
       "    }\n",
       "</style>\n",
       "<table border=\"1\" class=\"dataframe\">\n",
       "  <thead>\n",
       "    <tr style=\"text-align: right;\">\n",
       "      <th></th>\n",
       "      <th>mpg</th>\n",
       "      <th>cyl</th>\n",
       "      <th>disp</th>\n",
       "      <th>hp</th>\n",
       "      <th>drat</th>\n",
       "      <th>wt</th>\n",
       "      <th>qsec</th>\n",
       "      <th>vs</th>\n",
       "      <th>carb</th>\n",
       "    </tr>\n",
       "  </thead>\n",
       "  <tbody>\n",
       "    <tr>\n",
       "      <th>mpg</th>\n",
       "      <td>1.000000</td>\n",
       "      <td>-0.460227</td>\n",
       "      <td>-0.847551</td>\n",
       "      <td>-0.776168</td>\n",
       "      <td>0.681172</td>\n",
       "      <td>-0.867659</td>\n",
       "      <td>0.013668</td>\n",
       "      <td>0.664039</td>\n",
       "      <td>-0.550925</td>\n",
       "    </tr>\n",
       "    <tr>\n",
       "      <th>cyl</th>\n",
       "      <td>-0.460227</td>\n",
       "      <td>1.000000</td>\n",
       "      <td>0.544876</td>\n",
       "      <td>0.323293</td>\n",
       "      <td>-0.372671</td>\n",
       "      <td>0.533690</td>\n",
       "      <td>-0.012755</td>\n",
       "      <td>-0.323960</td>\n",
       "      <td>0.239980</td>\n",
       "    </tr>\n",
       "    <tr>\n",
       "      <th>disp</th>\n",
       "      <td>-0.847551</td>\n",
       "      <td>0.544876</td>\n",
       "      <td>1.000000</td>\n",
       "      <td>0.790949</td>\n",
       "      <td>-0.710214</td>\n",
       "      <td>0.887980</td>\n",
       "      <td>0.181810</td>\n",
       "      <td>-0.710416</td>\n",
       "      <td>0.394977</td>\n",
       "    </tr>\n",
       "    <tr>\n",
       "      <th>hp</th>\n",
       "      <td>-0.776168</td>\n",
       "      <td>0.323293</td>\n",
       "      <td>0.790949</td>\n",
       "      <td>1.000000</td>\n",
       "      <td>-0.448759</td>\n",
       "      <td>0.658748</td>\n",
       "      <td>0.010807</td>\n",
       "      <td>-0.723097</td>\n",
       "      <td>0.749812</td>\n",
       "    </tr>\n",
       "    <tr>\n",
       "      <th>drat</th>\n",
       "      <td>0.681172</td>\n",
       "      <td>-0.372671</td>\n",
       "      <td>-0.710214</td>\n",
       "      <td>-0.448759</td>\n",
       "      <td>1.000000</td>\n",
       "      <td>-0.712441</td>\n",
       "      <td>-0.120283</td>\n",
       "      <td>0.440278</td>\n",
       "      <td>-0.090790</td>\n",
       "    </tr>\n",
       "    <tr>\n",
       "      <th>wt</th>\n",
       "      <td>-0.867659</td>\n",
       "      <td>0.533690</td>\n",
       "      <td>0.887980</td>\n",
       "      <td>0.658748</td>\n",
       "      <td>-0.712441</td>\n",
       "      <td>1.000000</td>\n",
       "      <td>0.093900</td>\n",
       "      <td>-0.554916</td>\n",
       "      <td>0.427606</td>\n",
       "    </tr>\n",
       "    <tr>\n",
       "      <th>qsec</th>\n",
       "      <td>0.013668</td>\n",
       "      <td>-0.012755</td>\n",
       "      <td>0.181810</td>\n",
       "      <td>0.010807</td>\n",
       "      <td>-0.120283</td>\n",
       "      <td>0.093900</td>\n",
       "      <td>1.000000</td>\n",
       "      <td>-0.112146</td>\n",
       "      <td>-0.120312</td>\n",
       "    </tr>\n",
       "    <tr>\n",
       "      <th>vs</th>\n",
       "      <td>0.664039</td>\n",
       "      <td>-0.323960</td>\n",
       "      <td>-0.710416</td>\n",
       "      <td>-0.723097</td>\n",
       "      <td>0.440278</td>\n",
       "      <td>-0.554916</td>\n",
       "      <td>-0.112146</td>\n",
       "      <td>1.000000</td>\n",
       "      <td>-0.569607</td>\n",
       "    </tr>\n",
       "    <tr>\n",
       "      <th>carb</th>\n",
       "      <td>-0.550925</td>\n",
       "      <td>0.239980</td>\n",
       "      <td>0.394977</td>\n",
       "      <td>0.749812</td>\n",
       "      <td>-0.090790</td>\n",
       "      <td>0.427606</td>\n",
       "      <td>-0.120312</td>\n",
       "      <td>-0.569607</td>\n",
       "      <td>1.000000</td>\n",
       "    </tr>\n",
       "  </tbody>\n",
       "</table>\n",
       "</div>"
      ],
      "text/plain": [
       "           mpg       cyl      disp        hp      drat        wt      qsec  \\\n",
       "mpg   1.000000 -0.460227 -0.847551 -0.776168  0.681172 -0.867659  0.013668   \n",
       "cyl  -0.460227  1.000000  0.544876  0.323293 -0.372671  0.533690 -0.012755   \n",
       "disp -0.847551  0.544876  1.000000  0.790949 -0.710214  0.887980  0.181810   \n",
       "hp   -0.776168  0.323293  0.790949  1.000000 -0.448759  0.658748  0.010807   \n",
       "drat  0.681172 -0.372671 -0.710214 -0.448759  1.000000 -0.712441 -0.120283   \n",
       "wt   -0.867659  0.533690  0.887980  0.658748 -0.712441  1.000000  0.093900   \n",
       "qsec  0.013668 -0.012755  0.181810  0.010807 -0.120283  0.093900  1.000000   \n",
       "vs    0.664039 -0.323960 -0.710416 -0.723097  0.440278 -0.554916 -0.112146   \n",
       "carb -0.550925  0.239980  0.394977  0.749812 -0.090790  0.427606 -0.120312   \n",
       "\n",
       "            vs      carb  \n",
       "mpg   0.664039 -0.550925  \n",
       "cyl  -0.323960  0.239980  \n",
       "disp -0.710416  0.394977  \n",
       "hp   -0.723097  0.749812  \n",
       "drat  0.440278 -0.090790  \n",
       "wt   -0.554916  0.427606  \n",
       "qsec -0.112146 -0.120312  \n",
       "vs    1.000000 -0.569607  \n",
       "carb -0.569607  1.000000  "
      ]
     },
     "execution_count": 8,
     "metadata": {},
     "output_type": "execute_result"
    }
   ],
   "source": [
    "data.corr() # 상관관계 구하기"
   ]
  },
  {
   "cell_type": "code",
   "execution_count": 9,
   "id": "7f46a132",
   "metadata": {},
   "outputs": [],
   "source": [
    "X = data.drop(columns = 'mpg') # 독립변수 만들기\n",
    "Y = data['mpg']                # 종속변수 만들기"
   ]
  },
  {
   "cell_type": "markdown",
   "id": "940d13e0",
   "metadata": {},
   "source": [
    "## 2.2 데이터 전처리\n",
    "### 불필요한 열 삭제"
   ]
  },
  {
   "cell_type": "code",
   "execution_count": 10,
   "id": "b194888a",
   "metadata": {},
   "outputs": [
    {
     "data": {
      "text/html": [
       "<div>\n",
       "<style scoped>\n",
       "    .dataframe tbody tr th:only-of-type {\n",
       "        vertical-align: middle;\n",
       "    }\n",
       "\n",
       "    .dataframe tbody tr th {\n",
       "        vertical-align: top;\n",
       "    }\n",
       "\n",
       "    .dataframe thead th {\n",
       "        text-align: right;\n",
       "    }\n",
       "</style>\n",
       "<table border=\"1\" class=\"dataframe\">\n",
       "  <thead>\n",
       "    <tr style=\"text-align: right;\">\n",
       "      <th></th>\n",
       "      <th>Unnamed: 0</th>\n",
       "      <th>cyl</th>\n",
       "      <th>disp</th>\n",
       "      <th>hp</th>\n",
       "      <th>drat</th>\n",
       "      <th>wt</th>\n",
       "      <th>qsec</th>\n",
       "      <th>vs</th>\n",
       "      <th>am</th>\n",
       "      <th>gear</th>\n",
       "      <th>carb</th>\n",
       "    </tr>\n",
       "  </thead>\n",
       "  <tbody>\n",
       "    <tr>\n",
       "      <th>0</th>\n",
       "      <td>Mazda RX4</td>\n",
       "      <td>6.0</td>\n",
       "      <td>160.0</td>\n",
       "      <td>110</td>\n",
       "      <td>3.90</td>\n",
       "      <td>2.620</td>\n",
       "      <td>16.46</td>\n",
       "      <td>0</td>\n",
       "      <td>manual</td>\n",
       "      <td>4</td>\n",
       "      <td>4</td>\n",
       "    </tr>\n",
       "    <tr>\n",
       "      <th>1</th>\n",
       "      <td>Mazda RX4 Wag</td>\n",
       "      <td>6.0</td>\n",
       "      <td>160.0</td>\n",
       "      <td>110</td>\n",
       "      <td>3.90</td>\n",
       "      <td>2.875</td>\n",
       "      <td>17.02</td>\n",
       "      <td>0</td>\n",
       "      <td>manual</td>\n",
       "      <td>4</td>\n",
       "      <td>4</td>\n",
       "    </tr>\n",
       "    <tr>\n",
       "      <th>2</th>\n",
       "      <td>Datsun 710</td>\n",
       "      <td>4.0</td>\n",
       "      <td>108.0</td>\n",
       "      <td>93</td>\n",
       "      <td>3.85</td>\n",
       "      <td>2.320</td>\n",
       "      <td>18.61</td>\n",
       "      <td>1</td>\n",
       "      <td>manual</td>\n",
       "      <td>4</td>\n",
       "      <td>1</td>\n",
       "    </tr>\n",
       "    <tr>\n",
       "      <th>3</th>\n",
       "      <td>Hornet 4 Drive</td>\n",
       "      <td>6.0</td>\n",
       "      <td>258.0</td>\n",
       "      <td>110</td>\n",
       "      <td>3.08</td>\n",
       "      <td>3.215</td>\n",
       "      <td>0.10</td>\n",
       "      <td>1</td>\n",
       "      <td>auto</td>\n",
       "      <td>3</td>\n",
       "      <td>1</td>\n",
       "    </tr>\n",
       "    <tr>\n",
       "      <th>4</th>\n",
       "      <td>Hornet Sportabout</td>\n",
       "      <td>8.0</td>\n",
       "      <td>360.0</td>\n",
       "      <td>175</td>\n",
       "      <td>3.15</td>\n",
       "      <td>3.440</td>\n",
       "      <td>17.02</td>\n",
       "      <td>0</td>\n",
       "      <td>auto</td>\n",
       "      <td>3</td>\n",
       "      <td>2</td>\n",
       "    </tr>\n",
       "  </tbody>\n",
       "</table>\n",
       "</div>"
      ],
      "text/plain": [
       "          Unnamed: 0  cyl   disp   hp  drat     wt   qsec  vs      am gear  \\\n",
       "0          Mazda RX4  6.0  160.0  110  3.90  2.620  16.46   0  manual    4   \n",
       "1      Mazda RX4 Wag  6.0  160.0  110  3.90  2.875  17.02   0  manual    4   \n",
       "2         Datsun 710  4.0  108.0   93  3.85  2.320  18.61   1  manual    4   \n",
       "3     Hornet 4 Drive  6.0  258.0  110  3.08  3.215   0.10   1    auto    3   \n",
       "4  Hornet Sportabout  8.0  360.0  175  3.15  3.440  17.02   0    auto    3   \n",
       "\n",
       "   carb  \n",
       "0     4  \n",
       "1     4  \n",
       "2     1  \n",
       "3     1  \n",
       "4     2  "
      ]
     },
     "execution_count": 10,
     "metadata": {},
     "output_type": "execute_result"
    }
   ],
   "source": [
    "X.head()"
   ]
  },
  {
   "cell_type": "code",
   "execution_count": 11,
   "id": "a45c2bdb",
   "metadata": {},
   "outputs": [
    {
     "data": {
      "text/plain": [
       "0    21.0\n",
       "1    21.0\n",
       "2    22.8\n",
       "3    21.4\n",
       "4    18.7\n",
       "Name: mpg, dtype: float64"
      ]
     },
     "execution_count": 11,
     "metadata": {},
     "output_type": "execute_result"
    }
   ],
   "source": [
    "Y.head()"
   ]
  },
  {
   "cell_type": "code",
   "execution_count": 12,
   "id": "29712131",
   "metadata": {},
   "outputs": [],
   "source": [
    "X = X.iloc[:,1:]"
   ]
  },
  {
   "cell_type": "markdown",
   "id": "4ed6195b",
   "metadata": {},
   "source": [
    "## 결측값 처리하기\n",
    "### 결측치 여부 확인하기"
   ]
  },
  {
   "cell_type": "code",
   "execution_count": 13,
   "id": "8fb2472d",
   "metadata": {},
   "outputs": [
    {
     "data": {
      "text/plain": [
       "cyl     2\n",
       "disp    0\n",
       "hp      0\n",
       "drat    0\n",
       "wt      0\n",
       "qsec    1\n",
       "vs      0\n",
       "am      0\n",
       "gear    0\n",
       "carb    0\n",
       "dtype: int64"
      ]
     },
     "execution_count": 13,
     "metadata": {},
     "output_type": "execute_result"
    }
   ],
   "source": [
    "X.isnull().sum()"
   ]
  },
  {
   "cell_type": "markdown",
   "id": "15768984",
   "metadata": {},
   "source": [
    "### 평균값으로 대치하기"
   ]
  },
  {
   "cell_type": "code",
   "execution_count": 14,
   "id": "2117852c",
   "metadata": {},
   "outputs": [],
   "source": [
    "X_cyl_mean = X['cyl'].mean()"
   ]
  },
  {
   "cell_type": "code",
   "execution_count": 15,
   "id": "a4252478",
   "metadata": {},
   "outputs": [],
   "source": [
    "X['cyl'] = X['cyl'].fillna(X_cyl_mean)"
   ]
  },
  {
   "cell_type": "markdown",
   "id": "725d4101",
   "metadata": {},
   "source": [
    "### 중위값으로 대치하기"
   ]
  },
  {
   "cell_type": "code",
   "execution_count": 16,
   "id": "f50d2a40",
   "metadata": {},
   "outputs": [],
   "source": [
    "X_qsec_median = X['qsec'].median()\n",
    "X['qsec'] = X['qsec'].fillna(X_qsec_median)"
   ]
  },
  {
   "cell_type": "markdown",
   "id": "c3ec70d1",
   "metadata": {},
   "source": [
    "### 최빈값 구하는 함수 scipy.stats.mode"
   ]
  },
  {
   "cell_type": "code",
   "execution_count": 1,
   "id": "4c74d0ae",
   "metadata": {},
   "outputs": [
    {
     "data": {
      "text/plain": [
       "ModeResult(mode=array([5]), count=array([4]))"
      ]
     },
     "execution_count": 1,
     "metadata": {},
     "output_type": "execute_result"
    }
   ],
   "source": [
    "from scipy.stats import mode\n",
    "a = [1,2,3,3,4,5,5,5,5,6,7,]\n",
    "mode(a)"
   ]
  },
  {
   "cell_type": "markdown",
   "id": "e221526e",
   "metadata": {},
   "source": [
    "## 잘못된 값을 올바르게 바꾸기"
   ]
  },
  {
   "cell_type": "code",
   "execution_count": 17,
   "id": "c45ecbab",
   "metadata": {},
   "outputs": [
    {
     "data": {
      "text/plain": [
       "array(['4', '3', '*3', '5', '*5'], dtype=object)"
      ]
     },
     "execution_count": 17,
     "metadata": {},
     "output_type": "execute_result"
    }
   ],
   "source": [
    "X['gear'].unique()"
   ]
  },
  {
   "cell_type": "code",
   "execution_count": 18,
   "id": "61343485",
   "metadata": {},
   "outputs": [],
   "source": [
    "X['gear'] = X['gear'].replace('*3','3').replace('*5','5') # 잘못된 값 바꾸기"
   ]
  },
  {
   "cell_type": "code",
   "execution_count": 19,
   "id": "b8e8e490",
   "metadata": {},
   "outputs": [
    {
     "data": {
      "text/plain": [
       "array(['4', '3', '5'], dtype=object)"
      ]
     },
     "execution_count": 19,
     "metadata": {},
     "output_type": "execute_result"
    }
   ],
   "source": [
    "X['gear'].unique()"
   ]
  },
  {
   "cell_type": "markdown",
   "id": "a86f9ec7",
   "metadata": {},
   "source": [
    "## 이상값 outlier 처리하기\n",
    "### 사분범위 활용하기"
   ]
  },
  {
   "cell_type": "code",
   "execution_count": 20,
   "id": "c4f14b60",
   "metadata": {},
   "outputs": [
    {
     "data": {
      "text/html": [
       "<div>\n",
       "<style scoped>\n",
       "    .dataframe tbody tr th:only-of-type {\n",
       "        vertical-align: middle;\n",
       "    }\n",
       "\n",
       "    .dataframe tbody tr th {\n",
       "        vertical-align: top;\n",
       "    }\n",
       "\n",
       "    .dataframe thead th {\n",
       "        text-align: right;\n",
       "    }\n",
       "</style>\n",
       "<table border=\"1\" class=\"dataframe\">\n",
       "  <thead>\n",
       "    <tr style=\"text-align: right;\">\n",
       "      <th></th>\n",
       "      <th>cyl</th>\n",
       "      <th>disp</th>\n",
       "      <th>hp</th>\n",
       "      <th>drat</th>\n",
       "      <th>wt</th>\n",
       "      <th>qsec</th>\n",
       "      <th>vs</th>\n",
       "      <th>carb</th>\n",
       "    </tr>\n",
       "  </thead>\n",
       "  <tbody>\n",
       "    <tr>\n",
       "      <th>count</th>\n",
       "      <td>32.000000</td>\n",
       "      <td>32.000000</td>\n",
       "      <td>32.000000</td>\n",
       "      <td>32.000000</td>\n",
       "      <td>32.000000</td>\n",
       "      <td>32.000000</td>\n",
       "      <td>32.000000</td>\n",
       "      <td>32.0000</td>\n",
       "    </tr>\n",
       "    <tr>\n",
       "      <th>mean</th>\n",
       "      <td>7.600000</td>\n",
       "      <td>230.721875</td>\n",
       "      <td>146.687500</td>\n",
       "      <td>3.596563</td>\n",
       "      <td>3.217250</td>\n",
       "      <td>19.795938</td>\n",
       "      <td>0.437500</td>\n",
       "      <td>2.8125</td>\n",
       "    </tr>\n",
       "    <tr>\n",
       "      <th>std</th>\n",
       "      <td>7.925459</td>\n",
       "      <td>123.938694</td>\n",
       "      <td>68.562868</td>\n",
       "      <td>0.534679</td>\n",
       "      <td>0.978457</td>\n",
       "      <td>15.066831</td>\n",
       "      <td>0.504016</td>\n",
       "      <td>1.6152</td>\n",
       "    </tr>\n",
       "    <tr>\n",
       "      <th>min</th>\n",
       "      <td>4.000000</td>\n",
       "      <td>71.100000</td>\n",
       "      <td>52.000000</td>\n",
       "      <td>2.760000</td>\n",
       "      <td>1.513000</td>\n",
       "      <td>0.100000</td>\n",
       "      <td>0.000000</td>\n",
       "      <td>1.0000</td>\n",
       "    </tr>\n",
       "    <tr>\n",
       "      <th>25%</th>\n",
       "      <td>4.000000</td>\n",
       "      <td>120.825000</td>\n",
       "      <td>96.500000</td>\n",
       "      <td>3.080000</td>\n",
       "      <td>2.581250</td>\n",
       "      <td>16.827500</td>\n",
       "      <td>0.000000</td>\n",
       "      <td>2.0000</td>\n",
       "    </tr>\n",
       "    <tr>\n",
       "      <th>50%</th>\n",
       "      <td>6.000000</td>\n",
       "      <td>196.300000</td>\n",
       "      <td>123.000000</td>\n",
       "      <td>3.695000</td>\n",
       "      <td>3.325000</td>\n",
       "      <td>17.600000</td>\n",
       "      <td>0.000000</td>\n",
       "      <td>2.0000</td>\n",
       "    </tr>\n",
       "    <tr>\n",
       "      <th>75%</th>\n",
       "      <td>8.000000</td>\n",
       "      <td>326.000000</td>\n",
       "      <td>180.000000</td>\n",
       "      <td>3.920000</td>\n",
       "      <td>3.610000</td>\n",
       "      <td>18.682500</td>\n",
       "      <td>1.000000</td>\n",
       "      <td>4.0000</td>\n",
       "    </tr>\n",
       "    <tr>\n",
       "      <th>max</th>\n",
       "      <td>50.000000</td>\n",
       "      <td>472.000000</td>\n",
       "      <td>335.000000</td>\n",
       "      <td>4.930000</td>\n",
       "      <td>5.424000</td>\n",
       "      <td>100.000000</td>\n",
       "      <td>1.000000</td>\n",
       "      <td>8.0000</td>\n",
       "    </tr>\n",
       "  </tbody>\n",
       "</table>\n",
       "</div>"
      ],
      "text/plain": [
       "             cyl        disp          hp       drat         wt        qsec  \\\n",
       "count  32.000000   32.000000   32.000000  32.000000  32.000000   32.000000   \n",
       "mean    7.600000  230.721875  146.687500   3.596563   3.217250   19.795938   \n",
       "std     7.925459  123.938694   68.562868   0.534679   0.978457   15.066831   \n",
       "min     4.000000   71.100000   52.000000   2.760000   1.513000    0.100000   \n",
       "25%     4.000000  120.825000   96.500000   3.080000   2.581250   16.827500   \n",
       "50%     6.000000  196.300000  123.000000   3.695000   3.325000   17.600000   \n",
       "75%     8.000000  326.000000  180.000000   3.920000   3.610000   18.682500   \n",
       "max    50.000000  472.000000  335.000000   4.930000   5.424000  100.000000   \n",
       "\n",
       "              vs     carb  \n",
       "count  32.000000  32.0000  \n",
       "mean    0.437500   2.8125  \n",
       "std     0.504016   1.6152  \n",
       "min     0.000000   1.0000  \n",
       "25%     0.000000   2.0000  \n",
       "50%     0.000000   2.0000  \n",
       "75%     1.000000   4.0000  \n",
       "max     1.000000   8.0000  "
      ]
     },
     "execution_count": 20,
     "metadata": {},
     "output_type": "execute_result"
    }
   ],
   "source": [
    "X_describe = X.describe()\n",
    "X_describe"
   ]
  },
  {
   "cell_type": "code",
   "execution_count": 21,
   "id": "2b5b76b1",
   "metadata": {},
   "outputs": [
    {
     "data": {
      "text/plain": [
       "cyl      -2.000000\n",
       "disp   -186.937500\n",
       "hp      -28.750000\n",
       "drat      1.820000\n",
       "wt        1.038125\n",
       "qsec     14.045000\n",
       "vs       -1.500000\n",
       "carb     -1.000000\n",
       "dtype: float64"
      ]
     },
     "execution_count": 21,
     "metadata": {},
     "output_type": "execute_result"
    }
   ],
   "source": [
    "X_iqr = X_describe.loc['75%',:]-X_describe.loc['25%',:]\n",
    "X_max = X_describe.loc['75%'] + 1.5*X_iqr\n",
    "X_min = X_describe.loc['25%'] - 1.5*X_iqr\n",
    "X_min"
   ]
  },
  {
   "cell_type": "code",
   "execution_count": 22,
   "id": "3c0bd8ae",
   "metadata": {},
   "outputs": [
    {
     "data": {
      "text/plain": [
       "cyl       4.0\n",
       "disp     71.1\n",
       "hp         52\n",
       "drat     2.76\n",
       "wt      1.513\n",
       "qsec      0.1\n",
       "vs          0\n",
       "am       auto\n",
       "gear        3\n",
       "carb        1\n",
       "dtype: object"
      ]
     },
     "execution_count": 22,
     "metadata": {},
     "output_type": "execute_result"
    }
   ],
   "source": [
    "X.max()\n",
    "X.min()"
   ]
  },
  {
   "cell_type": "code",
   "execution_count": 23,
   "id": "1ece83cc",
   "metadata": {},
   "outputs": [
    {
     "data": {
      "text/html": [
       "<div>\n",
       "<style scoped>\n",
       "    .dataframe tbody tr th:only-of-type {\n",
       "        vertical-align: middle;\n",
       "    }\n",
       "\n",
       "    .dataframe tbody tr th {\n",
       "        vertical-align: top;\n",
       "    }\n",
       "\n",
       "    .dataframe thead th {\n",
       "        text-align: right;\n",
       "    }\n",
       "</style>\n",
       "<table border=\"1\" class=\"dataframe\">\n",
       "  <thead>\n",
       "    <tr style=\"text-align: right;\">\n",
       "      <th></th>\n",
       "      <th>cyl</th>\n",
       "      <th>disp</th>\n",
       "      <th>hp</th>\n",
       "      <th>drat</th>\n",
       "      <th>wt</th>\n",
       "      <th>qsec</th>\n",
       "      <th>vs</th>\n",
       "      <th>am</th>\n",
       "      <th>gear</th>\n",
       "      <th>carb</th>\n",
       "    </tr>\n",
       "  </thead>\n",
       "  <tbody>\n",
       "    <tr>\n",
       "      <th>14</th>\n",
       "      <td>50.0</td>\n",
       "      <td>472.0</td>\n",
       "      <td>205</td>\n",
       "      <td>2.93</td>\n",
       "      <td>5.25</td>\n",
       "      <td>17.98</td>\n",
       "      <td>0</td>\n",
       "      <td>auto</td>\n",
       "      <td>3</td>\n",
       "      <td>4</td>\n",
       "    </tr>\n",
       "  </tbody>\n",
       "</table>\n",
       "</div>"
      ],
      "text/plain": [
       "     cyl   disp   hp  drat    wt   qsec  vs    am gear  carb\n",
       "14  50.0  472.0  205  2.93  5.25  17.98   0  auto    3     4"
      ]
     },
     "execution_count": 23,
     "metadata": {},
     "output_type": "execute_result"
    }
   ],
   "source": [
    "X.loc[X['cyl'] > 14.0]"
   ]
  },
  {
   "cell_type": "code",
   "execution_count": 24,
   "id": "43065051",
   "metadata": {},
   "outputs": [],
   "source": [
    "X.loc[14,'cyl'] = 14"
   ]
  },
  {
   "cell_type": "code",
   "execution_count": 25,
   "id": "ba12c50f",
   "metadata": {},
   "outputs": [
    {
     "data": {
      "text/plain": [
       "305.25"
      ]
     },
     "execution_count": 25,
     "metadata": {},
     "output_type": "execute_result"
    }
   ],
   "source": [
    "X.loc[X['hp'] > 305.25]\n",
    "X.loc[30,'hp'] = 305.25\n",
    "X.loc[30,'hp']"
   ]
  },
  {
   "cell_type": "code",
   "execution_count": 26,
   "id": "811bb3ad",
   "metadata": {
    "scrolled": true
   },
   "outputs": [
    {
     "data": {
      "text/plain": [
       "cyl      4.000\n",
       "disp    71.100\n",
       "hp      52.000\n",
       "drat     2.760\n",
       "wt       1.513\n",
       "qsec     0.100\n",
       "vs       0.000\n",
       "carb     1.000\n",
       "Name: min, dtype: float64"
      ]
     },
     "execution_count": 26,
     "metadata": {},
     "output_type": "execute_result"
    }
   ],
   "source": [
    "X_describe.loc['min']"
   ]
  },
  {
   "cell_type": "markdown",
   "id": "51238828",
   "metadata": {},
   "source": [
    "### 평균과 표준편차 활용"
   ]
  },
  {
   "cell_type": "code",
   "execution_count": 27,
   "id": "c819d758",
   "metadata": {},
   "outputs": [],
   "source": [
    "def outlier(data, column):\n",
    "    mean = data[column].mean()\n",
    "    std = data[column].std()\n",
    "    lowest = mean - 1.5*std\n",
    "    highest = mean + 1.5*std\n",
    "    print('최소 경계값:',lowest,' 최대 경계값:', highest)\n",
    "    outlier_index = data[column][(data[column] < lowest)|(data[column] > highest)].index\n",
    "    return outlier_index"
   ]
  },
  {
   "cell_type": "code",
   "execution_count": 28,
   "id": "5c131abf",
   "metadata": {},
   "outputs": [
    {
     "name": "stdout",
     "output_type": "stream",
     "text": [
      "최소 경계값: -2.8043094560577657  최대 경계값: 42.39618445605777\n"
     ]
    },
    {
     "data": {
      "text/plain": [
       "Int64Index([24], dtype='int64')"
      ]
     },
     "execution_count": 28,
     "metadata": {},
     "output_type": "execute_result"
    }
   ],
   "source": [
    "outlier(X, 'qsec')"
   ]
  },
  {
   "cell_type": "code",
   "execution_count": 29,
   "id": "1be5d553",
   "metadata": {},
   "outputs": [],
   "source": [
    "X.loc[24,'qsec'] = 42.4"
   ]
  },
  {
   "cell_type": "code",
   "execution_count": 30,
   "id": "415f0937",
   "metadata": {},
   "outputs": [
    {
     "name": "stdout",
     "output_type": "stream",
     "text": [
      "최소 경계값: 0.3897000335522218  최대 경계값: 5.235299966447778\n"
     ]
    },
    {
     "data": {
      "text/plain": [
       "Int64Index([29, 30], dtype='int64')"
      ]
     },
     "execution_count": 30,
     "metadata": {},
     "output_type": "execute_result"
    }
   ],
   "source": [
    "outlier(X, 'carb')"
   ]
  },
  {
   "cell_type": "code",
   "execution_count": 31,
   "id": "42071513",
   "metadata": {},
   "outputs": [],
   "source": [
    "X.loc[29,'carb'] = 5.235\n",
    "X.loc[30,'carb'] = 5.235"
   ]
  },
  {
   "cell_type": "markdown",
   "id": "9161aefb",
   "metadata": {},
   "source": [
    "## 데이터 스케일링 - 독립변수들의 범위 동일하게 만들기"
   ]
  },
  {
   "cell_type": "markdown",
   "id": "c9a1c446",
   "metadata": {},
   "source": [
    "#### 표준 크기변환(Standard Scaling) - 평균 0 표준편차 1\n",
    "#### 최소최대 크기변환(Min-Max Scaling) - min 0 max 1\n",
    "#### 로버스트 크기변환(Robust Scaling ) - 중앙값 0 IQR 1"
   ]
  },
  {
   "cell_type": "markdown",
   "id": "b15f29b1",
   "metadata": {},
   "source": [
    "### 표준 크기변환 : StandardScaler"
   ]
  },
  {
   "cell_type": "code",
   "execution_count": 32,
   "id": "f5a846d6",
   "metadata": {},
   "outputs": [],
   "source": [
    "# sklearn 패키지의 preprocessing 모듈에서 standardScaler 함수 가져오기\n",
    "from sklearn.preprocessing import StandardScaler\n",
    "\n",
    "# X 변수에서 qsec 열만 추출한 후, temp 변수에 저장하기\n",
    "temp = X[['qsec']]"
   ]
  },
  {
   "cell_type": "code",
   "execution_count": 33,
   "id": "a7d55af1",
   "metadata": {},
   "outputs": [
    {
     "data": {
      "text/plain": [
       "array([[-2.73141413e-01],\n",
       "       [-1.73554554e-01],\n",
       "       [ 1.09200992e-01],\n",
       "       [-3.18250037e+00],\n",
       "       [-1.73554554e-01],\n",
       "       [ 3.95513212e-01],\n",
       "       [-3.83398293e-01],\n",
       "       [ 3.56389804e-01],\n",
       "       [ 8.72107467e-01],\n",
       "       [ 5.40725524e-02],\n",
       "       [-7.04110215e-02],\n",
       "       [-1.05977757e-01],\n",
       "       [-7.04110215e-02],\n",
       "       [ 7.22449313e-04],\n",
       "       [-2.83422423e-03],\n",
       "       [-3.12876126e-02],\n",
       "       [-1.02421083e-01],\n",
       "       [ 2.62137955e-01],\n",
       "       [ 9.31959614e-02],\n",
       "       [ 3.38606436e-01],\n",
       "       [ 3.58168140e-01],\n",
       "       [-2.00229606e-01],\n",
       "       [-1.23761125e-01],\n",
       "       [-4.59866774e-01],\n",
       "       [ 4.33986417e+00],\n",
       "       [ 1.60772759e-01],\n",
       "       [-2.30461331e-01],\n",
       "       [-1.94894596e-01],\n",
       "       [-6.21695421e-01],\n",
       "       [-4.43861743e-01],\n",
       "       [-6.03912053e-01],\n",
       "       [ 1.07422656e-01]])"
      ]
     },
     "execution_count": 33,
     "metadata": {},
     "output_type": "execute_result"
    }
   ],
   "source": [
    "# StandardScaler 함수 호출하여 표준 크기변환 기능을 갖는 scaler라는 객체 만들기\n",
    "scaler = StandardScaler()\n",
    "\n",
    "# 표준 크기변환하는 scaler에게 fit_transform 명령으로 temp 변수의 크기변환 요청하기\n",
    "scaler.fit_transform(temp)"
   ]
  },
  {
   "cell_type": "code",
   "execution_count": 34,
   "id": "894ff4b3",
   "metadata": {},
   "outputs": [
    {
     "data": {
      "text/html": [
       "<div>\n",
       "<style scoped>\n",
       "    .dataframe tbody tr th:only-of-type {\n",
       "        vertical-align: middle;\n",
       "    }\n",
       "\n",
       "    .dataframe tbody tr th {\n",
       "        vertical-align: top;\n",
       "    }\n",
       "\n",
       "    .dataframe thead th {\n",
       "        text-align: right;\n",
       "    }\n",
       "</style>\n",
       "<table border=\"1\" class=\"dataframe\">\n",
       "  <thead>\n",
       "    <tr style=\"text-align: right;\">\n",
       "      <th></th>\n",
       "      <th>0</th>\n",
       "    </tr>\n",
       "  </thead>\n",
       "  <tbody>\n",
       "    <tr>\n",
       "      <th>count</th>\n",
       "      <td>3.200000e+01</td>\n",
       "    </tr>\n",
       "    <tr>\n",
       "      <th>mean</th>\n",
       "      <td>-6.461845e-16</td>\n",
       "    </tr>\n",
       "    <tr>\n",
       "      <th>std</th>\n",
       "      <td>1.016001e+00</td>\n",
       "    </tr>\n",
       "    <tr>\n",
       "      <th>min</th>\n",
       "      <td>-3.182500e+00</td>\n",
       "    </tr>\n",
       "    <tr>\n",
       "      <th>25%</th>\n",
       "      <td>-2.077875e-01</td>\n",
       "    </tr>\n",
       "    <tr>\n",
       "      <th>50%</th>\n",
       "      <td>-7.041102e-02</td>\n",
       "    </tr>\n",
       "    <tr>\n",
       "      <th>75%</th>\n",
       "      <td>1.220939e-01</td>\n",
       "    </tr>\n",
       "    <tr>\n",
       "      <th>max</th>\n",
       "      <td>4.339864e+00</td>\n",
       "    </tr>\n",
       "  </tbody>\n",
       "</table>\n",
       "</div>"
      ],
      "text/plain": [
       "                  0\n",
       "count  3.200000e+01\n",
       "mean  -6.461845e-16\n",
       "std    1.016001e+00\n",
       "min   -3.182500e+00\n",
       "25%   -2.077875e-01\n",
       "50%   -7.041102e-02\n",
       "75%    1.220939e-01\n",
       "max    4.339864e+00"
      ]
     },
     "execution_count": 34,
     "metadata": {},
     "output_type": "execute_result"
    }
   ],
   "source": [
    "# 표준 크기변환을 수행한 결과를 qsec_s_scaler 변수에 저장하기\n",
    "qsec_s_scaler = pd.DataFrame(scaler.fit_transform(temp))\n",
    "\n",
    "# qsec_s_scaler 변수의 기초통계량 확인하기\n",
    "qsec_s_scaler.describe()"
   ]
  },
  {
   "cell_type": "markdown",
   "id": "52c49371",
   "metadata": {},
   "source": [
    "### 최소-최대 크기변환 : MinMaxScaler"
   ]
  },
  {
   "cell_type": "code",
   "execution_count": 35,
   "id": "fa851835",
   "metadata": {},
   "outputs": [],
   "source": [
    "# sklearn 패키지의 preprocessing 모듈에서 MinMaxScaler 함수 가져오기\n",
    "from sklearn.preprocessing import MinMaxScaler\n",
    "\n",
    "# X 변수에서 qsec 열만 추출한 후, temp 변수에 저장하기\n",
    "temp = X[['qsec']]"
   ]
  },
  {
   "cell_type": "code",
   "execution_count": 36,
   "id": "77521df1",
   "metadata": {},
   "outputs": [
    {
     "data": {
      "text/html": [
       "<div>\n",
       "<style scoped>\n",
       "    .dataframe tbody tr th:only-of-type {\n",
       "        vertical-align: middle;\n",
       "    }\n",
       "\n",
       "    .dataframe tbody tr th {\n",
       "        vertical-align: top;\n",
       "    }\n",
       "\n",
       "    .dataframe thead th {\n",
       "        text-align: right;\n",
       "    }\n",
       "</style>\n",
       "<table border=\"1\" class=\"dataframe\">\n",
       "  <thead>\n",
       "    <tr style=\"text-align: right;\">\n",
       "      <th></th>\n",
       "      <th>0</th>\n",
       "    </tr>\n",
       "  </thead>\n",
       "  <tbody>\n",
       "    <tr>\n",
       "      <th>0</th>\n",
       "      <td>0.386761</td>\n",
       "    </tr>\n",
       "    <tr>\n",
       "      <th>1</th>\n",
       "      <td>0.400000</td>\n",
       "    </tr>\n",
       "    <tr>\n",
       "      <th>2</th>\n",
       "      <td>0.437589</td>\n",
       "    </tr>\n",
       "    <tr>\n",
       "      <th>3</th>\n",
       "      <td>0.000000</td>\n",
       "    </tr>\n",
       "    <tr>\n",
       "      <th>4</th>\n",
       "      <td>0.400000</td>\n",
       "    </tr>\n",
       "  </tbody>\n",
       "</table>\n",
       "</div>"
      ],
      "text/plain": [
       "          0\n",
       "0  0.386761\n",
       "1  0.400000\n",
       "2  0.437589\n",
       "3  0.000000\n",
       "4  0.400000"
      ]
     },
     "execution_count": 36,
     "metadata": {},
     "output_type": "execute_result"
    }
   ],
   "source": [
    "# MinMaxScaler 함수를 호출하여 최소-최대 크기변환 기능을 갖는 scaler 객체 만들기\n",
    "scaler = MinMaxScaler()\n",
    "\n",
    "# 최소최대 크기변환 기능이 있는 scaler에게 temp 변수의 크기변환을 요청하고\n",
    "# 변환결과는 qsec_m_scaler 변수에 저장하기\n",
    "qsec_m_scaler = pd.DataFrame(scaler.fit_transform(temp))\n",
    "qsec_m_scaler.head()"
   ]
  },
  {
   "cell_type": "code",
   "execution_count": 37,
   "id": "8757ef04",
   "metadata": {},
   "outputs": [
    {
     "data": {
      "text/html": [
       "<div>\n",
       "<style scoped>\n",
       "    .dataframe tbody tr th:only-of-type {\n",
       "        vertical-align: middle;\n",
       "    }\n",
       "\n",
       "    .dataframe tbody tr th {\n",
       "        vertical-align: top;\n",
       "    }\n",
       "\n",
       "    .dataframe thead th {\n",
       "        text-align: right;\n",
       "    }\n",
       "</style>\n",
       "<table border=\"1\" class=\"dataframe\">\n",
       "  <thead>\n",
       "    <tr style=\"text-align: right;\">\n",
       "      <th></th>\n",
       "      <th>0</th>\n",
       "    </tr>\n",
       "  </thead>\n",
       "  <tbody>\n",
       "    <tr>\n",
       "      <th>count</th>\n",
       "      <td>32.000000</td>\n",
       "    </tr>\n",
       "    <tr>\n",
       "      <th>mean</th>\n",
       "      <td>0.423072</td>\n",
       "    </tr>\n",
       "    <tr>\n",
       "      <th>std</th>\n",
       "      <td>0.135064</td>\n",
       "    </tr>\n",
       "    <tr>\n",
       "      <th>min</th>\n",
       "      <td>0.000000</td>\n",
       "    </tr>\n",
       "    <tr>\n",
       "      <th>25%</th>\n",
       "      <td>0.395449</td>\n",
       "    </tr>\n",
       "    <tr>\n",
       "      <th>50%</th>\n",
       "      <td>0.413712</td>\n",
       "    </tr>\n",
       "    <tr>\n",
       "      <th>75%</th>\n",
       "      <td>0.439303</td>\n",
       "    </tr>\n",
       "    <tr>\n",
       "      <th>max</th>\n",
       "      <td>1.000000</td>\n",
       "    </tr>\n",
       "  </tbody>\n",
       "</table>\n",
       "</div>"
      ],
      "text/plain": [
       "               0\n",
       "count  32.000000\n",
       "mean    0.423072\n",
       "std     0.135064\n",
       "min     0.000000\n",
       "25%     0.395449\n",
       "50%     0.413712\n",
       "75%     0.439303\n",
       "max     1.000000"
      ]
     },
     "execution_count": 37,
     "metadata": {},
     "output_type": "execute_result"
    }
   ],
   "source": [
    "# qsec_m_scaler 변수의 기초 통계량 확인하기\n",
    "qsec_m_scaler.describe()"
   ]
  },
  {
   "cell_type": "markdown",
   "id": "ce635359",
   "metadata": {},
   "source": [
    "### 로버스트 크기변환 : RobustScaler"
   ]
  },
  {
   "cell_type": "code",
   "execution_count": 38,
   "id": "a2201409",
   "metadata": {},
   "outputs": [],
   "source": [
    "# sklearn 패키지의 preproessing 모듈의 RobustScaler 함수를 가져오기\n",
    "from sklearn.preprocessing import RobustScaler\n",
    "\n",
    "# X 변수에서 qsec 열만 추출한 후, temp 변수에 저장하기\n",
    "temp = X[['qsec']]"
   ]
  },
  {
   "cell_type": "code",
   "execution_count": 39,
   "id": "bd145bcb",
   "metadata": {},
   "outputs": [
    {
     "data": {
      "text/html": [
       "<div>\n",
       "<style scoped>\n",
       "    .dataframe tbody tr th:only-of-type {\n",
       "        vertical-align: middle;\n",
       "    }\n",
       "\n",
       "    .dataframe tbody tr th {\n",
       "        vertical-align: top;\n",
       "    }\n",
       "\n",
       "    .dataframe thead th {\n",
       "        text-align: right;\n",
       "    }\n",
       "</style>\n",
       "<table border=\"1\" class=\"dataframe\">\n",
       "  <thead>\n",
       "    <tr style=\"text-align: right;\">\n",
       "      <th></th>\n",
       "      <th>0</th>\n",
       "    </tr>\n",
       "  </thead>\n",
       "  <tbody>\n",
       "    <tr>\n",
       "      <th>0</th>\n",
       "      <td>-0.614555</td>\n",
       "    </tr>\n",
       "    <tr>\n",
       "      <th>1</th>\n",
       "      <td>-0.312668</td>\n",
       "    </tr>\n",
       "    <tr>\n",
       "      <th>2</th>\n",
       "      <td>0.544474</td>\n",
       "    </tr>\n",
       "    <tr>\n",
       "      <th>3</th>\n",
       "      <td>-9.433962</td>\n",
       "    </tr>\n",
       "    <tr>\n",
       "      <th>4</th>\n",
       "      <td>-0.312668</td>\n",
       "    </tr>\n",
       "  </tbody>\n",
       "</table>\n",
       "</div>"
      ],
      "text/plain": [
       "          0\n",
       "0 -0.614555\n",
       "1 -0.312668\n",
       "2  0.544474\n",
       "3 -9.433962\n",
       "4 -0.312668"
      ]
     },
     "execution_count": 39,
     "metadata": {},
     "output_type": "execute_result"
    }
   ],
   "source": [
    "# RobustScaler 함수를 호출하여 로버스트 크기변환 기능을 갖는 scaler 객체 만들기\n",
    "scaler = RobustScaler()\n",
    "\n",
    "# 로버스트 크기변환 기능이 있는 scaler에게 temp 변수의 크기변환을 요청하고\n",
    "# 변환 결과는 qsec_r_scaler 변수에 저장하기\n",
    "qsec_r_scaler = pd.DataFrame(scaler.fit_transform(temp))\n",
    "\n",
    "# 로버스트 크기변환 결과인 qsec_r_scaler 변수 확인하기 \n",
    "qsec_r_scaler.head()"
   ]
  },
  {
   "cell_type": "code",
   "execution_count": 40,
   "id": "77e5ea5c",
   "metadata": {},
   "outputs": [
    {
     "data": {
      "text/html": [
       "<div>\n",
       "<style scoped>\n",
       "    .dataframe tbody tr th:only-of-type {\n",
       "        vertical-align: middle;\n",
       "    }\n",
       "\n",
       "    .dataframe tbody tr th {\n",
       "        vertical-align: top;\n",
       "    }\n",
       "\n",
       "    .dataframe thead th {\n",
       "        text-align: right;\n",
       "    }\n",
       "</style>\n",
       "<table border=\"1\" class=\"dataframe\">\n",
       "  <thead>\n",
       "    <tr style=\"text-align: right;\">\n",
       "      <th></th>\n",
       "      <th>0</th>\n",
       "    </tr>\n",
       "  </thead>\n",
       "  <tbody>\n",
       "    <tr>\n",
       "      <th>count</th>\n",
       "      <td>32.000000</td>\n",
       "    </tr>\n",
       "    <tr>\n",
       "      <th>mean</th>\n",
       "      <td>0.213443</td>\n",
       "    </tr>\n",
       "    <tr>\n",
       "      <th>std</th>\n",
       "      <td>3.079897</td>\n",
       "    </tr>\n",
       "    <tr>\n",
       "      <th>min</th>\n",
       "      <td>-9.433962</td>\n",
       "    </tr>\n",
       "    <tr>\n",
       "      <th>25%</th>\n",
       "      <td>-0.416442</td>\n",
       "    </tr>\n",
       "    <tr>\n",
       "      <th>50%</th>\n",
       "      <td>0.000000</td>\n",
       "    </tr>\n",
       "    <tr>\n",
       "      <th>75%</th>\n",
       "      <td>0.583558</td>\n",
       "    </tr>\n",
       "    <tr>\n",
       "      <th>max</th>\n",
       "      <td>13.369272</td>\n",
       "    </tr>\n",
       "  </tbody>\n",
       "</table>\n",
       "</div>"
      ],
      "text/plain": [
       "               0\n",
       "count  32.000000\n",
       "mean    0.213443\n",
       "std     3.079897\n",
       "min    -9.433962\n",
       "25%    -0.416442\n",
       "50%     0.000000\n",
       "75%     0.583558\n",
       "max    13.369272"
      ]
     },
     "execution_count": 40,
     "metadata": {},
     "output_type": "execute_result"
    }
   ],
   "source": [
    "# qsec_r_scaler 변수의 기초통계량 확인하기\n",
    "qsec_r_scaler.describe()"
   ]
  },
  {
   "cell_type": "markdown",
   "id": "3b7656c2",
   "metadata": {},
   "source": [
    "## 데이터 타입 변경하기"
   ]
  },
  {
   "cell_type": "code",
   "execution_count": 41,
   "id": "b317a477",
   "metadata": {},
   "outputs": [
    {
     "name": "stdout",
     "output_type": "stream",
     "text": [
      "<class 'pandas.core.frame.DataFrame'>\n",
      "RangeIndex: 32 entries, 0 to 31\n",
      "Data columns (total 10 columns):\n",
      " #   Column  Non-Null Count  Dtype  \n",
      "---  ------  --------------  -----  \n",
      " 0   cyl     32 non-null     float64\n",
      " 1   disp    32 non-null     float64\n",
      " 2   hp      32 non-null     float64\n",
      " 3   drat    32 non-null     float64\n",
      " 4   wt      32 non-null     float64\n",
      " 5   qsec    32 non-null     float64\n",
      " 6   vs      32 non-null     int64  \n",
      " 7   am      32 non-null     object \n",
      " 8   gear    32 non-null     object \n",
      " 9   carb    32 non-null     float64\n",
      "dtypes: float64(7), int64(1), object(2)\n",
      "memory usage: 2.6+ KB\n"
     ]
    }
   ],
   "source": [
    "# X 변수의 요약정보를 확인하기\n",
    "X.info()"
   ]
  },
  {
   "cell_type": "code",
   "execution_count": 42,
   "id": "39dfe9fb",
   "metadata": {},
   "outputs": [
    {
     "data": {
      "text/plain": [
       "dtype('int64')"
      ]
     },
     "execution_count": 42,
     "metadata": {},
     "output_type": "execute_result"
    }
   ],
   "source": [
    "# gear 열의 데이터 타입을 int64로 변경한 후, 다시 gear 열에 저장하기\n",
    "X['gear'] = X['gear'].astype('int64')\n",
    "\n",
    "# gear 열의 데이터 타입(dtype) 확인하기\n",
    "X['gear'].dtype"
   ]
  },
  {
   "cell_type": "markdown",
   "id": "2f8776d1",
   "metadata": {},
   "source": [
    "## 범주형을 수치형으로 변경하기: 인코딩 Encoding\n",
    "\n",
    "### 한글이나 영문 등의 문자열 데이터를 컴퓨터가 이해할 수 있는 숫자형으로 변경하는 작업\n",
    "#### - 원핫 인코딩(One-Hot Encoding) - 범주형 데이터를 개별 열로 만들고, 각 열에 해당하는 값들은 1, 해당하지 않는 값들은 0으로 설정\n",
    "#### - 라벨 인코딩(Label Encoding) - 범주형 데이터에 일련번호를 부여하여 수치형 데이터로 변경"
   ]
  },
  {
   "cell_type": "markdown",
   "id": "2d69418b",
   "metadata": {},
   "source": [
    "### 원핫 인코딩: One-Hot Encoding"
   ]
  },
  {
   "cell_type": "code",
   "execution_count": 43,
   "id": "4e47901a",
   "metadata": {},
   "outputs": [
    {
     "name": "stdout",
     "output_type": "stream",
     "text": [
      "   cyl   disp     hp  drat     wt   qsec  vs      am  gear  carb\n",
      "0  6.0  160.0  110.0  3.90  2.620  16.46   0  manual     4   4.0\n",
      "1  6.0  160.0  110.0  3.90  2.875  17.02   0  manual     4   4.0\n",
      "2  4.0  108.0   93.0  3.85  2.320  18.61   1  manual     4   1.0\n",
      "3  6.0  258.0  110.0  3.08  3.215   0.10   1    auto     3   1.0\n",
      "4  8.0  360.0  175.0  3.15  3.440  17.02   0    auto     3   2.0\n"
     ]
    },
    {
     "data": {
      "text/plain": [
       "array(['manual', 'auto'], dtype=object)"
      ]
     },
     "execution_count": 43,
     "metadata": {},
     "output_type": "execute_result"
    }
   ],
   "source": [
    "# X 변수의 상위 5개 행 확인하기\n",
    "print(X.head())\n",
    "\n",
    "# am 열에서 중복 제거한 값들을 확인하기\n",
    "X['am'].unique()"
   ]
  },
  {
   "cell_type": "code",
   "execution_count": 44,
   "id": "58797dbb",
   "metadata": {},
   "outputs": [
    {
     "data": {
      "text/html": [
       "<div>\n",
       "<style scoped>\n",
       "    .dataframe tbody tr th:only-of-type {\n",
       "        vertical-align: middle;\n",
       "    }\n",
       "\n",
       "    .dataframe tbody tr th {\n",
       "        vertical-align: top;\n",
       "    }\n",
       "\n",
       "    .dataframe thead th {\n",
       "        text-align: right;\n",
       "    }\n",
       "</style>\n",
       "<table border=\"1\" class=\"dataframe\">\n",
       "  <thead>\n",
       "    <tr style=\"text-align: right;\">\n",
       "      <th></th>\n",
       "      <th>auto</th>\n",
       "      <th>manual</th>\n",
       "    </tr>\n",
       "  </thead>\n",
       "  <tbody>\n",
       "    <tr>\n",
       "      <th>0</th>\n",
       "      <td>0</td>\n",
       "      <td>1</td>\n",
       "    </tr>\n",
       "    <tr>\n",
       "      <th>1</th>\n",
       "      <td>0</td>\n",
       "      <td>1</td>\n",
       "    </tr>\n",
       "    <tr>\n",
       "      <th>2</th>\n",
       "      <td>0</td>\n",
       "      <td>1</td>\n",
       "    </tr>\n",
       "    <tr>\n",
       "      <th>3</th>\n",
       "      <td>1</td>\n",
       "      <td>0</td>\n",
       "    </tr>\n",
       "    <tr>\n",
       "      <th>4</th>\n",
       "      <td>1</td>\n",
       "      <td>0</td>\n",
       "    </tr>\n",
       "  </tbody>\n",
       "</table>\n",
       "</div>"
      ],
      "text/plain": [
       "   auto  manual\n",
       "0     0       1\n",
       "1     0       1\n",
       "2     0       1\n",
       "3     1       0\n",
       "4     1       0"
      ]
     },
     "execution_count": 44,
     "metadata": {},
     "output_type": "execute_result"
    }
   ],
   "source": [
    "# X 변수의 am 열에 대해서 원핫 인코딩 수행하기\n",
    "pd.get_dummies(X['am']).head()"
   ]
  },
  {
   "cell_type": "code",
   "execution_count": 45,
   "id": "6d717051",
   "metadata": {},
   "outputs": [
    {
     "data": {
      "text/html": [
       "<div>\n",
       "<style scoped>\n",
       "    .dataframe tbody tr th:only-of-type {\n",
       "        vertical-align: middle;\n",
       "    }\n",
       "\n",
       "    .dataframe tbody tr th {\n",
       "        vertical-align: top;\n",
       "    }\n",
       "\n",
       "    .dataframe thead th {\n",
       "        text-align: right;\n",
       "    }\n",
       "</style>\n",
       "<table border=\"1\" class=\"dataframe\">\n",
       "  <thead>\n",
       "    <tr style=\"text-align: right;\">\n",
       "      <th></th>\n",
       "      <th>manual</th>\n",
       "    </tr>\n",
       "  </thead>\n",
       "  <tbody>\n",
       "    <tr>\n",
       "      <th>0</th>\n",
       "      <td>1</td>\n",
       "    </tr>\n",
       "    <tr>\n",
       "      <th>1</th>\n",
       "      <td>1</td>\n",
       "    </tr>\n",
       "    <tr>\n",
       "      <th>2</th>\n",
       "      <td>1</td>\n",
       "    </tr>\n",
       "    <tr>\n",
       "      <th>3</th>\n",
       "      <td>0</td>\n",
       "    </tr>\n",
       "    <tr>\n",
       "      <th>4</th>\n",
       "      <td>0</td>\n",
       "    </tr>\n",
       "  </tbody>\n",
       "</table>\n",
       "</div>"
      ],
      "text/plain": [
       "   manual\n",
       "0       1\n",
       "1       1\n",
       "2       1\n",
       "3       0\n",
       "4       0"
      ]
     },
     "execution_count": 45,
     "metadata": {},
     "output_type": "execute_result"
    }
   ],
   "source": [
    "# X 변수의 am 열에 원핫 인코딩 수행하기. 단, 생성된 첫 번째 열은 삭제하기\n",
    "pd.get_dummies(X['am'], drop_first=True).head()"
   ]
  },
  {
   "cell_type": "code",
   "execution_count": 46,
   "id": "e98c623b",
   "metadata": {},
   "outputs": [
    {
     "name": "stdout",
     "output_type": "stream",
     "text": [
      "<class 'pandas.core.frame.DataFrame'>\n",
      "RangeIndex: 32 entries, 0 to 31\n",
      "Data columns (total 10 columns):\n",
      " #   Column  Non-Null Count  Dtype  \n",
      "---  ------  --------------  -----  \n",
      " 0   cyl     32 non-null     float64\n",
      " 1   disp    32 non-null     float64\n",
      " 2   hp      32 non-null     float64\n",
      " 3   drat    32 non-null     float64\n",
      " 4   wt      32 non-null     float64\n",
      " 5   qsec    32 non-null     float64\n",
      " 6   vs      32 non-null     int64  \n",
      " 7   am      32 non-null     object \n",
      " 8   gear    32 non-null     int64  \n",
      " 9   carb    32 non-null     float64\n",
      "dtypes: float64(7), int64(2), object(1)\n",
      "memory usage: 2.6+ KB\n"
     ]
    }
   ],
   "source": [
    "# X 변수의 데이터 타입 확인하기\n",
    "X.info()"
   ]
  },
  {
   "cell_type": "code",
   "execution_count": 47,
   "id": "ef169bb5",
   "metadata": {},
   "outputs": [
    {
     "data": {
      "text/html": [
       "<div>\n",
       "<style scoped>\n",
       "    .dataframe tbody tr th:only-of-type {\n",
       "        vertical-align: middle;\n",
       "    }\n",
       "\n",
       "    .dataframe tbody tr th {\n",
       "        vertical-align: top;\n",
       "    }\n",
       "\n",
       "    .dataframe thead th {\n",
       "        text-align: right;\n",
       "    }\n",
       "</style>\n",
       "<table border=\"1\" class=\"dataframe\">\n",
       "  <thead>\n",
       "    <tr style=\"text-align: right;\">\n",
       "      <th></th>\n",
       "      <th>cyl</th>\n",
       "      <th>disp</th>\n",
       "      <th>hp</th>\n",
       "      <th>drat</th>\n",
       "      <th>wt</th>\n",
       "      <th>qsec</th>\n",
       "      <th>vs</th>\n",
       "      <th>gear</th>\n",
       "      <th>carb</th>\n",
       "      <th>am_manual</th>\n",
       "    </tr>\n",
       "  </thead>\n",
       "  <tbody>\n",
       "    <tr>\n",
       "      <th>0</th>\n",
       "      <td>6.0</td>\n",
       "      <td>160.0</td>\n",
       "      <td>110.0</td>\n",
       "      <td>3.90</td>\n",
       "      <td>2.620</td>\n",
       "      <td>16.46</td>\n",
       "      <td>0</td>\n",
       "      <td>4</td>\n",
       "      <td>4.0</td>\n",
       "      <td>1</td>\n",
       "    </tr>\n",
       "    <tr>\n",
       "      <th>1</th>\n",
       "      <td>6.0</td>\n",
       "      <td>160.0</td>\n",
       "      <td>110.0</td>\n",
       "      <td>3.90</td>\n",
       "      <td>2.875</td>\n",
       "      <td>17.02</td>\n",
       "      <td>0</td>\n",
       "      <td>4</td>\n",
       "      <td>4.0</td>\n",
       "      <td>1</td>\n",
       "    </tr>\n",
       "    <tr>\n",
       "      <th>2</th>\n",
       "      <td>4.0</td>\n",
       "      <td>108.0</td>\n",
       "      <td>93.0</td>\n",
       "      <td>3.85</td>\n",
       "      <td>2.320</td>\n",
       "      <td>18.61</td>\n",
       "      <td>1</td>\n",
       "      <td>4</td>\n",
       "      <td>1.0</td>\n",
       "      <td>1</td>\n",
       "    </tr>\n",
       "    <tr>\n",
       "      <th>3</th>\n",
       "      <td>6.0</td>\n",
       "      <td>258.0</td>\n",
       "      <td>110.0</td>\n",
       "      <td>3.08</td>\n",
       "      <td>3.215</td>\n",
       "      <td>0.10</td>\n",
       "      <td>1</td>\n",
       "      <td>3</td>\n",
       "      <td>1.0</td>\n",
       "      <td>0</td>\n",
       "    </tr>\n",
       "    <tr>\n",
       "      <th>4</th>\n",
       "      <td>8.0</td>\n",
       "      <td>360.0</td>\n",
       "      <td>175.0</td>\n",
       "      <td>3.15</td>\n",
       "      <td>3.440</td>\n",
       "      <td>17.02</td>\n",
       "      <td>0</td>\n",
       "      <td>3</td>\n",
       "      <td>2.0</td>\n",
       "      <td>0</td>\n",
       "    </tr>\n",
       "  </tbody>\n",
       "</table>\n",
       "</div>"
      ],
      "text/plain": [
       "   cyl   disp     hp  drat     wt   qsec  vs  gear  carb  am_manual\n",
       "0  6.0  160.0  110.0  3.90  2.620  16.46   0     4   4.0          1\n",
       "1  6.0  160.0  110.0  3.90  2.875  17.02   0     4   4.0          1\n",
       "2  4.0  108.0   93.0  3.85  2.320  18.61   1     4   1.0          1\n",
       "3  6.0  258.0  110.0  3.08  3.215   0.10   1     3   1.0          0\n",
       "4  8.0  360.0  175.0  3.15  3.440  17.02   0     3   2.0          0"
      ]
     },
     "execution_count": 47,
     "metadata": {},
     "output_type": "execute_result"
    }
   ],
   "source": [
    "# X 변수의 전체 열을 대상으로 원핫 인코딩 수행하기\n",
    "pd.get_dummies(X, drop_first=True).head()"
   ]
  },
  {
   "cell_type": "markdown",
   "id": "aac06e53",
   "metadata": {},
   "source": [
    "pd.get_dummies() 외에 sklearn.OneHotEncoder()를 활용할 수도 있음. OneHotEncoder()는 범주형 외에 연속형 변수까지 모두 인코딩을 수행하며 모델 객체와 모델을 학습하는 코드를 추가로 작성해야 함. 따라서 단순히 함수 호출만으로 범주형 데이터를 자동으로 골라서 인코딩하는 get_dummies() 사용을 추천"
   ]
  },
  {
   "cell_type": "markdown",
   "id": "1c3904d6",
   "metadata": {},
   "source": [
    "### 라벨 인코딩: Label Encoding"
   ]
  },
  {
   "cell_type": "code",
   "execution_count": 48,
   "id": "fff977f3",
   "metadata": {},
   "outputs": [],
   "source": [
    "# sklearn 라이브러리에서 LabelEncoder 함수를 가져오기\n",
    "from sklearn.preprocessing import LabelEncoder\n",
    "\n",
    "# LabelEncoder 호출을 통해 인코딩 기능을 갖는 encoder 변수 만들기\n",
    "encoder = LabelEncoder()"
   ]
  },
  {
   "cell_type": "code",
   "execution_count": 49,
   "id": "e492a9a7",
   "metadata": {},
   "outputs": [
    {
     "data": {
      "text/plain": [
       "array([1, 1, 1, 0, 0, 0, 0, 0, 0, 0, 0, 0, 0, 0, 0, 0, 0, 1, 1, 1, 0, 0,\n",
       "       0, 0, 0, 1, 1, 1, 1, 1, 1, 1])"
      ]
     },
     "execution_count": 49,
     "metadata": {},
     "output_type": "execute_result"
    }
   ],
   "source": [
    "# encoder를 통해 am 열 값에 대해 라벨 인코딩 수행하기\n",
    "encoder.fit_transform(X['am']) # 인코더에 'am' 값을 넣어서 변환"
   ]
  },
  {
   "cell_type": "code",
   "execution_count": 50,
   "id": "bbb2cbd3",
   "metadata": {},
   "outputs": [
    {
     "name": "stdout",
     "output_type": "stream",
     "text": [
      "[0 1 2] ['apple', 'banana', 'grape']\n"
     ]
    }
   ],
   "source": [
    "# 3가지 과일이 들어있는 fruit 변수 만들기\n",
    "fruit = ['apple','banana','grape']\n",
    "\n",
    "# LabelEncoder 호출을 통해 라벨 인코딩 기능을 갖는 encoder 변수 만들기\n",
    "encoder = LabelEncoder()\n",
    "\n",
    "# encoder를 통해 fruit 변수에 대한 라벨 인코딩 수행 후, 결과는 fruit_new에 저장하기\n",
    "fruit_new = encoder.fit_transform(fruit)\n",
    "\n",
    "# 기존의 fruit 변수와 라벨 인코딩한 fruit_new 변수를 비교해보기\n",
    "print(fruit_new, fruit)"
   ]
  },
  {
   "cell_type": "markdown",
   "id": "a0002cc0",
   "metadata": {},
   "source": [
    "### 수동 인코딩: Replace"
   ]
  },
  {
   "cell_type": "code",
   "execution_count": 51,
   "id": "50440209",
   "metadata": {},
   "outputs": [
    {
     "data": {
      "text/html": [
       "<div>\n",
       "<style scoped>\n",
       "    .dataframe tbody tr th:only-of-type {\n",
       "        vertical-align: middle;\n",
       "    }\n",
       "\n",
       "    .dataframe tbody tr th {\n",
       "        vertical-align: top;\n",
       "    }\n",
       "\n",
       "    .dataframe thead th {\n",
       "        text-align: right;\n",
       "    }\n",
       "</style>\n",
       "<table border=\"1\" class=\"dataframe\">\n",
       "  <thead>\n",
       "    <tr style=\"text-align: right;\">\n",
       "      <th></th>\n",
       "      <th>cyl</th>\n",
       "      <th>disp</th>\n",
       "      <th>hp</th>\n",
       "      <th>drat</th>\n",
       "      <th>wt</th>\n",
       "      <th>qsec</th>\n",
       "      <th>vs</th>\n",
       "      <th>am</th>\n",
       "      <th>gear</th>\n",
       "      <th>carb</th>\n",
       "      <th>am_new</th>\n",
       "    </tr>\n",
       "  </thead>\n",
       "  <tbody>\n",
       "    <tr>\n",
       "      <th>0</th>\n",
       "      <td>6.0</td>\n",
       "      <td>160.0</td>\n",
       "      <td>110.0</td>\n",
       "      <td>3.90</td>\n",
       "      <td>2.620</td>\n",
       "      <td>16.46</td>\n",
       "      <td>0</td>\n",
       "      <td>manual</td>\n",
       "      <td>4</td>\n",
       "      <td>4.0</td>\n",
       "      <td>0</td>\n",
       "    </tr>\n",
       "    <tr>\n",
       "      <th>1</th>\n",
       "      <td>6.0</td>\n",
       "      <td>160.0</td>\n",
       "      <td>110.0</td>\n",
       "      <td>3.90</td>\n",
       "      <td>2.875</td>\n",
       "      <td>17.02</td>\n",
       "      <td>0</td>\n",
       "      <td>manual</td>\n",
       "      <td>4</td>\n",
       "      <td>4.0</td>\n",
       "      <td>0</td>\n",
       "    </tr>\n",
       "    <tr>\n",
       "      <th>2</th>\n",
       "      <td>4.0</td>\n",
       "      <td>108.0</td>\n",
       "      <td>93.0</td>\n",
       "      <td>3.85</td>\n",
       "      <td>2.320</td>\n",
       "      <td>18.61</td>\n",
       "      <td>1</td>\n",
       "      <td>manual</td>\n",
       "      <td>4</td>\n",
       "      <td>1.0</td>\n",
       "      <td>0</td>\n",
       "    </tr>\n",
       "    <tr>\n",
       "      <th>3</th>\n",
       "      <td>6.0</td>\n",
       "      <td>258.0</td>\n",
       "      <td>110.0</td>\n",
       "      <td>3.08</td>\n",
       "      <td>3.215</td>\n",
       "      <td>0.10</td>\n",
       "      <td>1</td>\n",
       "      <td>auto</td>\n",
       "      <td>3</td>\n",
       "      <td>1.0</td>\n",
       "      <td>1</td>\n",
       "    </tr>\n",
       "    <tr>\n",
       "      <th>4</th>\n",
       "      <td>8.0</td>\n",
       "      <td>360.0</td>\n",
       "      <td>175.0</td>\n",
       "      <td>3.15</td>\n",
       "      <td>3.440</td>\n",
       "      <td>17.02</td>\n",
       "      <td>0</td>\n",
       "      <td>auto</td>\n",
       "      <td>3</td>\n",
       "      <td>2.0</td>\n",
       "      <td>1</td>\n",
       "    </tr>\n",
       "  </tbody>\n",
       "</table>\n",
       "</div>"
      ],
      "text/plain": [
       "   cyl   disp     hp  drat     wt   qsec  vs      am  gear  carb  am_new\n",
       "0  6.0  160.0  110.0  3.90  2.620  16.46   0  manual     4   4.0       0\n",
       "1  6.0  160.0  110.0  3.90  2.875  17.02   0  manual     4   4.0       0\n",
       "2  4.0  108.0   93.0  3.85  2.320  18.61   1  manual     4   1.0       0\n",
       "3  6.0  258.0  110.0  3.08  3.215   0.10   1    auto     3   1.0       1\n",
       "4  8.0  360.0  175.0  3.15  3.440  17.02   0    auto     3   2.0       1"
      ]
     },
     "execution_count": 51,
     "metadata": {},
     "output_type": "execute_result"
    }
   ],
   "source": [
    "# am 열에서 manual은 0으로, auto는 1로 변경한 후 새로운 am_new 열에 저장하기\n",
    "X['am_new'] = X['am'].replace('manual',0).replace('auto',1)\n",
    "\n",
    "# X 변수의 am_new 열을 확인하기\n",
    "X.head()"
   ]
  },
  {
   "cell_type": "code",
   "execution_count": 52,
   "id": "a78c68d4",
   "metadata": {},
   "outputs": [
    {
     "data": {
      "text/html": [
       "<div>\n",
       "<style scoped>\n",
       "    .dataframe tbody tr th:only-of-type {\n",
       "        vertical-align: middle;\n",
       "    }\n",
       "\n",
       "    .dataframe tbody tr th {\n",
       "        vertical-align: top;\n",
       "    }\n",
       "\n",
       "    .dataframe thead th {\n",
       "        text-align: right;\n",
       "    }\n",
       "</style>\n",
       "<table border=\"1\" class=\"dataframe\">\n",
       "  <thead>\n",
       "    <tr style=\"text-align: right;\">\n",
       "      <th></th>\n",
       "      <th>cyl</th>\n",
       "      <th>disp</th>\n",
       "      <th>hp</th>\n",
       "      <th>drat</th>\n",
       "      <th>wt</th>\n",
       "      <th>qsec</th>\n",
       "      <th>vs</th>\n",
       "      <th>gear</th>\n",
       "      <th>carb</th>\n",
       "      <th>am_new</th>\n",
       "    </tr>\n",
       "  </thead>\n",
       "  <tbody>\n",
       "    <tr>\n",
       "      <th>0</th>\n",
       "      <td>6.0</td>\n",
       "      <td>160.0</td>\n",
       "      <td>110.0</td>\n",
       "      <td>3.90</td>\n",
       "      <td>2.620</td>\n",
       "      <td>16.46</td>\n",
       "      <td>0</td>\n",
       "      <td>4</td>\n",
       "      <td>4.0</td>\n",
       "      <td>0</td>\n",
       "    </tr>\n",
       "    <tr>\n",
       "      <th>1</th>\n",
       "      <td>6.0</td>\n",
       "      <td>160.0</td>\n",
       "      <td>110.0</td>\n",
       "      <td>3.90</td>\n",
       "      <td>2.875</td>\n",
       "      <td>17.02</td>\n",
       "      <td>0</td>\n",
       "      <td>4</td>\n",
       "      <td>4.0</td>\n",
       "      <td>0</td>\n",
       "    </tr>\n",
       "    <tr>\n",
       "      <th>2</th>\n",
       "      <td>4.0</td>\n",
       "      <td>108.0</td>\n",
       "      <td>93.0</td>\n",
       "      <td>3.85</td>\n",
       "      <td>2.320</td>\n",
       "      <td>18.61</td>\n",
       "      <td>1</td>\n",
       "      <td>4</td>\n",
       "      <td>1.0</td>\n",
       "      <td>0</td>\n",
       "    </tr>\n",
       "    <tr>\n",
       "      <th>3</th>\n",
       "      <td>6.0</td>\n",
       "      <td>258.0</td>\n",
       "      <td>110.0</td>\n",
       "      <td>3.08</td>\n",
       "      <td>3.215</td>\n",
       "      <td>0.10</td>\n",
       "      <td>1</td>\n",
       "      <td>3</td>\n",
       "      <td>1.0</td>\n",
       "      <td>1</td>\n",
       "    </tr>\n",
       "    <tr>\n",
       "      <th>4</th>\n",
       "      <td>8.0</td>\n",
       "      <td>360.0</td>\n",
       "      <td>175.0</td>\n",
       "      <td>3.15</td>\n",
       "      <td>3.440</td>\n",
       "      <td>17.02</td>\n",
       "      <td>0</td>\n",
       "      <td>3</td>\n",
       "      <td>2.0</td>\n",
       "      <td>1</td>\n",
       "    </tr>\n",
       "  </tbody>\n",
       "</table>\n",
       "</div>"
      ],
      "text/plain": [
       "   cyl   disp     hp  drat     wt   qsec  vs  gear  carb  am_new\n",
       "0  6.0  160.0  110.0  3.90  2.620  16.46   0     4   4.0       0\n",
       "1  6.0  160.0  110.0  3.90  2.875  17.02   0     4   4.0       0\n",
       "2  4.0  108.0   93.0  3.85  2.320  18.61   1     4   1.0       0\n",
       "3  6.0  258.0  110.0  3.08  3.215   0.10   1     3   1.0       1\n",
       "4  8.0  360.0  175.0  3.15  3.440  17.02   0     3   2.0       1"
      ]
     },
     "execution_count": 52,
     "metadata": {},
     "output_type": "execute_result"
    }
   ],
   "source": [
    "# X 변수에서 am 열을 삭제한 후, X 변수에 다시 저장하기\n",
    "X = X.drop(columns = ['am'])\n",
    "\n",
    "# X 변수의 상위 5개 행을 확인하기\n",
    "X.head()"
   ]
  },
  {
   "cell_type": "markdown",
   "id": "20f3eb6e",
   "metadata": {},
   "source": [
    "### 파생변수 만들기\n",
    "주관적 측면이 강하기 때문에 논리적 근거를 기반으로 만드는 것이 중요!"
   ]
  },
  {
   "cell_type": "markdown",
   "id": "c7b2305d",
   "metadata": {},
   "source": [
    "#### wt열의 값에 따라 등급을 구분하는 wt_class(무게에 따른 구분) 만들기"
   ]
  },
  {
   "cell_type": "code",
   "execution_count": 53,
   "id": "9108abfd",
   "metadata": {},
   "outputs": [
    {
     "data": {
      "text/plain": [
       "0      True\n",
       "1      True\n",
       "2      True\n",
       "3      True\n",
       "4     False\n",
       "5     False\n",
       "6     False\n",
       "7      True\n",
       "8      True\n",
       "9     False\n",
       "10    False\n",
       "11    False\n",
       "12    False\n",
       "13    False\n",
       "14    False\n",
       "15    False\n",
       "16    False\n",
       "17     True\n",
       "18     True\n",
       "19     True\n",
       "20     True\n",
       "21    False\n",
       "22    False\n",
       "23    False\n",
       "24    False\n",
       "25     True\n",
       "26     True\n",
       "27     True\n",
       "28     True\n",
       "29     True\n",
       "30    False\n",
       "31     True\n",
       "Name: wt, dtype: bool"
      ]
     },
     "execution_count": 53,
     "metadata": {},
     "output_type": "execute_result"
    }
   ],
   "source": [
    "# wt열이 3.3보다 작은지 여부를 확인하기\n",
    "X['wt'] < 3.3"
   ]
  },
  {
   "cell_type": "code",
   "execution_count": 54,
   "id": "f672ef66",
   "metadata": {},
   "outputs": [],
   "source": [
    "# wt 열이 3.3보다 작은지 여부의 결과는 condition 변수에 저장하기\n",
    "condition = X['wt'] < 3.3\n",
    "\n",
    "# X 변수가 condition 조건을 만족하면, wt_class에 0으로 저장하기\n",
    "X.loc[condition, 'wt_class'] = 0\n",
    "\n",
    "# X 변수가 condition 조건을 만족하지 않으면, wt_class에 1로 저장하기\n",
    "X.loc[~condition, 'wt_class'] = 1"
   ]
  },
  {
   "cell_type": "code",
   "execution_count": 55,
   "id": "d117d4b9",
   "metadata": {},
   "outputs": [
    {
     "data": {
      "text/html": [
       "<div>\n",
       "<style scoped>\n",
       "    .dataframe tbody tr th:only-of-type {\n",
       "        vertical-align: middle;\n",
       "    }\n",
       "\n",
       "    .dataframe tbody tr th {\n",
       "        vertical-align: top;\n",
       "    }\n",
       "\n",
       "    .dataframe thead th {\n",
       "        text-align: right;\n",
       "    }\n",
       "</style>\n",
       "<table border=\"1\" class=\"dataframe\">\n",
       "  <thead>\n",
       "    <tr style=\"text-align: right;\">\n",
       "      <th></th>\n",
       "      <th>wt</th>\n",
       "      <th>wt_class</th>\n",
       "    </tr>\n",
       "  </thead>\n",
       "  <tbody>\n",
       "    <tr>\n",
       "      <th>0</th>\n",
       "      <td>2.620</td>\n",
       "      <td>0.0</td>\n",
       "    </tr>\n",
       "    <tr>\n",
       "      <th>1</th>\n",
       "      <td>2.875</td>\n",
       "      <td>0.0</td>\n",
       "    </tr>\n",
       "    <tr>\n",
       "      <th>2</th>\n",
       "      <td>2.320</td>\n",
       "      <td>0.0</td>\n",
       "    </tr>\n",
       "    <tr>\n",
       "      <th>3</th>\n",
       "      <td>3.215</td>\n",
       "      <td>0.0</td>\n",
       "    </tr>\n",
       "    <tr>\n",
       "      <th>4</th>\n",
       "      <td>3.440</td>\n",
       "      <td>1.0</td>\n",
       "    </tr>\n",
       "  </tbody>\n",
       "</table>\n",
       "</div>"
      ],
      "text/plain": [
       "      wt  wt_class\n",
       "0  2.620       0.0\n",
       "1  2.875       0.0\n",
       "2  2.320       0.0\n",
       "3  3.215       0.0\n",
       "4  3.440       1.0"
      ]
     },
     "execution_count": 55,
     "metadata": {},
     "output_type": "execute_result"
    }
   ],
   "source": [
    "# wt열과 wt_class열 값을 비교\n",
    "X[['wt', 'wt_class']].head()"
   ]
  },
  {
   "cell_type": "code",
   "execution_count": 56,
   "id": "669d3e5e",
   "metadata": {},
   "outputs": [
    {
     "data": {
      "text/html": [
       "<div>\n",
       "<style scoped>\n",
       "    .dataframe tbody tr th:only-of-type {\n",
       "        vertical-align: middle;\n",
       "    }\n",
       "\n",
       "    .dataframe tbody tr th {\n",
       "        vertical-align: top;\n",
       "    }\n",
       "\n",
       "    .dataframe thead th {\n",
       "        text-align: right;\n",
       "    }\n",
       "</style>\n",
       "<table border=\"1\" class=\"dataframe\">\n",
       "  <thead>\n",
       "    <tr style=\"text-align: right;\">\n",
       "      <th></th>\n",
       "      <th>cyl</th>\n",
       "      <th>disp</th>\n",
       "      <th>hp</th>\n",
       "      <th>drat</th>\n",
       "      <th>qsec</th>\n",
       "      <th>vs</th>\n",
       "      <th>gear</th>\n",
       "      <th>carb</th>\n",
       "      <th>am_new</th>\n",
       "      <th>wt_class</th>\n",
       "    </tr>\n",
       "  </thead>\n",
       "  <tbody>\n",
       "    <tr>\n",
       "      <th>0</th>\n",
       "      <td>6.0</td>\n",
       "      <td>160.0</td>\n",
       "      <td>110.0</td>\n",
       "      <td>3.90</td>\n",
       "      <td>16.46</td>\n",
       "      <td>0</td>\n",
       "      <td>4</td>\n",
       "      <td>4.0</td>\n",
       "      <td>0</td>\n",
       "      <td>0.0</td>\n",
       "    </tr>\n",
       "    <tr>\n",
       "      <th>1</th>\n",
       "      <td>6.0</td>\n",
       "      <td>160.0</td>\n",
       "      <td>110.0</td>\n",
       "      <td>3.90</td>\n",
       "      <td>17.02</td>\n",
       "      <td>0</td>\n",
       "      <td>4</td>\n",
       "      <td>4.0</td>\n",
       "      <td>0</td>\n",
       "      <td>0.0</td>\n",
       "    </tr>\n",
       "    <tr>\n",
       "      <th>2</th>\n",
       "      <td>4.0</td>\n",
       "      <td>108.0</td>\n",
       "      <td>93.0</td>\n",
       "      <td>3.85</td>\n",
       "      <td>18.61</td>\n",
       "      <td>1</td>\n",
       "      <td>4</td>\n",
       "      <td>1.0</td>\n",
       "      <td>0</td>\n",
       "      <td>0.0</td>\n",
       "    </tr>\n",
       "    <tr>\n",
       "      <th>3</th>\n",
       "      <td>6.0</td>\n",
       "      <td>258.0</td>\n",
       "      <td>110.0</td>\n",
       "      <td>3.08</td>\n",
       "      <td>0.10</td>\n",
       "      <td>1</td>\n",
       "      <td>3</td>\n",
       "      <td>1.0</td>\n",
       "      <td>1</td>\n",
       "      <td>0.0</td>\n",
       "    </tr>\n",
       "    <tr>\n",
       "      <th>4</th>\n",
       "      <td>8.0</td>\n",
       "      <td>360.0</td>\n",
       "      <td>175.0</td>\n",
       "      <td>3.15</td>\n",
       "      <td>17.02</td>\n",
       "      <td>0</td>\n",
       "      <td>3</td>\n",
       "      <td>2.0</td>\n",
       "      <td>1</td>\n",
       "      <td>1.0</td>\n",
       "    </tr>\n",
       "  </tbody>\n",
       "</table>\n",
       "</div>"
      ],
      "text/plain": [
       "   cyl   disp     hp  drat   qsec  vs  gear  carb  am_new  wt_class\n",
       "0  6.0  160.0  110.0  3.90  16.46   0     4   4.0       0       0.0\n",
       "1  6.0  160.0  110.0  3.90  17.02   0     4   4.0       0       0.0\n",
       "2  4.0  108.0   93.0  3.85  18.61   1     4   1.0       0       0.0\n",
       "3  6.0  258.0  110.0  3.08   0.10   1     3   1.0       1       0.0\n",
       "4  8.0  360.0  175.0  3.15  17.02   0     3   2.0       1       1.0"
      ]
     },
     "execution_count": 56,
     "metadata": {},
     "output_type": "execute_result"
    }
   ],
   "source": [
    "# X 변수에서 wt 열을 삭제한 후, 삭제 결과를 X 변수에 다시 저장하기\n",
    "X = X.drop(columns = ['wt'])\n",
    "\n",
    "# X 변수의 상위 5개 행을 확인하기\n",
    "X.head()"
   ]
  },
  {
   "cell_type": "markdown",
   "id": "44811798",
   "metadata": {},
   "source": [
    "#### qsec 열(1/4mile 도달시간) 값을 기반으로 qsec_4(1mile 도달 시간) 만들기"
   ]
  },
  {
   "cell_type": "code",
   "execution_count": 57,
   "id": "72011ace",
   "metadata": {},
   "outputs": [
    {
     "data": {
      "text/html": [
       "<div>\n",
       "<style scoped>\n",
       "    .dataframe tbody tr th:only-of-type {\n",
       "        vertical-align: middle;\n",
       "    }\n",
       "\n",
       "    .dataframe tbody tr th {\n",
       "        vertical-align: top;\n",
       "    }\n",
       "\n",
       "    .dataframe thead th {\n",
       "        text-align: right;\n",
       "    }\n",
       "</style>\n",
       "<table border=\"1\" class=\"dataframe\">\n",
       "  <thead>\n",
       "    <tr style=\"text-align: right;\">\n",
       "      <th></th>\n",
       "      <th>qsec</th>\n",
       "      <th>qsec_4</th>\n",
       "    </tr>\n",
       "  </thead>\n",
       "  <tbody>\n",
       "    <tr>\n",
       "      <th>0</th>\n",
       "      <td>16.46</td>\n",
       "      <td>65.84</td>\n",
       "    </tr>\n",
       "    <tr>\n",
       "      <th>1</th>\n",
       "      <td>17.02</td>\n",
       "      <td>68.08</td>\n",
       "    </tr>\n",
       "    <tr>\n",
       "      <th>2</th>\n",
       "      <td>18.61</td>\n",
       "      <td>74.44</td>\n",
       "    </tr>\n",
       "    <tr>\n",
       "      <th>3</th>\n",
       "      <td>0.10</td>\n",
       "      <td>0.40</td>\n",
       "    </tr>\n",
       "    <tr>\n",
       "      <th>4</th>\n",
       "      <td>17.02</td>\n",
       "      <td>68.08</td>\n",
       "    </tr>\n",
       "  </tbody>\n",
       "</table>\n",
       "</div>"
      ],
      "text/plain": [
       "    qsec  qsec_4\n",
       "0  16.46   65.84\n",
       "1  17.02   68.08\n",
       "2  18.61   74.44\n",
       "3   0.10    0.40\n",
       "4  17.02   68.08"
      ]
     },
     "execution_count": 57,
     "metadata": {},
     "output_type": "execute_result"
    }
   ],
   "source": [
    "# qsec 열에 4를 곱한 결과를 qsec_4 열에 저장하기\n",
    "X['qsec_4'] = X['qsec']*4\n",
    "\n",
    "# qsec 열과 qsec_4 열 값을 확인하기\n",
    "X[['qsec','qsec_4']].head()"
   ]
  },
  {
   "cell_type": "code",
   "execution_count": 58,
   "id": "b7b71bd4",
   "metadata": {},
   "outputs": [
    {
     "data": {
      "text/html": [
       "<div>\n",
       "<style scoped>\n",
       "    .dataframe tbody tr th:only-of-type {\n",
       "        vertical-align: middle;\n",
       "    }\n",
       "\n",
       "    .dataframe tbody tr th {\n",
       "        vertical-align: top;\n",
       "    }\n",
       "\n",
       "    .dataframe thead th {\n",
       "        text-align: right;\n",
       "    }\n",
       "</style>\n",
       "<table border=\"1\" class=\"dataframe\">\n",
       "  <thead>\n",
       "    <tr style=\"text-align: right;\">\n",
       "      <th></th>\n",
       "      <th>cyl</th>\n",
       "      <th>disp</th>\n",
       "      <th>hp</th>\n",
       "      <th>drat</th>\n",
       "      <th>vs</th>\n",
       "      <th>gear</th>\n",
       "      <th>carb</th>\n",
       "      <th>am_new</th>\n",
       "      <th>wt_class</th>\n",
       "      <th>qsec_4</th>\n",
       "    </tr>\n",
       "  </thead>\n",
       "  <tbody>\n",
       "    <tr>\n",
       "      <th>0</th>\n",
       "      <td>6.0</td>\n",
       "      <td>160.0</td>\n",
       "      <td>110.0</td>\n",
       "      <td>3.90</td>\n",
       "      <td>0</td>\n",
       "      <td>4</td>\n",
       "      <td>4.0</td>\n",
       "      <td>0</td>\n",
       "      <td>0.0</td>\n",
       "      <td>65.84</td>\n",
       "    </tr>\n",
       "    <tr>\n",
       "      <th>1</th>\n",
       "      <td>6.0</td>\n",
       "      <td>160.0</td>\n",
       "      <td>110.0</td>\n",
       "      <td>3.90</td>\n",
       "      <td>0</td>\n",
       "      <td>4</td>\n",
       "      <td>4.0</td>\n",
       "      <td>0</td>\n",
       "      <td>0.0</td>\n",
       "      <td>68.08</td>\n",
       "    </tr>\n",
       "    <tr>\n",
       "      <th>2</th>\n",
       "      <td>4.0</td>\n",
       "      <td>108.0</td>\n",
       "      <td>93.0</td>\n",
       "      <td>3.85</td>\n",
       "      <td>1</td>\n",
       "      <td>4</td>\n",
       "      <td>1.0</td>\n",
       "      <td>0</td>\n",
       "      <td>0.0</td>\n",
       "      <td>74.44</td>\n",
       "    </tr>\n",
       "    <tr>\n",
       "      <th>3</th>\n",
       "      <td>6.0</td>\n",
       "      <td>258.0</td>\n",
       "      <td>110.0</td>\n",
       "      <td>3.08</td>\n",
       "      <td>1</td>\n",
       "      <td>3</td>\n",
       "      <td>1.0</td>\n",
       "      <td>1</td>\n",
       "      <td>0.0</td>\n",
       "      <td>0.40</td>\n",
       "    </tr>\n",
       "    <tr>\n",
       "      <th>4</th>\n",
       "      <td>8.0</td>\n",
       "      <td>360.0</td>\n",
       "      <td>175.0</td>\n",
       "      <td>3.15</td>\n",
       "      <td>0</td>\n",
       "      <td>3</td>\n",
       "      <td>2.0</td>\n",
       "      <td>1</td>\n",
       "      <td>1.0</td>\n",
       "      <td>68.08</td>\n",
       "    </tr>\n",
       "  </tbody>\n",
       "</table>\n",
       "</div>"
      ],
      "text/plain": [
       "   cyl   disp     hp  drat  vs  gear  carb  am_new  wt_class  qsec_4\n",
       "0  6.0  160.0  110.0  3.90   0     4   4.0       0       0.0   65.84\n",
       "1  6.0  160.0  110.0  3.90   0     4   4.0       0       0.0   68.08\n",
       "2  4.0  108.0   93.0  3.85   1     4   1.0       0       0.0   74.44\n",
       "3  6.0  258.0  110.0  3.08   1     3   1.0       1       0.0    0.40\n",
       "4  8.0  360.0  175.0  3.15   0     3   2.0       1       1.0   68.08"
      ]
     },
     "execution_count": 58,
     "metadata": {},
     "output_type": "execute_result"
    }
   ],
   "source": [
    "# X 변수에서 qsec 열을 삭제한 후, X 변수에 다시 저장하기\n",
    "X = X.drop(columns = ['qsec'])\n",
    "\n",
    "# X 변수의 상위 5개 행을 확인하기\n",
    "X.head()"
   ]
  },
  {
   "cell_type": "markdown",
   "id": "a973e2e0",
   "metadata": {},
   "source": [
    "## 2.3 모델 생성과 모델 검증"
   ]
  },
  {
   "cell_type": "markdown",
   "id": "13488b76",
   "metadata": {},
   "source": [
    "### 학습 데이터와 테스트 데이터를 분리하기"
   ]
  },
  {
   "cell_type": "code",
   "execution_count": 59,
   "id": "c6ca9502",
   "metadata": {},
   "outputs": [],
   "source": [
    "# 데이터 분리를 위해서 train_test_split 함수 불러오기\n",
    "from sklearn.model_selection import train_test_split"
   ]
  },
  {
   "cell_type": "code",
   "execution_count": 60,
   "id": "54c594d2",
   "metadata": {},
   "outputs": [],
   "source": [
    "# X, Y 변수로 학습 데이터는 70%, 테스트 데이터는 30%로 분리하기\n",
    "x_train, x_test, y_train, y_test = train_test_split(X, Y, test_size=0.3, random_state=10)"
   ]
  },
  {
   "cell_type": "code",
   "execution_count": 61,
   "id": "49c0af39",
   "metadata": {},
   "outputs": [
    {
     "name": "stdout",
     "output_type": "stream",
     "text": [
      "     cyl   disp     hp  drat  vs  gear  carb  am_new  wt_class  qsec_4\n",
      "19   4.0   71.1   65.0  4.22   1     4   1.0       0       0.0   79.60\n",
      "14  14.0  472.0  205.0  2.93   0     3   4.0       1       1.0   71.92\n",
      "18   4.0   75.7   52.0  4.93   1     4   2.0       0       0.0   74.08\n",
      "6    8.0  360.0  245.0  3.21   0     3   4.0       1       1.0   63.36\n",
      "11   8.0  275.8  180.0  3.07   0     3   3.0       1       1.0   69.60\n",
      "19    33.9\n",
      "14    10.4\n",
      "18    30.4\n",
      "6     14.3\n",
      "11    16.4\n",
      "Name: mpg, dtype: float64\n",
      "    cyl   disp     hp  drat  vs  gear  carb  am_new  wt_class  qsec_4\n",
      "20  4.0  120.1   97.0  3.70   1     3   1.0       1       0.0   80.04\n",
      "7   7.6  146.7   62.0  3.69   1     4   2.0       1       0.0   80.00\n",
      "5   6.0  225.0  105.0  2.76   1     3   1.0       1       1.0   80.88\n",
      "2   4.0  108.0   93.0  3.85   1     4   1.0       0       0.0   74.44\n",
      "3   6.0  258.0  110.0  3.08   1     3   1.0       1       0.0    0.40\n",
      "20    21.5\n",
      "7     24.4\n",
      "5     18.1\n",
      "2     22.8\n",
      "3     21.4\n",
      "Name: mpg, dtype: float64\n"
     ]
    }
   ],
   "source": [
    "# 독립변수인 학습 데이터의 상위 5개 행 확인하기\n",
    "print(x_train.head())\n",
    "\n",
    "# 종속변수인 학습 데이터의 상위 5개 행 확인하기\n",
    "print(y_train.head())\n",
    "\n",
    "# 독립변수인 테스트 데이터의 상위 5개 행 확인하기\n",
    "print(x_test.head())\n",
    "\n",
    "# 종속변수인 테스트 데이터의 상위 5개 행 확인하기\n",
    "print(y_test.head())"
   ]
  },
  {
   "cell_type": "markdown",
   "id": "dbe17d26",
   "metadata": {},
   "source": [
    "### 모델링 Modeling"
   ]
  },
  {
   "cell_type": "markdown",
   "id": "21854eb2",
   "metadata": {},
   "source": [
    "#### 1. 선형 회귀 Linear Regression\n",
    "https://bit.ly/3vWG0Dd"
   ]
  },
  {
   "cell_type": "code",
   "execution_count": 62,
   "id": "c26ff77a",
   "metadata": {},
   "outputs": [],
   "source": [
    "# 선형회귀 분석 : linear_model 모듈에서 LinearRegression 모델을 가져오기\n",
    "from sklearn.linear_model import LinearRegression\n",
    "\n",
    "# 선형회귀 분석을 수행할 기본적인 모델(model) 만들기\n",
    "model = LinearRegression()\n",
    "\n",
    "# 생성한 모델에 x_train, y_train을 전달해서 선형회귀 방법으로 공부시키기\n",
    "model.fit(x_train, y_train)\n",
    "\n",
    "# 학습이 완료된 모델에 x_train을 전달하여 y_train 값을 예측하기\n",
    "y_train_predicted = model.predict(x_train)\n",
    "\n",
    "# 학습이 완료된 모델에 x_test를 전달하여 y_test 값을 예측하기\n",
    "y_test_predicted = model.predict(x_test)"
   ]
  },
  {
   "cell_type": "code",
   "execution_count": 63,
   "id": "fcbf9bfa",
   "metadata": {},
   "outputs": [
    {
     "name": "stdout",
     "output_type": "stream",
     "text": [
      "24.270191263129234\n",
      "[-0.13806238 -0.01231223 -0.00409044  0.96664672  1.12302609  0.65737596\n",
      " -1.97459758 -3.57945608  0.01930121  0.0238938 ]\n"
     ]
    }
   ],
   "source": [
    "# 선형회귀 모델로 도출된 y절편 값 구하기\n",
    "print(model.intercept_)\n",
    "\n",
    "# 선형회귀 모델에 포함된 독립변수들의 각 기울기 값 구하기\n",
    "print(model.coef_)"
   ]
  },
  {
   "cell_type": "code",
   "execution_count": 64,
   "id": "aac9e421",
   "metadata": {},
   "outputs": [
    {
     "name": "stdout",
     "output_type": "stream",
     "text": [
      "0.9063061004601505\n",
      "0.10181914072571308\n"
     ]
    }
   ],
   "source": [
    "# 선형회귀 분석 model에서 학습 데이터에 대한 결정계수 구하기\n",
    "print(model.score(x_train, y_train))\n",
    "\n",
    "# 선형회귀 분석 model에서 테스트 데이터에 대한 결정계수 구하기\n",
    "print(model.score(x_test, y_test)) # ---> overfitting 발생!!"
   ]
  },
  {
   "cell_type": "code",
   "execution_count": 65,
   "id": "c1a2e67f",
   "metadata": {},
   "outputs": [],
   "source": [
    "# 결정계수를 계산하는 r2_score 함수 가져오기\n",
    "from sklearn.metrics import r2_score\n",
    "\n",
    "# MAE를 계산하는 mean_absolute_error 함수 가져오기\n",
    "from sklearn.metrics import mean_absolute_error\n",
    "\n",
    "# MSE를 계산하는 mean_squared_error 함수 가져오기\n",
    "from sklearn.metrics import mean_squared_error\n",
    "\n",
    "# 제곱근 계산을 위하여 numpy 라이브러리 가져오기\n",
    "import numpy as np"
   ]
  },
  {
   "cell_type": "code",
   "execution_count": 66,
   "id": "51c30d34",
   "metadata": {},
   "outputs": [
    {
     "name": "stdout",
     "output_type": "stream",
     "text": [
      "0.9063061004601505\n",
      "0.10181914072571308\n",
      "8.922528656030766\n",
      "2.9870602029471662\n",
      "2.374047928557583\n"
     ]
    }
   ],
   "source": [
    "# 1. 학습 데이터의 결정계수 구하기\n",
    "print(r2_score(y_train, y_train_predicted))\n",
    "\n",
    "# 2. 테스트 데이터의 결정계수 구하기\n",
    "print(r2_score(y_test, y_test_predicted))\n",
    "\n",
    "# 3. 테스트 데이터의 MSE 지표 구하기\n",
    "print(mean_squared_error(y_test, y_test_predicted))\n",
    "\n",
    "# 4. 테스트 데이터의 RMSE 지표 구하기\n",
    "print(np.sqrt(mean_squared_error(y_test, y_test_predicted)))\n",
    "\n",
    "# 5. 테스트 데이터의 MAE 지표 구하기\n",
    "print(mean_absolute_error(y_test, y_test_predicted))"
   ]
  },
  {
   "cell_type": "markdown",
   "id": "443645a1",
   "metadata": {},
   "source": [
    "#### 2. 랜덤 포레스트 회귀 Random Forest Regression : 앙상블 모형의 하나, 무작위의 다수 트리를 만들어 투표에 의해 값 결정\n",
    "https://bit.ly/3GAqdyw"
   ]
  },
  {
   "cell_type": "code",
   "execution_count": 67,
   "id": "ee5f873d",
   "metadata": {},
   "outputs": [],
   "source": [
    "# 랜덤 포레스트 회귀 분석 : ensemble 모듈에서 RandomForestRegressor 모델을 가져오기\n",
    "from sklearn.ensemble import RandomForestRegressor\n",
    "\n",
    "# 랜덤 포레스트 회귀 분석을 수행할 모델 만들기\n",
    "model = RandomForestRegressor(random_state=10)"
   ]
  },
  {
   "cell_type": "code",
   "execution_count": 68,
   "id": "d77a7d07",
   "metadata": {},
   "outputs": [],
   "source": [
    "# 생성한 모델에 x_train, y_train을 전달해서 랜덤 포레스트 회귀 분석을 수행하기\n",
    "model.fit(x_train, y_train)\n",
    "\n",
    "# 학습이 완료된 모델에 x_train을 전달하여 y_train 값을 예측하기\n",
    "y_train_predicted = model.predict(x_train)\n",
    "\n",
    "# 학습이 완료된 모델에 x_test를 전달하여 y_test 값을 예측하기\n",
    "y_test_predicted = model.predict(x_test)"
   ]
  },
  {
   "cell_type": "code",
   "execution_count": 69,
   "id": "3aa5b932",
   "metadata": {},
   "outputs": [
    {
     "name": "stdout",
     "output_type": "stream",
     "text": [
      "0.9799238759255713\n",
      "0.379084225890872\n",
      "6.168177300000077\n",
      "2.483581546879441\n",
      "1.809100000000011\n"
     ]
    }
   ],
   "source": [
    "# 결정계수와 MSE, MAE를 구하는 함수를 일괄로 가져오기\n",
    "from sklearn.metrics import r2_score, mean_squared_error, mean_absolute_error\n",
    "\n",
    "# 1. 학습 데이터의 결정계수 구하기\n",
    "print(r2_score(y_train, y_train_predicted))\n",
    "\n",
    "# 2. 테스트 데이터의 결정계수 구하기\n",
    "print(r2_score(y_test, y_test_predicted))\n",
    "\n",
    "# 3. 테스트 데이터의 MSE 지표 구하기\n",
    "print(mean_squared_error(y_test, y_test_predicted))\n",
    "\n",
    "# 4. 테스트 데이터의 RMSE 지표 구하기\n",
    "print(np.sqrt(mean_squared_error(y_test, y_test_predicted)))\n",
    "\n",
    "# 5. 테스트 데이터의 MAE 지표 구하기\n",
    "print(mean_absolute_error(y_test, y_test_predicted))"
   ]
  },
  {
   "cell_type": "markdown",
   "id": "be5c2168",
   "metadata": {},
   "source": [
    "모델링 평가를 MAE 지표로 수행한다면? -> MAE 지표 품질을 높이기 위해 추가적인 하이퍼 파라미터(hyper parameter) 전달. \n",
    "n_estimator(생성할 트리의 개수), criterion(트리를 분할하는 기준)"
   ]
  },
  {
   "cell_type": "code",
   "execution_count": 70,
   "id": "b25bf07f",
   "metadata": {},
   "outputs": [],
   "source": [
    "# 트리 생성은 1000개로, 트리의 분할 기준은 MAE 지표로 분석할 모델 만들기\n",
    "model = RandomForestRegressor(n_estimators=1000, criterion='mae', random_state=10)\n",
    "\n",
    "# 기본적인 정보가 담긴 모델에 학습 데이터를 전달하여 공부시키기\n",
    "model.fit(x_train, y_train)\n",
    "\n",
    "# 학습이 완료된 모델에 x_train을 전달하여 y_train 값을 예측하기\n",
    "y_train_predicted = model.predict(x_train)\n",
    "\n",
    "# 학습이 완료된 모델에 x_test를 전달하여 y_test 값을 예측하기\n",
    "y_test_predicted = model.predict(x_test)"
   ]
  },
  {
   "cell_type": "code",
   "execution_count": 71,
   "id": "2eee6083",
   "metadata": {},
   "outputs": [
    {
     "name": "stdout",
     "output_type": "stream",
     "text": [
      "0.9805355759422818\n",
      "0.44313226215521484\n",
      "5.531924107750095\n",
      "1.7446750000000346\n"
     ]
    }
   ],
   "source": [
    "# 학습 데이터의 결정계수 구하기\n",
    "print(r2_score(y_train, y_train_predicted))\n",
    "\n",
    "# 테스트 데이터의 결정계수 구하기\n",
    "print(r2_score(y_test, y_test_predicted))\n",
    "\n",
    "# 테스트 데이터의 MSE 지표 구하기\n",
    "print(mean_squared_error(y_test, y_test_predicted))\n",
    "\n",
    "# 테스트 데이터의 MAE 지표 구하기\n",
    "print(mean_absolute_error(y_test, y_test_predicted))"
   ]
  },
  {
   "cell_type": "markdown",
   "id": "0a7f7ba2",
   "metadata": {},
   "source": [
    "#### 3. 그레디언트 부스팅 회귀 Gradient Boosting Regression : 여러 개의 결정나무(decision tree)를 묶어서 강력한 모델을 만드는 앙상블 기법, 이전 결정나무에서 발생한 오차를 보완하여 새로운 트리를 만들기 때문에 보다 높은 정확도 기대\n",
    "https://bit.ly/3CsCUsL"
   ]
  },
  {
   "cell_type": "code",
   "execution_count": 72,
   "id": "decc1ba7",
   "metadata": {},
   "outputs": [],
   "source": [
    "# 그레디언트 부스팅 회귀 함수를 가져오기\n",
    "from sklearn.ensemble import GradientBoostingRegressor\n",
    "\n",
    "# 하이퍼 파라미터의 기본값으로 모델 만들기\n",
    "model = GradientBoostingRegressor(random_state=10)\n",
    "\n",
    "# 학습 데이터로 모델을 공부시키고, 종속 변수를 예측하기\n",
    "model.fit(x_train, y_train)\n",
    "y_train_predicted = model.predict(x_train)\n",
    "y_test_predicted = model.predict(x_test)"
   ]
  },
  {
   "cell_type": "code",
   "execution_count": 73,
   "id": "894c89fb",
   "metadata": {},
   "outputs": [
    {
     "name": "stdout",
     "output_type": "stream",
     "text": [
      "0.9999908554215274\n",
      "0.1559551191323465\n",
      "8.384741846539269\n",
      "2.1754887773282503\n"
     ]
    }
   ],
   "source": [
    "# 결정계수와 MSE, MAE를 구하는 함수를 일괄로 가져오기\n",
    "from sklearn.metrics import r2_score, mean_squared_error, mean_absolute_error\n",
    "\n",
    "# 결정계수와 MSE, MAE를 계산하기\n",
    "print(r2_score(y_train, y_train_predicted))\n",
    "print(r2_score(y_test, y_test_predicted))\n",
    "print(mean_squared_error(y_test, y_test_predicted))\n",
    "print(mean_absolute_error(y_test, y_test_predicted))"
   ]
  },
  {
   "cell_type": "markdown",
   "id": "8cbd95b6",
   "metadata": {},
   "source": [
    "#### 4. 익스트림 그레디언트 부스팅 회귀 eXtreme Gradient Boosting Regression : 다수의 약한 분류기를 묶어서 정확도를 향상하는 기법, 병렬처리 기능을 지원하여 빠른 속도로 결과를 도출\n",
    "https://bit.ly/3bl8T2b"
   ]
  },
  {
   "cell_type": "code",
   "execution_count": 76,
   "id": "8cc87b75",
   "metadata": {},
   "outputs": [],
   "source": [
    "# xgboost 라이브러리에서 XGBRegressor 함수 가져오기\n",
    "from xgboost import XGBRegressor\n",
    "\n",
    "# XGBRegressor 함수 호출로 학습시킬 모델 만들기\n",
    "model = XGBRegressor(random_state = 10)\n",
    "\n",
    "# 학습 데이터로 모델을 공부시키고, 종속변수를 예측하기\n",
    "model.fit(x_train, y_train)\n",
    "y_train_predicted = model.predict(x_train)\n",
    "y_test_predicted = model.predict(x_test)"
   ]
  },
  {
   "cell_type": "code",
   "execution_count": 78,
   "id": "4187742c",
   "metadata": {},
   "outputs": [
    {
     "name": "stdout",
     "output_type": "stream",
     "text": [
      "0.99999998477324\n",
      "0.29171552932917066\n",
      "7.036097931644018\n",
      "2.1146967697143553\n"
     ]
    }
   ],
   "source": [
    "# 결정계수와 MSE, MAE를 구하는 함수를 일괄로 가져오기\n",
    "from sklearn.metrics import r2_score, mean_squared_error, mean_absolute_error\n",
    "\n",
    "# 결정계수와 MSE, MAE를 계산하기\n",
    "print(r2_score(y_train, y_train_predicted))\n",
    "print(r2_score(y_test, y_test_predicted))\n",
    "print(mean_squared_error(y_test, y_test_predicted))\n",
    "print(mean_absolute_error(y_test, y_test_predicted))"
   ]
  },
  {
   "cell_type": "markdown",
   "id": "01855c67",
   "metadata": {},
   "source": [
    "### 분류 모델링 수행"
   ]
  },
  {
   "cell_type": "code",
   "execution_count": 79,
   "id": "ec5bc076",
   "metadata": {},
   "outputs": [],
   "source": [
    "# x_train 변수에서 종속변수인 am_new 열은 삭제한 후, 결과는 x_train2 변수에 저장하기\n",
    "x_train2 = x_train.drop(columns='am_new')\n",
    "\n",
    "# x_train 변수에서 am_new 열을 추출한 후, 종속변수인 y_train2 변수에 저장하기\n",
    "y_train2 = x_train['am_new']\n",
    "\n",
    "# x_test 변수에서 종속변수인 am_new 열은 삭제한 후, 결과는 x_test2 변수에 저장하기\n",
    "x_test2 = x_test.drop(columns = 'am_new')\n",
    "\n",
    "# x_test 변수에서 am_new 열을 추출한 후, 종속변수인 y_test2 변수에 저장하기\n",
    "y_test2 = x_test['am_new']"
   ]
  },
  {
   "cell_type": "code",
   "execution_count": 82,
   "id": "ed9cb5c4",
   "metadata": {},
   "outputs": [
    {
     "data": {
      "text/html": [
       "<div>\n",
       "<style scoped>\n",
       "    .dataframe tbody tr th:only-of-type {\n",
       "        vertical-align: middle;\n",
       "    }\n",
       "\n",
       "    .dataframe tbody tr th {\n",
       "        vertical-align: top;\n",
       "    }\n",
       "\n",
       "    .dataframe thead th {\n",
       "        text-align: right;\n",
       "    }\n",
       "</style>\n",
       "<table border=\"1\" class=\"dataframe\">\n",
       "  <thead>\n",
       "    <tr style=\"text-align: right;\">\n",
       "      <th></th>\n",
       "      <th>cyl</th>\n",
       "      <th>disp</th>\n",
       "      <th>hp</th>\n",
       "      <th>drat</th>\n",
       "      <th>vs</th>\n",
       "      <th>gear</th>\n",
       "      <th>carb</th>\n",
       "      <th>wt_class</th>\n",
       "      <th>qsec_4</th>\n",
       "    </tr>\n",
       "  </thead>\n",
       "  <tbody>\n",
       "    <tr>\n",
       "      <th>19</th>\n",
       "      <td>4.0</td>\n",
       "      <td>71.1</td>\n",
       "      <td>65.0</td>\n",
       "      <td>4.22</td>\n",
       "      <td>1</td>\n",
       "      <td>4</td>\n",
       "      <td>1.0</td>\n",
       "      <td>0.0</td>\n",
       "      <td>79.60</td>\n",
       "    </tr>\n",
       "    <tr>\n",
       "      <th>14</th>\n",
       "      <td>14.0</td>\n",
       "      <td>472.0</td>\n",
       "      <td>205.0</td>\n",
       "      <td>2.93</td>\n",
       "      <td>0</td>\n",
       "      <td>3</td>\n",
       "      <td>4.0</td>\n",
       "      <td>1.0</td>\n",
       "      <td>71.92</td>\n",
       "    </tr>\n",
       "    <tr>\n",
       "      <th>18</th>\n",
       "      <td>4.0</td>\n",
       "      <td>75.7</td>\n",
       "      <td>52.0</td>\n",
       "      <td>4.93</td>\n",
       "      <td>1</td>\n",
       "      <td>4</td>\n",
       "      <td>2.0</td>\n",
       "      <td>0.0</td>\n",
       "      <td>74.08</td>\n",
       "    </tr>\n",
       "    <tr>\n",
       "      <th>6</th>\n",
       "      <td>8.0</td>\n",
       "      <td>360.0</td>\n",
       "      <td>245.0</td>\n",
       "      <td>3.21</td>\n",
       "      <td>0</td>\n",
       "      <td>3</td>\n",
       "      <td>4.0</td>\n",
       "      <td>1.0</td>\n",
       "      <td>63.36</td>\n",
       "    </tr>\n",
       "    <tr>\n",
       "      <th>11</th>\n",
       "      <td>8.0</td>\n",
       "      <td>275.8</td>\n",
       "      <td>180.0</td>\n",
       "      <td>3.07</td>\n",
       "      <td>0</td>\n",
       "      <td>3</td>\n",
       "      <td>3.0</td>\n",
       "      <td>1.0</td>\n",
       "      <td>69.60</td>\n",
       "    </tr>\n",
       "  </tbody>\n",
       "</table>\n",
       "</div>"
      ],
      "text/plain": [
       "     cyl   disp     hp  drat  vs  gear  carb  wt_class  qsec_4\n",
       "19   4.0   71.1   65.0  4.22   1     4   1.0       0.0   79.60\n",
       "14  14.0  472.0  205.0  2.93   0     3   4.0       1.0   71.92\n",
       "18   4.0   75.7   52.0  4.93   1     4   2.0       0.0   74.08\n",
       "6    8.0  360.0  245.0  3.21   0     3   4.0       1.0   63.36\n",
       "11   8.0  275.8  180.0  3.07   0     3   3.0       1.0   69.60"
      ]
     },
     "execution_count": 82,
     "metadata": {},
     "output_type": "execute_result"
    }
   ],
   "source": [
    "# 독립변수인 학습 데이터, x_train2 세트의 상위 5개 행 확인하기\n",
    "x_train2.head()"
   ]
  },
  {
   "cell_type": "code",
   "execution_count": 83,
   "id": "6f8f71f2",
   "metadata": {},
   "outputs": [
    {
     "data": {
      "text/html": [
       "<div>\n",
       "<style scoped>\n",
       "    .dataframe tbody tr th:only-of-type {\n",
       "        vertical-align: middle;\n",
       "    }\n",
       "\n",
       "    .dataframe tbody tr th {\n",
       "        vertical-align: top;\n",
       "    }\n",
       "\n",
       "    .dataframe thead th {\n",
       "        text-align: right;\n",
       "    }\n",
       "</style>\n",
       "<table border=\"1\" class=\"dataframe\">\n",
       "  <thead>\n",
       "    <tr style=\"text-align: right;\">\n",
       "      <th></th>\n",
       "      <th>cyl</th>\n",
       "      <th>disp</th>\n",
       "      <th>hp</th>\n",
       "      <th>drat</th>\n",
       "      <th>vs</th>\n",
       "      <th>gear</th>\n",
       "      <th>carb</th>\n",
       "      <th>wt_class</th>\n",
       "      <th>qsec_4</th>\n",
       "    </tr>\n",
       "  </thead>\n",
       "  <tbody>\n",
       "    <tr>\n",
       "      <th>20</th>\n",
       "      <td>4.0</td>\n",
       "      <td>120.1</td>\n",
       "      <td>97.0</td>\n",
       "      <td>3.70</td>\n",
       "      <td>1</td>\n",
       "      <td>3</td>\n",
       "      <td>1.0</td>\n",
       "      <td>0.0</td>\n",
       "      <td>80.04</td>\n",
       "    </tr>\n",
       "    <tr>\n",
       "      <th>7</th>\n",
       "      <td>7.6</td>\n",
       "      <td>146.7</td>\n",
       "      <td>62.0</td>\n",
       "      <td>3.69</td>\n",
       "      <td>1</td>\n",
       "      <td>4</td>\n",
       "      <td>2.0</td>\n",
       "      <td>0.0</td>\n",
       "      <td>80.00</td>\n",
       "    </tr>\n",
       "    <tr>\n",
       "      <th>5</th>\n",
       "      <td>6.0</td>\n",
       "      <td>225.0</td>\n",
       "      <td>105.0</td>\n",
       "      <td>2.76</td>\n",
       "      <td>1</td>\n",
       "      <td>3</td>\n",
       "      <td>1.0</td>\n",
       "      <td>1.0</td>\n",
       "      <td>80.88</td>\n",
       "    </tr>\n",
       "    <tr>\n",
       "      <th>2</th>\n",
       "      <td>4.0</td>\n",
       "      <td>108.0</td>\n",
       "      <td>93.0</td>\n",
       "      <td>3.85</td>\n",
       "      <td>1</td>\n",
       "      <td>4</td>\n",
       "      <td>1.0</td>\n",
       "      <td>0.0</td>\n",
       "      <td>74.44</td>\n",
       "    </tr>\n",
       "    <tr>\n",
       "      <th>3</th>\n",
       "      <td>6.0</td>\n",
       "      <td>258.0</td>\n",
       "      <td>110.0</td>\n",
       "      <td>3.08</td>\n",
       "      <td>1</td>\n",
       "      <td>3</td>\n",
       "      <td>1.0</td>\n",
       "      <td>0.0</td>\n",
       "      <td>0.40</td>\n",
       "    </tr>\n",
       "  </tbody>\n",
       "</table>\n",
       "</div>"
      ],
      "text/plain": [
       "    cyl   disp     hp  drat  vs  gear  carb  wt_class  qsec_4\n",
       "20  4.0  120.1   97.0  3.70   1     3   1.0       0.0   80.04\n",
       "7   7.6  146.7   62.0  3.69   1     4   2.0       0.0   80.00\n",
       "5   6.0  225.0  105.0  2.76   1     3   1.0       1.0   80.88\n",
       "2   4.0  108.0   93.0  3.85   1     4   1.0       0.0   74.44\n",
       "3   6.0  258.0  110.0  3.08   1     3   1.0       0.0    0.40"
      ]
     },
     "execution_count": 83,
     "metadata": {},
     "output_type": "execute_result"
    }
   ],
   "source": [
    "# 독립변수인 테스트 데이터, x_test2 세트의 상위 5개 행 확인하기\n",
    "x_test2.head()"
   ]
  },
  {
   "cell_type": "code",
   "execution_count": 84,
   "id": "2172f807",
   "metadata": {},
   "outputs": [
    {
     "data": {
      "text/plain": [
       "19    0\n",
       "14    1\n",
       "18    0\n",
       "6     1\n",
       "11    1\n",
       "Name: am_new, dtype: int64"
      ]
     },
     "execution_count": 84,
     "metadata": {},
     "output_type": "execute_result"
    }
   ],
   "source": [
    "# 종속변수인 학습 데이터, y_train2 세트의 상위 5개 행 확인하기\n",
    "y_train2.head()"
   ]
  },
  {
   "cell_type": "code",
   "execution_count": 85,
   "id": "39c0673f",
   "metadata": {},
   "outputs": [
    {
     "data": {
      "text/plain": [
       "20    1\n",
       "7     1\n",
       "5     1\n",
       "2     0\n",
       "3     1\n",
       "Name: am_new, dtype: int64"
      ]
     },
     "execution_count": 85,
     "metadata": {},
     "output_type": "execute_result"
    }
   ],
   "source": [
    "# 종속변수인 테스트 데이터, y_test2 세트의 상위 5개 행 확인하기\n",
    "y_test2.head()"
   ]
  },
  {
   "cell_type": "markdown",
   "id": "5c559035",
   "metadata": {},
   "source": [
    "#### 1. 의사결정나무 분류 Decision Tree Classifier : 트리를 분할하고 가지치기 과정을 반복하면서 모델을 생성하는 방식, 과적화될 가능성이 크기도 함\n",
    "https://bit.ly/3bi8kq2"
   ]
  },
  {
   "cell_type": "code",
   "execution_count": 95,
   "id": "e146a48e",
   "metadata": {},
   "outputs": [],
   "source": [
    "# tree 모듈에서 제공하는 DecisionTreeClassifier 함수 가져오기\n",
    "from sklearn.tree import DecisionTreeClassifier\n",
    "\n",
    "# 의사결정나무 분류 분석을 수행할 모델 만들기\n",
    "model = DecisionTreeClassifier(random_state = 10)\n",
    "\n",
    "# 생성한 모델에 x_train, y_train을 전달하여 의사결정나무 분류 방식으로 공부시키기\n",
    "model.fit(x_train2, y_train2)\n",
    "\n",
    "# 학습이 완료된 모델에 x_test를 전달하여 그에 대응하는 y_test 값을 예측하기\n",
    "y_test2_predicted = model.predict(x_test2)"
   ]
  },
  {
   "cell_type": "markdown",
   "id": "8e8476b7",
   "metadata": {},
   "source": [
    "#### 분류 모델의 주요 평가지료 - ROC-AUC(roc_auc_score), 정확도(accuracy_score), 정밀도(precision_score), 재현율(recall_score)"
   ]
  },
  {
   "cell_type": "code",
   "execution_count": 96,
   "id": "b7d9e969",
   "metadata": {},
   "outputs": [],
   "source": [
    "# ROC_AUC를 계산하기 위해 metrics 모듈의 함수를 가져오기\n",
    "from sklearn.metrics import roc_auc_score\n",
    "\n",
    "# 정확도, 정밀도, 재현율을 계산하기 위해 각 함수를 가져오기 \n",
    "from sklearn.metrics import accuracy_score, precision_score, recall_score"
   ]
  },
  {
   "cell_type": "code",
   "execution_count": 98,
   "id": "7781652d",
   "metadata": {},
   "outputs": [
    {
     "name": "stdout",
     "output_type": "stream",
     "text": [
      "0.6904761904761906\n",
      "0.7\n",
      "0.8333333333333334\n",
      "0.7142857142857143\n"
     ]
    }
   ],
   "source": [
    "# 테스트 데이터의 ROC_AUC 구하기\n",
    "print(roc_auc_score(y_test2, y_test2_predicted))\n",
    "\n",
    "# 테스트 데이터의 정확도 구하기\n",
    "print(accuracy_score(y_test2, y_test2_predicted))\n",
    "\n",
    "# 테스트 데이터의 정밀도 구하기\n",
    "print(precision_score(y_test2, y_test2_predicted))\n",
    "\n",
    "# 테스트 데이터의 재현율 구하기\n",
    "print(recall_score(y_test2, y_test2_predicted))"
   ]
  },
  {
   "cell_type": "markdown",
   "id": "e64fec90",
   "metadata": {},
   "source": [
    "#### 2. 랜덤 포레스트 분류 Random Forest Classifier : 앙상블 모형 중 하나, 무작위의 다수 트리를 만들어 투표에 의해서 값을 결정\n",
    "https://bit.ly/2ZAj9ko"
   ]
  },
  {
   "cell_type": "code",
   "execution_count": 103,
   "id": "4050a1f3",
   "metadata": {},
   "outputs": [],
   "source": [
    "# ensemble 모듈에서 제공하는 RandomForestClassifier 함수 가져오기\n",
    "from sklearn.ensemble import RandomForestClassifier\n",
    "\n",
    "# 랜덤 포레스트 분류 분석을 수행할 모델 만들기\n",
    "model = RandomForestClassifier(random_state = 10)\n",
    "\n",
    "# 생성한 모델에 x_train2, y_train2를 전달해서 랜덤 포레스트 분류 분석으로 공부시키기\n",
    "model.fit(x_train2, y_train2)\n",
    "\n",
    "# 학습이 완료된 모델에 x_test2를 전달하여 y_test2 값을 예측하기\n",
    "y_test2_predicted = model.predict(x_test2)"
   ]
  },
  {
   "cell_type": "code",
   "execution_count": 104,
   "id": "5f3469ed",
   "metadata": {},
   "outputs": [
    {
     "name": "stdout",
     "output_type": "stream",
     "text": [
      "0.8571428571428572\n"
     ]
    }
   ],
   "source": [
    "# ROC_AUC를 계산하기 위해 metrics 모듈의 함수를 가져오기\n",
    "from sklearn.metrics import roc_auc_score\n",
    "\n",
    "# 테스트 데이터의 ROC_AUC 구하기\n",
    "print(roc_auc_score(y_test2, y_test2_predicted))"
   ]
  },
  {
   "cell_type": "markdown",
   "id": "488515f5",
   "metadata": {},
   "source": [
    "#### 3. 로지스틱 회귀 Logistic Regression : 종속변수가 어떤 범주에 속할지에 대해서 0과 1 사이의 연속적인 확률로 예측하는 회귀 알고리즘\n",
    "https://bit.ly/3vRXuR2"
   ]
  },
  {
   "cell_type": "code",
   "execution_count": 109,
   "id": "21f74351",
   "metadata": {},
   "outputs": [
    {
     "name": "stderr",
     "output_type": "stream",
     "text": [
      "/Users/heetaecho/opt/anaconda3/lib/python3.8/site-packages/sklearn/linear_model/_logistic.py:763: ConvergenceWarning: lbfgs failed to converge (status=1):\n",
      "STOP: TOTAL NO. of ITERATIONS REACHED LIMIT.\n",
      "\n",
      "Increase the number of iterations (max_iter) or scale the data as shown in:\n",
      "    https://scikit-learn.org/stable/modules/preprocessing.html\n",
      "Please also refer to the documentation for alternative solver options:\n",
      "    https://scikit-learn.org/stable/modules/linear_model.html#logistic-regression\n",
      "  n_iter_i = _check_optimize_result(\n"
     ]
    }
   ],
   "source": [
    "# linear_model 모듈에서 제공하는 LogisticRegression 함수 가져오기\n",
    "from sklearn.linear_model import LogisticRegression\n",
    "\n",
    "# 로지스틱 회귀 분석으로 수행할 모델을 만들고 공부시키기\n",
    "model = LogisticRegression(random_state = 10)\n",
    "model.fit(x_train2, y_train2)\n",
    "\n",
    "# 학습이 완료된 모델을 통해 y_test2를 예측하기\n",
    "y_test2_predicted = model.predict(x_test2)"
   ]
  },
  {
   "cell_type": "code",
   "execution_count": 111,
   "id": "24bdeab8",
   "metadata": {},
   "outputs": [
    {
     "name": "stdout",
     "output_type": "stream",
     "text": [
      "0.7619047619047621\n"
     ]
    }
   ],
   "source": [
    "# ROC_AUC를 계산하기 위해 metrics 모듈의 함수 가져오기\n",
    "from sklearn.metrics import roc_auc_score\n",
    "\n",
    "# 테스트 데이터의 ROC-AUC 구하기\n",
    "print(roc_auc_score(y_test2, y_test2_predicted))"
   ]
  },
  {
   "cell_type": "markdown",
   "id": "e6d0fb38",
   "metadata": {},
   "source": [
    "#### 4. 익스트림 그레디언트 부스팅 분류 eXtreme Gradient Boosting : 다수의 약한 분류기를 묶어서 정확도를 향상하는 기법, 병렬처리 기능을 지원하여 빠른 속도로 결과를 도출할 수 있음.\n",
    "https://bit.ly/3bl8T2b"
   ]
  },
  {
   "cell_type": "code",
   "execution_count": 162,
   "id": "222a5045",
   "metadata": {},
   "outputs": [
    {
     "name": "stdout",
     "output_type": "stream",
     "text": [
      "[18:23:40] WARNING: ../src/learner.cc:1115: Starting in XGBoost 1.3.0, the default evaluation metric used with the objective 'binary:logistic' was changed from 'error' to 'logloss'. Explicitly set eval_metric if you'd like to restore the old behavior.\n"
     ]
    },
    {
     "name": "stderr",
     "output_type": "stream",
     "text": [
      "/Users/heetaecho/opt/anaconda3/lib/python3.8/site-packages/xgboost/sklearn.py:1224: UserWarning: The use of label encoder in XGBClassifier is deprecated and will be removed in a future release. To remove this warning, do the following: 1) Pass option use_label_encoder=False when constructing XGBClassifier object; and 2) Encode your labels (y) as integers starting with 0, i.e. 0, 1, 2, ..., [num_class - 1].\n",
      "  warnings.warn(label_encoder_deprecation_msg, UserWarning)\n"
     ]
    }
   ],
   "source": [
    "# xgboost 모듈에서 제공하는 XGBClassifier 함수를 가져오기\n",
    "from xgboost import XGBClassifier\n",
    "\n",
    "# XGB 분류 분석으로 수행할 모델을 만들고,공부시키기\n",
    "model = XGBClassifier(random_state = 10)\n",
    "model.fit(x_train2, y_train2)\n",
    "\n",
    "# 학습이 완료된 모델을 통해 y_test2를 예측하기\n",
    "y_test2_predicted = model.predict(x_test2)"
   ]
  },
  {
   "cell_type": "code",
   "execution_count": 163,
   "id": "b075ac8e",
   "metadata": {},
   "outputs": [
    {
     "data": {
      "text/plain": [
       "array([0, 0, 1, 0, 1, 1, 1, 1, 1, 0])"
      ]
     },
     "execution_count": 163,
     "metadata": {},
     "output_type": "execute_result"
    }
   ],
   "source": [
    "# y_test2_predicted 값 확인하기\n",
    "y_test2_predicted"
   ]
  },
  {
   "cell_type": "markdown",
   "id": "6f85480e",
   "metadata": {},
   "source": [
    "새로운 관점의 예측값 - 종속변수의 분류값 단순 예측(0,0,0,1,1,0 --)이 아닌 종속변수의 0과 1에 대한 확률값 계산\n",
    "-> predict_proba()"
   ]
  },
  {
   "cell_type": "code",
   "execution_count": 164,
   "id": "7ab885f2",
   "metadata": {},
   "outputs": [
    {
     "data": {
      "text/plain": [
       "array([[0.5252248 , 0.47477522],\n",
       "       [0.67885995, 0.32114008],\n",
       "       [0.03991383, 0.96008617],\n",
       "       [0.8779035 , 0.1220965 ],\n",
       "       [0.10923749, 0.8907625 ],\n",
       "       [0.10923749, 0.8907625 ],\n",
       "       [0.03991383, 0.96008617],\n",
       "       [0.38030726, 0.61969274],\n",
       "       [0.03991383, 0.96008617],\n",
       "       [0.8811508 , 0.1188492 ]], dtype=float32)"
      ]
     },
     "execution_count": 164,
     "metadata": {},
     "output_type": "execute_result"
    }
   ],
   "source": [
    "# 테스트 데이터의 종속변수에 대한 분류 확률을 계산하기\n",
    "y_test2_proba = model.predict_proba(x_test2)\n",
    "\n",
    "# 테스트 데이터에 대한 분류 확률인 y_test2_proba 값을 확인하기\n",
    "y_test2_proba"
   ]
  },
  {
   "cell_type": "markdown",
   "id": "3864f4f5",
   "metadata": {},
   "source": [
    "총 10행 2열, 1열은 0값으로 분류될 확률, 2열은 1값으로 분류될 확률"
   ]
  },
  {
   "cell_type": "code",
   "execution_count": 165,
   "id": "0f27780b",
   "metadata": {},
   "outputs": [
    {
     "name": "stdout",
     "output_type": "stream",
     "text": [
      "0.6904761904761906\n"
     ]
    }
   ],
   "source": [
    "# ROC-AUC를 계산하기 위해 metrics 모듈의 함수를 가져오기\n",
    "from sklearn.metrics import roc_auc_score\n",
    "\n",
    "# 테스트 데이터의 ROC-AUC 구하기\n",
    "print(roc_auc_score(y_test2, y_test2_predicted))"
   ]
  },
  {
   "cell_type": "markdown",
   "id": "9b57dabc",
   "metadata": {},
   "source": [
    "## 분류 모델로 사용할 수 있는 기타 알고리즘\n"
   ]
  },
  {
   "cell_type": "markdown",
   "id": "22259fef",
   "metadata": {},
   "source": [
    "### 서포트 벡터 분류(SVC Support Vector Machine) \n",
    "https://bit.ly/3jNLWtg"
   ]
  },
  {
   "cell_type": "markdown",
   "id": "35fd8489",
   "metadata": {},
   "source": [
    "#### 서포트 벡터 분류 분석으로 모델 학습 및 테스트 데이터의 종속변수 예측하기"
   ]
  },
  {
   "cell_type": "code",
   "execution_count": 137,
   "id": "7e448138",
   "metadata": {},
   "outputs": [],
   "source": [
    "from sklearn.svm import SVC\n",
    "model = SVC(random_state = 10)\n",
    "model.fit(x_train2, y_train2)\n",
    "y_test2_predicted = model.predict(x_test2)"
   ]
  },
  {
   "cell_type": "markdown",
   "id": "4348dee7",
   "metadata": {},
   "source": [
    "#### 서포트 벡터 분류 분석으로 학습한 모델을 평가하기"
   ]
  },
  {
   "cell_type": "code",
   "execution_count": 138,
   "id": "74736a73",
   "metadata": {},
   "outputs": [
    {
     "name": "stdout",
     "output_type": "stream",
     "text": [
      "0.6904761904761906\n"
     ]
    }
   ],
   "source": [
    "from sklearn.metrics import roc_auc_score\n",
    "print(roc_auc_score(y_test2, y_test2_predicted))"
   ]
  },
  {
   "cell_type": "markdown",
   "id": "5160ed8a",
   "metadata": {},
   "source": [
    "### 배깅 분류(BaggingClassifier)\n",
    "https://bit.ly/3pMcleI"
   ]
  },
  {
   "cell_type": "markdown",
   "id": "1f9b67f1",
   "metadata": {},
   "source": [
    "#### 배깅 분류 분석으로 모델 학습 및 테스트 데이터의 종속변수 예측하기"
   ]
  },
  {
   "cell_type": "code",
   "execution_count": 139,
   "id": "343547d7",
   "metadata": {},
   "outputs": [],
   "source": [
    "from sklearn.ensemble import BaggingClassifier\n",
    "model = BaggingClassifier(random_state = 10)\n",
    "model.fit(x_train2, y_train2)\n",
    "y_test2_predicted = model.predict(x_test2)"
   ]
  },
  {
   "cell_type": "markdown",
   "id": "0059e477",
   "metadata": {},
   "source": [
    "#### 배깅 분류 분석으로 학습한 모델을 평가하기"
   ]
  },
  {
   "cell_type": "code",
   "execution_count": 140,
   "id": "53728b51",
   "metadata": {},
   "outputs": [
    {
     "name": "stdout",
     "output_type": "stream",
     "text": [
      "0.7857142857142857\n"
     ]
    }
   ],
   "source": [
    "from sklearn.metrics import roc_auc_score\n",
    "print(roc_auc_score(y_test2, y_test2_predicted))"
   ]
  },
  {
   "cell_type": "markdown",
   "id": "0b127aae",
   "metadata": {},
   "source": [
    "### K-최근접 이웃(K-Nearest-Neighbor)\n",
    "https://bit.ly/3CpXPg1"
   ]
  },
  {
   "cell_type": "markdown",
   "id": "1486870b",
   "metadata": {},
   "source": [
    "#### K-최근접 이웃 분류 분석으로 모델 학습 및 테스트 데이터의 종속변수 예측하기"
   ]
  },
  {
   "cell_type": "code",
   "execution_count": 153,
   "id": "92072fe9",
   "metadata": {},
   "outputs": [],
   "source": [
    "from sklearn.neighbors import KNeighborsClassifier\n",
    "model = KNeighborsClassifier()\n",
    "model.fit(x_train2, y_train2)\n",
    "y_test2_predicted = model.predict(x_test2)"
   ]
  },
  {
   "cell_type": "markdown",
   "id": "4eae2f31",
   "metadata": {},
   "source": [
    "#### K-최근접 이웃 분류 분석으로 학습한 모델을 평가하기"
   ]
  },
  {
   "cell_type": "code",
   "execution_count": 154,
   "id": "3fcbd87c",
   "metadata": {},
   "outputs": [
    {
     "name": "stdout",
     "output_type": "stream",
     "text": [
      "0.5238095238095238\n"
     ]
    }
   ],
   "source": [
    "from sklearn.metrics import roc_auc_score\n",
    "print(roc_auc_score(y_test2, y_test2_predicted))"
   ]
  },
  {
   "cell_type": "markdown",
   "id": "81bee383",
   "metadata": {},
   "source": [
    "### 다층 퍼센트론 분류(Multi Layer Perceptron Classifier) \n",
    "https://bit.ly/3nGbZDD"
   ]
  },
  {
   "cell_type": "markdown",
   "id": "d1157057",
   "metadata": {},
   "source": [
    "#### 다층 퍼셉트론 분류 분석으로 모델 학습 및 테스트 데이터의 종속변수 예측하기"
   ]
  },
  {
   "cell_type": "code",
   "execution_count": 159,
   "id": "60810e0c",
   "metadata": {},
   "outputs": [
    {
     "name": "stderr",
     "output_type": "stream",
     "text": [
      "/Users/heetaecho/opt/anaconda3/lib/python3.8/site-packages/sklearn/neural_network/_multilayer_perceptron.py:614: ConvergenceWarning: Stochastic Optimizer: Maximum iterations (200) reached and the optimization hasn't converged yet.\n",
      "  warnings.warn(\n"
     ]
    }
   ],
   "source": [
    "from sklearn.neural_network import MLPClassifier\n",
    "model = MLPClassifier()\n",
    "model.fit(x_train2, y_train2)\n",
    "y_test2_predicted = model.predict(x_test2)"
   ]
  },
  {
   "cell_type": "markdown",
   "id": "0f9f651b",
   "metadata": {},
   "source": [
    "#### 다층 퍼셉트론 분류 분석으로 학습한 모델을 평가하기"
   ]
  },
  {
   "cell_type": "code",
   "execution_count": 160,
   "id": "fc59c27c",
   "metadata": {},
   "outputs": [
    {
     "name": "stdout",
     "output_type": "stream",
     "text": [
      "0.5952380952380953\n"
     ]
    }
   ],
   "source": [
    "from sklearn.metrics import roc_auc_score\n",
    "print(roc_auc_score(y_test2, y_test2_predicted))"
   ]
  },
  {
   "cell_type": "markdown",
   "id": "e27ffc11",
   "metadata": {},
   "source": [
    "## 최종 결과 공유하기\n",
    "\n",
    "### 1유형 -> 결과값 출력"
   ]
  },
  {
   "cell_type": "markdown",
   "id": "13201a55",
   "metadata": {},
   "source": [
    "XGBClassifier 학습 모델에 대한 테스트 데이터의 ROC-AUC 값을 출력하는 것이라고 가정. 코드 작성, 실행 후 제출, 그 외 불필요한 출력 코드들은 주석 처리하거나 삭제"
   ]
  },
  {
   "cell_type": "code",
   "execution_count": 167,
   "id": "7a766324",
   "metadata": {},
   "outputs": [
    {
     "name": "stdout",
     "output_type": "stream",
     "text": [
      "0.6904761904761906\n"
     ]
    }
   ],
   "source": [
    "# 출력하는 다른 코드는 주석 처리하고, 최종 결과만 출력하기\n",
    "print(roc_auc_score(y_test2, y_test2_predicted))"
   ]
  },
  {
   "cell_type": "markdown",
   "id": "60d689e4",
   "metadata": {},
   "source": [
    "### 2유형 -> csv 파일로 저장"
   ]
  },
  {
   "cell_type": "markdown",
   "id": "632e13bc",
   "metadata": {},
   "source": [
    "최종 값(y_test2_predicted)을 데이터 프레임 타입의 변수로 변경한 후, to_csv 함수 안에 파일 경로와 파일명을 입력. 파일 제목은 '12345.csv'"
   ]
  },
  {
   "cell_type": "code",
   "execution_count": 171,
   "id": "96589672",
   "metadata": {},
   "outputs": [
    {
     "name": "stdout",
     "output_type": "stream",
     "text": [
      "<class 'numpy.ndarray'>\n"
     ]
    }
   ],
   "source": [
    "# 제출할 y_test2_predicted 변수의 데이터 타입 확인하기\n",
    "print(type(y_test2_predicted))\n",
    "\n",
    "# 제출할 변수를 데이터 프레임으로 변경하고, data 디렉터리 하위에 csv 파일 저장하기\n",
    "pd.DataFrame(y_test2_predicted).to_csv('12345.csv', index=False)"
   ]
  },
  {
   "cell_type": "markdown",
   "id": "34af37d5",
   "metadata": {},
   "source": [
    "to_csv 함수의 index=False는 행(인덱스) 번호를 제외하고 csv 파일에 저장한다는 의미. to_csv 함수에서 행 번호를 포함시켜 저장하는 index=True 값이 기본값이므로, 불필요한 행 번호를 저장하지 않도록 index=False 옵션 반드시 작성"
   ]
  }
 ],
 "metadata": {
  "kernelspec": {
   "display_name": "Python 3",
   "language": "python",
   "name": "python3"
  },
  "language_info": {
   "codemirror_mode": {
    "name": "ipython",
    "version": 3
   },
   "file_extension": ".py",
   "mimetype": "text/x-python",
   "name": "python",
   "nbconvert_exporter": "python",
   "pygments_lexer": "ipython3",
   "version": "3.8.2"
  }
 },
 "nbformat": 4,
 "nbformat_minor": 5
}
