{
 "cells": [
  {
   "cell_type": "markdown",
   "id": "8421295f",
   "metadata": {},
   "source": [
    "## 3.1 데이터 탐색하기"
   ]
  },
  {
   "cell_type": "markdown",
   "id": "5a58958c",
   "metadata": {},
   "source": [
    "### 데이터 가져오기"
   ]
  },
  {
   "cell_type": "code",
   "execution_count": 1,
   "id": "72e39887",
   "metadata": {},
   "outputs": [],
   "source": [
    "# pandas 라이브러리 가져오기\n",
    "import pandas as pd\n",
    "\n",
    "# 주어진 데이터 파일을 모두 읽어서, 각 데이터 프레임 변수에 저장하기\n",
    "x_train = pd.read_csv('bike_x_train.csv', encoding='cp949')\n",
    "x_test = pd.read_csv('bike_x_test.csv', encoding='cp949')\n",
    "y_train = pd.read_csv('bike_y_train.csv')"
   ]
  },
  {
   "cell_type": "code",
   "execution_count": 2,
   "id": "218de615",
   "metadata": {},
   "outputs": [
    {
     "name": "stdout",
     "output_type": "stream",
     "text": [
      "          datetime  계절  공휴일  근무일  날씨    온도    체감온도  습도   풍속\n",
      "0  2011-01-01 0:00   1    0    0   1  9.84  14.395  81  0.0\n",
      "1  2011-01-01 1:00   1    0    0   1  9.02  13.635  80  0.0\n",
      "2  2011-01-01 2:00   1    0    0   1  9.02  13.635  80  0.0\n",
      "          datetime  계절  공휴일  근무일  날씨     온도    체감온도  습도       풍속\n",
      "0  2011-01-20 0:00   1    0    1   1  10.66  11.365  56  26.0027\n",
      "1  2011-01-20 1:00   1    0    1   1  10.66  13.635  56   0.0000\n",
      "2  2011-01-20 2:00   1    0    1   1  10.66  13.635  56   0.0000\n",
      "          datetime  count\n",
      "0  2011-01-01 0:00     16\n",
      "1  2011-01-01 1:00     40\n",
      "2  2011-01-01 2:00     32\n",
      "3  2011-01-01 3:00     13\n",
      "4  2011-01-01 4:00      1\n"
     ]
    }
   ],
   "source": [
    "# 독립변수인 x_train, x_test의 상위 3개 행을 확인하기\n",
    "print(x_train.head(3))\n",
    "print(x_test.head(3))\n",
    "\n",
    "# 종속변수인 y_train의 상위 5개 행을 확인하기\n",
    "print(y_train.head(5))"
   ]
  },
  {
   "cell_type": "markdown",
   "id": "5c9875f9",
   "metadata": {},
   "source": [
    "### 행/열 확인하기"
   ]
  },
  {
   "cell_type": "code",
   "execution_count": 3,
   "id": "4851cbc0",
   "metadata": {},
   "outputs": [
    {
     "name": "stdout",
     "output_type": "stream",
     "text": [
      "(10886, 9)\n",
      "(6493, 9)\n",
      "(10886, 2)\n"
     ]
    }
   ],
   "source": [
    "# 각 데이터 세트의 행과 열 개수를 확인하기\n",
    "print(x_train.shape)\n",
    "print(x_test.shape)\n",
    "print(y_train.shape)"
   ]
  },
  {
   "cell_type": "markdown",
   "id": "793fe359",
   "metadata": {},
   "source": [
    "### 요약정보 확인하기"
   ]
  },
  {
   "cell_type": "code",
   "execution_count": 4,
   "id": "14070963",
   "metadata": {},
   "outputs": [
    {
     "name": "stdout",
     "output_type": "stream",
     "text": [
      "<class 'pandas.core.frame.DataFrame'>\n",
      "RangeIndex: 10886 entries, 0 to 10885\n",
      "Data columns (total 9 columns):\n",
      " #   Column    Non-Null Count  Dtype  \n",
      "---  ------    --------------  -----  \n",
      " 0   datetime  10886 non-null  object \n",
      " 1   계절        10886 non-null  int64  \n",
      " 2   공휴일       10886 non-null  int64  \n",
      " 3   근무일       10886 non-null  int64  \n",
      " 4   날씨        10886 non-null  int64  \n",
      " 5   온도        10886 non-null  float64\n",
      " 6   체감온도      10886 non-null  float64\n",
      " 7   습도        10886 non-null  int64  \n",
      " 8   풍속        10886 non-null  float64\n",
      "dtypes: float64(3), int64(5), object(1)\n",
      "memory usage: 765.5+ KB\n"
     ]
    }
   ],
   "source": [
    "# x_train 세트의 요약정보 확인하기\n",
    "x_train.info()"
   ]
  },
  {
   "cell_type": "code",
   "execution_count": 5,
   "id": "0c271823",
   "metadata": {},
   "outputs": [
    {
     "name": "stdout",
     "output_type": "stream",
     "text": [
      "[1 2 3 4]\n",
      "[0 1]\n",
      "[0 1]\n",
      "[1 2 3 4]\n"
     ]
    }
   ],
   "source": [
    "# 범주형 변수들의 값을 확인하기\n",
    "print(x_train['계절'].unique())\n",
    "print(x_train['공휴일'].unique())\n",
    "print(x_train['근무일'].unique())\n",
    "print(x_train['날씨'].unique())"
   ]
  },
  {
   "cell_type": "markdown",
   "id": "02589b64",
   "metadata": {},
   "source": [
    "### 기초 통계량 확인하기"
   ]
  },
  {
   "cell_type": "code",
   "execution_count": 6,
   "id": "4fab4a74",
   "metadata": {},
   "outputs": [
    {
     "name": "stdout",
     "output_type": "stream",
     "text": [
      "        count       mean        std   min      25%     50%      75%       max\n",
      "계절    10886.0   2.506614   1.116174  1.00   2.0000   3.000   4.0000    4.0000\n",
      "공휴일   10886.0   0.028569   0.166599  0.00   0.0000   0.000   0.0000    1.0000\n",
      "근무일   10886.0   0.680875   0.466159  0.00   0.0000   1.000   1.0000    1.0000\n",
      "날씨    10886.0   1.418427   0.633839  1.00   1.0000   1.000   2.0000    4.0000\n",
      "온도    10886.0  20.230860   7.791590  0.82  13.9400  20.500  26.2400   41.0000\n",
      "체감온도  10886.0  23.655084   8.474601  0.76  16.6650  24.240  31.0600   45.4550\n",
      "습도    10886.0  61.886460  19.245033  0.00  47.0000  62.000  77.0000  100.0000\n",
      "풍속    10886.0  12.799395   8.164537  0.00   7.0015  12.998  16.9979   56.9969\n"
     ]
    }
   ],
   "source": [
    "# x_train의 기초 통계량 확인하고, 가독성을 위해 행/열 바꿔서 출력하기\n",
    "print(x_train.describe().T)"
   ]
  },
  {
   "cell_type": "markdown",
   "id": "e38912e8",
   "metadata": {},
   "source": [
    "### 독립변수와 종속변수의 관계 확인하기"
   ]
  },
  {
   "cell_type": "code",
   "execution_count": 7,
   "id": "9d942d64",
   "metadata": {},
   "outputs": [],
   "source": [
    "# x_train, y_train을 세로 방향으로 통합한 후, data 변수에 저장하기\n",
    "data = pd.concat([x_train, y_train], axis=1)"
   ]
  },
  {
   "cell_type": "code",
   "execution_count": 9,
   "id": "b8f4cd3c",
   "metadata": {},
   "outputs": [
    {
     "name": "stdout",
     "output_type": "stream",
     "text": [
      "계절\n",
      "1    312498\n",
      "2    588282\n",
      "3    640662\n",
      "4    544034\n",
      "Name: count, dtype: int64\n"
     ]
    }
   ],
   "source": [
    "# '계절' 칼럼에 따른 count(자전거 대여량) 합계를 구하기\n",
    "# 1(봄) 2(여름) 3(가을) 4(겨울)\n",
    "print(data.groupby('계절')['count'].sum())"
   ]
  },
  {
   "cell_type": "code",
   "execution_count": 12,
   "id": "56f60855",
   "metadata": {},
   "outputs": [
    {
     "name": "stdout",
     "output_type": "stream",
     "text": [
      "공휴일\n",
      "0    2027668\n",
      "1      57808\n",
      "Name: count, dtype: int64\n",
      "공휴일\n",
      "0    191.741655\n",
      "1    185.877814\n",
      "Name: count, dtype: float64\n"
     ]
    }
   ],
   "source": [
    "# '공휴일' 칼럼에 따른 count(자전거 대여량) 합계를 구하기\n",
    "# 0(공휴일 아님) 1(공휴일)\n",
    "print(data.groupby(['공휴일'])['count'].sum())\n",
    "print(data.groupby(['공휴일'])['count'].mean())"
   ]
  },
  {
   "cell_type": "code",
   "execution_count": 13,
   "id": "a4071b20",
   "metadata": {},
   "outputs": [
    {
     "name": "stdout",
     "output_type": "stream",
     "text": [
      "근무일\n",
      "0     654872\n",
      "1    1430604\n",
      "Name: count, dtype: int64\n",
      "근무일\n",
      "0    188.506621\n",
      "1    193.011873\n",
      "Name: count, dtype: float64\n"
     ]
    }
   ],
   "source": [
    "# '근무일' 칼럼에 따른 count(자전거 대여량) 합계를 구하기\n",
    "# 0(근무일 아님) 1(근무일)\n",
    "print(data.groupby(['근무일'])['count'].sum())\n",
    "print(data.groupby(['근무일'])['count'].mean())"
   ]
  },
  {
   "cell_type": "code",
   "execution_count": 14,
   "id": "0d2a4bb2",
   "metadata": {},
   "outputs": [
    {
     "name": "stdout",
     "output_type": "stream",
     "text": [
      "날씨\n",
      "1    1476063\n",
      "2     507160\n",
      "3     102089\n",
      "4        164\n",
      "Name: count, dtype: int64\n",
      "날씨\n",
      "1    205.236791\n",
      "2    178.955540\n",
      "3    118.846333\n",
      "4    164.000000\n",
      "Name: count, dtype: float64\n"
     ]
    }
   ],
   "source": [
    "# '날씨' 칼럼에 따른 count(자전거 대여량) 합계를 구하기\n",
    "# 1(아주 깨끗한 날씨) 2(안개와 구름이 있는 날씨) 3(조금의 눈과 비 또는 조금의 천둥이 치는 날씨) 4(아주 많은 비 또는 우박이 내리는 날씨)\n",
    "print(data.groupby(['날씨'])['count'].sum())\n",
    "print(data.groupby(['날씨'])['count'].mean())"
   ]
  },
  {
   "cell_type": "markdown",
   "id": "2a6ad457",
   "metadata": {},
   "source": [
    "## 3.2 전처리하기"
   ]
  },
  {
   "cell_type": "markdown",
   "id": "181b3949",
   "metadata": {},
   "source": [
    "### 파생변수 만들기"
   ]
  },
  {
   "cell_type": "code",
   "execution_count": 21,
   "id": "8effb0ad",
   "metadata": {},
   "outputs": [],
   "source": [
    "# datatime 칼럼의 데이터 타입을 날짜 타입(datetime)으로 변환하기\n",
    "x_train['datetime'] = pd.to_datetime(x_train['datetime'])"
   ]
  },
  {
   "cell_type": "code",
   "execution_count": 23,
   "id": "3b9d4e2a",
   "metadata": {},
   "outputs": [
    {
     "name": "stdout",
     "output_type": "stream",
     "text": [
      "[2011 2012]\n"
     ]
    }
   ],
   "source": [
    "# x_train의 'datetime' 칼럼에서 연도 데이터를 추출하여 'year' 칼럼에 저장하기\n",
    "x_train['year'] = x_train['datetime'].dt.year\n",
    "\n",
    "# x_train의 'year' 칼럼에서 중복 제거한 값을 확인하기\n",
    "print(x_train['year'].unique())"
   ]
  },
  {
   "cell_type": "code",
   "execution_count": 24,
   "id": "156759ee",
   "metadata": {},
   "outputs": [
    {
     "name": "stdout",
     "output_type": "stream",
     "text": [
      "[ 1  2  3  4  5  6  7  8  9 10 11 12]\n"
     ]
    }
   ],
   "source": [
    "# x_train의 'datetime' 칼럼에서 월 데이터를 추출하여 'month' 칼럼에 저장하기\n",
    "x_train['month'] = x_train['datetime'].dt.month\n",
    "\n",
    "# x_train의 'month' 칼럼에서 중복 제거한 값을 확인하기\n",
    "print(x_train['month'].unique())"
   ]
  },
  {
   "cell_type": "code",
   "execution_count": 26,
   "id": "ba12ef0f",
   "metadata": {},
   "outputs": [
    {
     "name": "stdout",
     "output_type": "stream",
     "text": [
      "[ 1  2  3  4  5  6  7  8  9 10 11 12 13 14 15 16 17 18 19]\n"
     ]
    }
   ],
   "source": [
    "# x_train의 'datetime' 칼럼에서 일자 데이터를 추출하여 'day' 칼럼에 저장하기\n",
    "x_train['day'] = x_train['datetime'].dt.day\n",
    "\n",
    "# x_train의 'day' 칼럼에서 중복 제거한 값을 확인하기\n",
    "print(x_train['day'].unique())"
   ]
  },
  {
   "cell_type": "code",
   "execution_count": 27,
   "id": "5300bde2",
   "metadata": {},
   "outputs": [
    {
     "name": "stdout",
     "output_type": "stream",
     "text": [
      "[ 0  1  2  3  4  5  6  7  8  9 10 11 12 13 14 15 16 17 18 19 20 21 22 23]\n"
     ]
    }
   ],
   "source": [
    "# x_train의 'datetime' 칼럼에서 시간 데이터를 추출하여 'hour' 칼럼에 저장하기\n",
    "x_train['hour'] = x_train['datetime'].dt.hour\n",
    "\n",
    "# x_train의 'hour' 칼럼에서 중복 제거한 값을 확인하기\n",
    "print(x_train['hour'].unique())"
   ]
  },
  {
   "cell_type": "code",
   "execution_count": 28,
   "id": "8f4dd715",
   "metadata": {},
   "outputs": [
    {
     "name": "stdout",
     "output_type": "stream",
     "text": [
      "[5 6 0 1 2 3 4]\n"
     ]
    }
   ],
   "source": [
    "# x_train의 'datetime' 칼럼에서 연도 데이터를 추출하여 'dayofweek' 칼럼에 저장하기\n",
    "x_train['dayofweek'] = x_train['datetime'].dt.dayofweek\n",
    "\n",
    "# x_train의 'dayofweek' 칼럼에서 중복 제거한 값을 확인하기\n",
    "print(x_train['dayofweek'].unique())"
   ]
  },
  {
   "cell_type": "code",
   "execution_count": 29,
   "id": "e1f46c02",
   "metadata": {},
   "outputs": [],
   "source": [
    "# 파생변수가 포함된 독립변수와 종속변수를 통합한 data2 만들기\n",
    "data2 = pd.concat([x_train, y_train], axis=1)"
   ]
  },
  {
   "cell_type": "code",
   "execution_count": 32,
   "id": "758e589c",
   "metadata": {},
   "outputs": [
    {
     "name": "stdout",
     "output_type": "stream",
     "text": [
      "year\n",
      "2011     781979\n",
      "2012    1303497\n",
      "Name: count, dtype: int64\n",
      "year\n",
      "2011    144.223349\n",
      "2012    238.560944\n",
      "Name: count, dtype: float64\n"
     ]
    }
   ],
   "source": [
    "# 'year' 칼럼에 따른 'count' 합계를 구하기\n",
    "print(data2.groupby(['year'])['count'].sum())\n",
    "print(data2.groupby(['year'])['count'].mean())"
   ]
  },
  {
   "cell_type": "code",
   "execution_count": 34,
   "id": "f5661d93",
   "metadata": {},
   "outputs": [
    {
     "name": "stdout",
     "output_type": "stream",
     "text": [
      "month\n",
      "1      79884\n",
      "2      99113\n",
      "3     133501\n",
      "4     167402\n",
      "5     200147\n",
      "6     220733\n",
      "7     214617\n",
      "8     213516\n",
      "9     212529\n",
      "10    207434\n",
      "11    176440\n",
      "12    160160\n",
      "Name: count, dtype: int64\n",
      "month\n",
      "1      90.366516\n",
      "2     110.003330\n",
      "3     148.169811\n",
      "4     184.160616\n",
      "5     219.459430\n",
      "6     242.031798\n",
      "7     235.325658\n",
      "8     234.118421\n",
      "9     233.805281\n",
      "10    227.699232\n",
      "11    193.677278\n",
      "12    175.614035\n",
      "Name: count, dtype: float64\n"
     ]
    }
   ],
   "source": [
    "# 'month' 칼럼에 따른 'count' 합계를 구하기\n",
    "print(data2.groupby(['month'])['count'].sum())\n",
    "print(data2.groupby(['month'])['count'].mean())\n",
    "\n",
    "# x_train에서 'month' 칼럼을 삭제하기\n",
    "x_train = x_train.drop(columns=['month'])"
   ]
  },
  {
   "cell_type": "code",
   "execution_count": 35,
   "id": "fb1f5c68",
   "metadata": {},
   "outputs": [
    {
     "name": "stdout",
     "output_type": "stream",
     "text": [
      "day\n",
      "1     103692\n",
      "2     105381\n",
      "3     111561\n",
      "4     112335\n",
      "5     109115\n",
      "6     108600\n",
      "7     105486\n",
      "8     102770\n",
      "9     108041\n",
      "10    111645\n",
      "11    111146\n",
      "12    109257\n",
      "13    111448\n",
      "14    112406\n",
      "15    115677\n",
      "16    109837\n",
      "17    118255\n",
      "18    108437\n",
      "19    110387\n",
      "Name: count, dtype: int64\n",
      "day\n",
      "1     180.333913\n",
      "2     183.910995\n",
      "3     194.696335\n",
      "4     195.705575\n",
      "5     189.765217\n",
      "6     189.860140\n",
      "7     183.773519\n",
      "8     179.041812\n",
      "9     187.897391\n",
      "10    195.183566\n",
      "11    195.679577\n",
      "12    190.675393\n",
      "13    194.160279\n",
      "14    195.829268\n",
      "15    201.527875\n",
      "16    191.353659\n",
      "17    205.660870\n",
      "18    192.605684\n",
      "19    192.311847\n",
      "Name: count, dtype: float64\n"
     ]
    }
   ],
   "source": [
    "# 'day' 칼럼에 따른 'count' 합계를 구하기\n",
    "print(data2.groupby(['day'])['count'].sum())\n",
    "print(data2.groupby(['day'])['count'].mean())\n",
    "\n",
    "# x_train에서 'day' 칼럼을 삭제하기\n",
    "x_train = x_train.drop(columns=['day'])"
   ]
  },
  {
   "cell_type": "code",
   "execution_count": 36,
   "id": "3be766bf",
   "metadata": {},
   "outputs": [
    {
     "name": "stdout",
     "output_type": "stream",
     "text": [
      "hour\n",
      "0      25088\n",
      "1      15372\n",
      "2      10259\n",
      "3       5091\n",
      "4       2832\n",
      "5       8935\n",
      "6      34698\n",
      "7      96968\n",
      "8     165060\n",
      "9     100910\n",
      "10     79667\n",
      "11     95857\n",
      "12    116968\n",
      "13    117551\n",
      "14    111010\n",
      "15    115960\n",
      "16    144266\n",
      "17    213757\n",
      "18    196472\n",
      "19    143767\n",
      "20    104204\n",
      "21     79057\n",
      "22     60911\n",
      "23     40816\n",
      "Name: count, dtype: int64\n",
      "hour\n",
      "0      55.138462\n",
      "1      33.859031\n",
      "2      22.899554\n",
      "3      11.757506\n",
      "4       6.407240\n",
      "5      19.767699\n",
      "6      76.259341\n",
      "7     213.116484\n",
      "8     362.769231\n",
      "9     221.780220\n",
      "10    175.092308\n",
      "11    210.674725\n",
      "12    256.508772\n",
      "13    257.787281\n",
      "14    243.442982\n",
      "15    254.298246\n",
      "16    316.372807\n",
      "17    468.765351\n",
      "18    430.859649\n",
      "19    315.278509\n",
      "20    228.517544\n",
      "21    173.370614\n",
      "22    133.576754\n",
      "23     89.508772\n",
      "Name: count, dtype: float64\n"
     ]
    }
   ],
   "source": [
    "# 'hour' 칼럼에 따른 'count' 합계를 구하기\n",
    "print(data2.groupby(['hour'])['count'].sum())\n",
    "print(data2.groupby(['hour'])['count'].mean())"
   ]
  },
  {
   "cell_type": "code",
   "execution_count": 37,
   "id": "8ea8d3c3",
   "metadata": {},
   "outputs": [
    {
     "name": "stdout",
     "output_type": "stream",
     "text": [
      "dayofweek\n",
      "0    295296\n",
      "1    291985\n",
      "2    292226\n",
      "3    306401\n",
      "4    302504\n",
      "5    311518\n",
      "6    285546\n",
      "Name: count, dtype: int64\n",
      "dayofweek\n",
      "0    190.390716\n",
      "1    189.723847\n",
      "2    188.411348\n",
      "3    197.296201\n",
      "4    197.844343\n",
      "5    196.665404\n",
      "6    180.839772\n",
      "Name: count, dtype: float64\n"
     ]
    }
   ],
   "source": [
    "# 'dayofweek' 칼럼에 따른 'count' 합계를 구하기\n",
    "print(data2.groupby(['dayofweek'])['count'].sum())\n",
    "print(data2.groupby(['dayofweek'])['count'].mean())\n",
    "\n",
    "# x_train에서 'dayofweek' 칼럼을 삭제하기\n",
    "x_train = x_train.drop(columns=['dayofweek'])"
   ]
  },
  {
   "cell_type": "code",
   "execution_count": 38,
   "id": "d35914fa",
   "metadata": {},
   "outputs": [],
   "source": [
    "x_test['datetime'] = pd.to_datetime(x_train['datetime'])\n",
    "x_test['year'] = x_test['datetime'].dt.year\n",
    "x_test['hour'] = x_test['datetime'].dt.hour"
   ]
  },
  {
   "cell_type": "markdown",
   "id": "93dc046c",
   "metadata": {},
   "source": [
    "### 불필요한 칼럼 삭제하기"
   ]
  },
  {
   "cell_type": "code",
   "execution_count": 39,
   "id": "688b4825",
   "metadata": {},
   "outputs": [],
   "source": [
    "# x_test의 datetime 칼럼은 x_test_datetime 변수에 저장하기\n",
    "x_test_datetime = x_test['datetime']\n",
    "\n",
    "# x_train, x_test, y_train에서 datetime 칼럼을 삭제하기\n",
    "x_train = x_train.drop(columns=['datetime'])\n",
    "x_test = x_test.drop(columns=['datetime'])\n",
    "y_train = y_train.drop(columns=['datetime'])"
   ]
  },
  {
   "cell_type": "markdown",
   "id": "8819c874",
   "metadata": {},
   "source": [
    "## 3.3 학습하고 평가하기"
   ]
  },
  {
   "cell_type": "markdown",
   "id": "19dc8c0e",
   "metadata": {},
   "source": [
    "### 데이터 분리하기"
   ]
  },
  {
   "cell_type": "code",
   "execution_count": 43,
   "id": "8d15686c",
   "metadata": {},
   "outputs": [
    {
     "name": "stdout",
     "output_type": "stream",
     "text": [
      "(8708, 10)\n",
      "(2178, 10)\n",
      "(8708, 1)\n",
      "(2178, 1)\n"
     ]
    }
   ],
   "source": [
    "# 데이터 분리하기 위한 train_test_split 함수를 가져오기\n",
    "from sklearn.model_selection import train_test_split\n",
    "\n",
    "# 학습용과 검증용을 8:2로 분리하여, 각 4개의 변수에 저장하기\n",
    "X_TRAIN, X_TEST, Y_TRAIN, Y_TEST = train_test_split(x_train, y_train, test_size=0.2, random_state=10)\n",
    "\n",
    "# 분리된 데이터의 행/열 구조를 확인하기\n",
    "print(X_TRAIN.shape)\n",
    "print(X_TEST.shape)\n",
    "print(Y_TRAIN.shape)\n",
    "print(Y_TEST.shape)"
   ]
  },
  {
   "cell_type": "markdown",
   "id": "6c361d54",
   "metadata": {},
   "source": [
    "### 데이터 학습 및 하이퍼 파라미터 튜닝하기"
   ]
  },
  {
   "cell_type": "code",
   "execution_count": 45,
   "id": "468c7e37",
   "metadata": {},
   "outputs": [
    {
     "name": "stderr",
     "output_type": "stream",
     "text": [
      "/Users/heetaecho/opt/anaconda3/lib/python3.9/site-packages/xgboost/compat.py:36: FutureWarning: pandas.Int64Index is deprecated and will be removed from pandas in a future version. Use pandas.Index with the appropriate dtype instead.\n",
      "  from pandas import MultiIndex, Int64Index\n"
     ]
    }
   ],
   "source": [
    "# xgboost 라이브러리에서 XGBRegressor 함수 가져오기\n",
    "from xgboost import XGBRegressor"
   ]
  },
  {
   "cell_type": "code",
   "execution_count": 61,
   "id": "1d6ccc7a",
   "metadata": {},
   "outputs": [
    {
     "name": "stderr",
     "output_type": "stream",
     "text": [
      "/Users/heetaecho/opt/anaconda3/lib/python3.9/site-packages/xgboost/data.py:250: FutureWarning: pandas.Int64Index is deprecated and will be removed from pandas in a future version. Use pandas.Index with the appropriate dtype instead.\n",
      "  elif isinstance(data.columns, (pd.Int64Index, pd.RangeIndex)):\n"
     ]
    },
    {
     "data": {
      "text/plain": [
       "XGBRegressor(base_score=0.5, booster='gbtree', colsample_bylevel=1,\n",
       "             colsample_bynode=1, colsample_bytree=1, enable_categorical=False,\n",
       "             gamma=0, gpu_id=-1, importance_type=None,\n",
       "             interaction_constraints='', learning_rate=0.300000012,\n",
       "             max_delta_step=0, max_depth=3, min_child_weight=1, missing=nan,\n",
       "             monotone_constraints='()', n_estimators=100, n_jobs=8,\n",
       "             num_parallel_tree=1, predictor='auto', random_state=10,\n",
       "             reg_alpha=0, reg_lambda=1, scale_pos_weight=1, subsample=1,\n",
       "             tree_method='exact', validate_parameters=1, verbosity=None)"
      ]
     },
     "execution_count": 61,
     "metadata": {},
     "output_type": "execute_result"
    }
   ],
   "source": [
    "# XGB 회귀 분석으로 수행할 첫 번째 모델을 만들고, 공부시키기\n",
    "model = XGBRegressor(n_estimators=100, max_depth=3, random_state=10)\n",
    "model.fit(X_TRAIN,Y_TRAIN)"
   ]
  },
  {
   "cell_type": "code",
   "execution_count": 59,
   "id": "979c8849",
   "metadata": {},
   "outputs": [
    {
     "data": {
      "text/plain": [
       "XGBRegressor(base_score=0.5, booster='gbtree', colsample_bylevel=1,\n",
       "             colsample_bynode=1, colsample_bytree=1, enable_categorical=False,\n",
       "             gamma=0, gpu_id=-1, importance_type=None,\n",
       "             interaction_constraints='', learning_rate=0.300000012,\n",
       "             max_delta_step=0, max_depth=5, min_child_weight=1, missing=nan,\n",
       "             monotone_constraints='()', n_estimators=200, n_jobs=8,\n",
       "             num_parallel_tree=1, predictor='auto', random_state=10,\n",
       "             reg_alpha=0, reg_lambda=1, scale_pos_weight=1, subsample=1,\n",
       "             tree_method='exact', validate_parameters=1, verbosity=None)"
      ]
     },
     "execution_count": 59,
     "metadata": {},
     "output_type": "execute_result"
    }
   ],
   "source": [
    "# XGB 회귀 분석으로 수행할 두 번째 모델을 만들고, 공부시키기\n",
    "model = XGBRegressor(n_estimators=200, max_depth=5, random_state=10)\n",
    "model.fit(X_TRAIN,Y_TRAIN)"
   ]
  },
  {
   "cell_type": "markdown",
   "id": "6356c99b",
   "metadata": {},
   "source": [
    "### 결과 예측하기"
   ]
  },
  {
   "cell_type": "code",
   "execution_count": 50,
   "id": "c2dd68e1",
   "metadata": {},
   "outputs": [],
   "source": [
    "# 학습이 완료된 모델을 통해 y_test 값을 예측하기 : 최종 결과 제출용\n",
    "y_test_predicted = pd.DataFrame(model.predict(x_test)).rename(columns={0:'count'})"
   ]
  },
  {
   "cell_type": "code",
   "execution_count": 52,
   "id": "3a2a6bec",
   "metadata": {},
   "outputs": [
    {
     "data": {
      "text/html": [
       "<div>\n",
       "<style scoped>\n",
       "    .dataframe tbody tr th:only-of-type {\n",
       "        vertical-align: middle;\n",
       "    }\n",
       "\n",
       "    .dataframe tbody tr th {\n",
       "        vertical-align: top;\n",
       "    }\n",
       "\n",
       "    .dataframe thead th {\n",
       "        text-align: right;\n",
       "    }\n",
       "</style>\n",
       "<table border=\"1\" class=\"dataframe\">\n",
       "  <thead>\n",
       "    <tr style=\"text-align: right;\">\n",
       "      <th></th>\n",
       "      <th>count</th>\n",
       "    </tr>\n",
       "  </thead>\n",
       "  <tbody>\n",
       "    <tr>\n",
       "      <th>0</th>\n",
       "      <td>21.486200</td>\n",
       "    </tr>\n",
       "    <tr>\n",
       "      <th>1</th>\n",
       "      <td>0.061608</td>\n",
       "    </tr>\n",
       "    <tr>\n",
       "      <th>2</th>\n",
       "      <td>0.000000</td>\n",
       "    </tr>\n",
       "    <tr>\n",
       "      <th>3</th>\n",
       "      <td>2.039008</td>\n",
       "    </tr>\n",
       "    <tr>\n",
       "      <th>4</th>\n",
       "      <td>2.553952</td>\n",
       "    </tr>\n",
       "    <tr>\n",
       "      <th>...</th>\n",
       "      <td>...</td>\n",
       "    </tr>\n",
       "    <tr>\n",
       "      <th>6488</th>\n",
       "      <td>104.544044</td>\n",
       "    </tr>\n",
       "    <tr>\n",
       "      <th>6489</th>\n",
       "      <td>115.115997</td>\n",
       "    </tr>\n",
       "    <tr>\n",
       "      <th>6490</th>\n",
       "      <td>176.403763</td>\n",
       "    </tr>\n",
       "    <tr>\n",
       "      <th>6491</th>\n",
       "      <td>350.941467</td>\n",
       "    </tr>\n",
       "    <tr>\n",
       "      <th>6492</th>\n",
       "      <td>339.020630</td>\n",
       "    </tr>\n",
       "  </tbody>\n",
       "</table>\n",
       "<p>6493 rows × 1 columns</p>\n",
       "</div>"
      ],
      "text/plain": [
       "           count\n",
       "0      21.486200\n",
       "1       0.061608\n",
       "2       0.000000\n",
       "3       2.039008\n",
       "4       2.553952\n",
       "...          ...\n",
       "6488  104.544044\n",
       "6489  115.115997\n",
       "6490  176.403763\n",
       "6491  350.941467\n",
       "6492  339.020630\n",
       "\n",
       "[6493 rows x 1 columns]"
      ]
     },
     "execution_count": 52,
     "metadata": {},
     "output_type": "execute_result"
    }
   ],
   "source": [
    "# y_test_predicted의 'count' 칼럼 값이 음수인 데이터를 추출하여, 0으로 바꾸기\n",
    "y_test_predicted[y_test_predicted['count']<0] = 0\n",
    "\n",
    "# y_test_predicted에서 상위 10개의 행 확인하기\n",
    "y_test_predicted"
   ]
  },
  {
   "cell_type": "code",
   "execution_count": 62,
   "id": "5d667a31",
   "metadata": {},
   "outputs": [],
   "source": [
    "# 학습이 완료된 모델을 통해 Y_TEST 값을 예측하기 : 평가지표 계산용\n",
    "Y_TEST_PREDICTED = pd.DataFrame(model.predict(X_TEST)).rename(columns={0:'count'})\n",
    "\n",
    "# Y_TEST_PREDICTED의 'count' 칼럼 값이 음수인 데이터를 추출하여, 0으로 바꾸기\n",
    "Y_TEST_PREDICTED[Y_TEST_PREDICTED['count']<0] = 0"
   ]
  },
  {
   "cell_type": "markdown",
   "id": "a911ecd4",
   "metadata": {},
   "source": [
    "### 모델 평가하기"
   ]
  },
  {
   "cell_type": "code",
   "execution_count": 54,
   "id": "1fe21c03",
   "metadata": {},
   "outputs": [],
   "source": [
    "# sklearn 패키지의 metrics 모듈에서 r2_score 함수 가져오기\n",
    "from sklearn.metrics import r2_score"
   ]
  },
  {
   "cell_type": "code",
   "execution_count": 63,
   "id": "90a13039",
   "metadata": {},
   "outputs": [
    {
     "name": "stdout",
     "output_type": "stream",
     "text": [
      "0.9044130641900863\n"
     ]
    }
   ],
   "source": [
    "# 1차 학습 모델의 R^2 평가지표 값을 확인하기\n",
    "print(r2_score(Y_TEST, Y_TEST_PREDICTED))"
   ]
  },
  {
   "cell_type": "code",
   "execution_count": 60,
   "id": "65ace0e7",
   "metadata": {},
   "outputs": [
    {
     "name": "stdout",
     "output_type": "stream",
     "text": [
      "0.9381182890431057\n"
     ]
    }
   ],
   "source": [
    "# 2차 학습 모델의 R^2 평가지표 값을 확인하기\n",
    "print(r2_score(Y_TEST, Y_TEST_PREDICTED))"
   ]
  },
  {
   "cell_type": "markdown",
   "id": "e5821465",
   "metadata": {},
   "source": [
    "## 3.4 결과 제출하기"
   ]
  },
  {
   "cell_type": "code",
   "execution_count": 65,
   "id": "bf66b6b0",
   "metadata": {},
   "outputs": [
    {
     "name": "stdout",
     "output_type": "stream",
     "text": [
      "                datetime       count\n",
      "0    2011-01-01 00:00:00   21.486200\n",
      "1    2011-01-01 01:00:00    0.061608\n",
      "2    2011-01-01 02:00:00    0.000000\n",
      "3    2011-01-01 03:00:00    2.039008\n",
      "4    2011-01-01 04:00:00    2.553952\n",
      "...                  ...         ...\n",
      "6488 2012-03-07 14:00:00  104.544044\n",
      "6489 2012-03-07 15:00:00  115.115997\n",
      "6490 2012-03-07 16:00:00  176.403763\n",
      "6491 2012-03-07 17:00:00  350.941467\n",
      "6492 2012-03-07 18:00:00  339.020630\n",
      "\n",
      "[6493 rows x 2 columns]\n"
     ]
    }
   ],
   "source": [
    "# x_test_datetime 변수와 y_test_predicted 변수를 세로 방향으로 붙이기\n",
    "print(pd.concat([x_test_datetime, y_test_predicted], axis=1))"
   ]
  },
  {
   "cell_type": "code",
   "execution_count": 68,
   "id": "7e9ed7a9",
   "metadata": {},
   "outputs": [],
   "source": [
    "# 앞의 출력 결과를 final 변수에 저장하기\n",
    "final = pd.concat([x_test_datetime, y_test_predicted], axis=1)\n",
    "\n",
    "# final 변수를 bike.csv 이름으로 저장하기\n",
    "final.to_csv('bike.csv', index=False)"
   ]
  },
  {
   "cell_type": "code",
   "execution_count": 69,
   "id": "4bc9c22f",
   "metadata": {},
   "outputs": [
    {
     "data": {
      "text/html": [
       "<div>\n",
       "<style scoped>\n",
       "    .dataframe tbody tr th:only-of-type {\n",
       "        vertical-align: middle;\n",
       "    }\n",
       "\n",
       "    .dataframe tbody tr th {\n",
       "        vertical-align: top;\n",
       "    }\n",
       "\n",
       "    .dataframe thead th {\n",
       "        text-align: right;\n",
       "    }\n",
       "</style>\n",
       "<table border=\"1\" class=\"dataframe\">\n",
       "  <thead>\n",
       "    <tr style=\"text-align: right;\">\n",
       "      <th></th>\n",
       "      <th>datetime</th>\n",
       "      <th>count</th>\n",
       "    </tr>\n",
       "  </thead>\n",
       "  <tbody>\n",
       "    <tr>\n",
       "      <th>0</th>\n",
       "      <td>2011-01-01 00:00:00</td>\n",
       "      <td>21.486200</td>\n",
       "    </tr>\n",
       "    <tr>\n",
       "      <th>1</th>\n",
       "      <td>2011-01-01 01:00:00</td>\n",
       "      <td>0.061608</td>\n",
       "    </tr>\n",
       "    <tr>\n",
       "      <th>2</th>\n",
       "      <td>2011-01-01 02:00:00</td>\n",
       "      <td>0.000000</td>\n",
       "    </tr>\n",
       "    <tr>\n",
       "      <th>3</th>\n",
       "      <td>2011-01-01 03:00:00</td>\n",
       "      <td>2.039008</td>\n",
       "    </tr>\n",
       "    <tr>\n",
       "      <th>4</th>\n",
       "      <td>2011-01-01 04:00:00</td>\n",
       "      <td>2.553952</td>\n",
       "    </tr>\n",
       "    <tr>\n",
       "      <th>...</th>\n",
       "      <td>...</td>\n",
       "      <td>...</td>\n",
       "    </tr>\n",
       "    <tr>\n",
       "      <th>6488</th>\n",
       "      <td>2012-03-07 14:00:00</td>\n",
       "      <td>104.544044</td>\n",
       "    </tr>\n",
       "    <tr>\n",
       "      <th>6489</th>\n",
       "      <td>2012-03-07 15:00:00</td>\n",
       "      <td>115.116000</td>\n",
       "    </tr>\n",
       "    <tr>\n",
       "      <th>6490</th>\n",
       "      <td>2012-03-07 16:00:00</td>\n",
       "      <td>176.403760</td>\n",
       "    </tr>\n",
       "    <tr>\n",
       "      <th>6491</th>\n",
       "      <td>2012-03-07 17:00:00</td>\n",
       "      <td>350.941470</td>\n",
       "    </tr>\n",
       "    <tr>\n",
       "      <th>6492</th>\n",
       "      <td>2012-03-07 18:00:00</td>\n",
       "      <td>339.020630</td>\n",
       "    </tr>\n",
       "  </tbody>\n",
       "</table>\n",
       "<p>6493 rows × 2 columns</p>\n",
       "</div>"
      ],
      "text/plain": [
       "                 datetime       count\n",
       "0     2011-01-01 00:00:00   21.486200\n",
       "1     2011-01-01 01:00:00    0.061608\n",
       "2     2011-01-01 02:00:00    0.000000\n",
       "3     2011-01-01 03:00:00    2.039008\n",
       "4     2011-01-01 04:00:00    2.553952\n",
       "...                   ...         ...\n",
       "6488  2012-03-07 14:00:00  104.544044\n",
       "6489  2012-03-07 15:00:00  115.116000\n",
       "6490  2012-03-07 16:00:00  176.403760\n",
       "6491  2012-03-07 17:00:00  350.941470\n",
       "6492  2012-03-07 18:00:00  339.020630\n",
       "\n",
       "[6493 rows x 2 columns]"
      ]
     },
     "execution_count": 69,
     "metadata": {},
     "output_type": "execute_result"
    }
   ],
   "source": [
    "result = pd.read_csv('bike.csv')\n",
    "result"
   ]
  },
  {
   "cell_type": "markdown",
   "id": "055fc4d0",
   "metadata": {},
   "source": [
    "## 최종 제출 코드"
   ]
  },
  {
   "cell_type": "code",
   "execution_count": 72,
   "id": "2079c99e",
   "metadata": {},
   "outputs": [
    {
     "name": "stderr",
     "output_type": "stream",
     "text": [
      "/Users/heetaecho/opt/anaconda3/lib/python3.9/site-packages/xgboost/data.py:250: FutureWarning: pandas.Int64Index is deprecated and will be removed from pandas in a future version. Use pandas.Index with the appropriate dtype instead.\n",
      "  elif isinstance(data.columns, (pd.Int64Index, pd.RangeIndex)):\n"
     ]
    }
   ],
   "source": [
    "# 데이터 가져오기\n",
    "import pandas as pd\n",
    "x_train = pd.read_csv('bike_x_train.csv', encoding='cp949')\n",
    "x_test = pd.read_csv('bike_x_test.csv', encoding='cp949')\n",
    "y_train = pd.read_csv('bike_y_train.csv')\n",
    "\n",
    "# 전처리하기\n",
    "x_train['datetime'] = pd.to_datetime(x_train['datetime'])\n",
    "x_train['year'] = x_train['datetime'].dt.year\n",
    "x_train['hour'] = x_train['datetime'].dt.hour\n",
    "x_test['datetime'] = pd.to_datetime(x_test['datetime'])\n",
    "x_test['year'] = x_test['datetime'].dt.year\n",
    "x_test['hour'] = x_test['datetime'].dt.hour\n",
    "x_test_datetime = x_test['datetime']\n",
    "x_train = x_train.drop(columns=['datetime'])\n",
    "x_test = x_test.drop(columns=['datetime'])\n",
    "y_train = y_train.drop(columns=['datetime'])\n",
    "\n",
    "# 데이터 분리하기\n",
    "from sklearn.model_selection import train_test_split\n",
    "X_TRAIN, X_TEST, Y_TRAIN, Y_TEST = train_test_split(x_train, y_train, test_size=0.2, random_state=10)\n",
    "\n",
    "# 모델을 학습하고 테스트 데이터의 종속변수 값을 예측하기\n",
    "from xgboost import XGBRegressor\n",
    "model = XGBRegressor(n_estimators=200, max_depth=5, random_state=10)\n",
    "model.fit(X_TRAIN,Y_TRAIN)\n",
    "y_test_predicted = pd.DataFrame(model.predict(x_test)).rename(columns={0:'count'})\n",
    "y_test_predicted[y_test_predicted['count']<0] = 0\n",
    "Y_TEST_PREDICTED = pd.DataFrame(model.predict(X_TEST)).rename(columns={0:'count'})\n",
    "Y_TEST_PREDICTED[Y_TEST_PREDICTED['count']<0] = 0\n",
    "\n",
    "# 모델 평가하기\n",
    "from sklearn.metrics import r2_score\n",
    "# print(r2_score(Y_TEST, Y_TEST_PREDICTED))\n",
    "\n",
    "# 결과 제출하기\n",
    "final = pd.concat([x_test_datetime, y_test_predicted], axis=1)\n",
    "final.to_csv('bike.csv', index=False)"
   ]
  },
  {
   "cell_type": "code",
   "execution_count": 73,
   "id": "0e2106e8",
   "metadata": {},
   "outputs": [
    {
     "data": {
      "text/html": [
       "<div>\n",
       "<style scoped>\n",
       "    .dataframe tbody tr th:only-of-type {\n",
       "        vertical-align: middle;\n",
       "    }\n",
       "\n",
       "    .dataframe tbody tr th {\n",
       "        vertical-align: top;\n",
       "    }\n",
       "\n",
       "    .dataframe thead th {\n",
       "        text-align: right;\n",
       "    }\n",
       "</style>\n",
       "<table border=\"1\" class=\"dataframe\">\n",
       "  <thead>\n",
       "    <tr style=\"text-align: right;\">\n",
       "      <th></th>\n",
       "      <th>datetime</th>\n",
       "      <th>count</th>\n",
       "    </tr>\n",
       "  </thead>\n",
       "  <tbody>\n",
       "    <tr>\n",
       "      <th>0</th>\n",
       "      <td>2011-01-20 00:00:00</td>\n",
       "      <td>21.486200</td>\n",
       "    </tr>\n",
       "    <tr>\n",
       "      <th>1</th>\n",
       "      <td>2011-01-20 01:00:00</td>\n",
       "      <td>0.061608</td>\n",
       "    </tr>\n",
       "    <tr>\n",
       "      <th>2</th>\n",
       "      <td>2011-01-20 02:00:00</td>\n",
       "      <td>0.000000</td>\n",
       "    </tr>\n",
       "    <tr>\n",
       "      <th>3</th>\n",
       "      <td>2011-01-20 03:00:00</td>\n",
       "      <td>2.039008</td>\n",
       "    </tr>\n",
       "    <tr>\n",
       "      <th>4</th>\n",
       "      <td>2011-01-20 04:00:00</td>\n",
       "      <td>2.553952</td>\n",
       "    </tr>\n",
       "    <tr>\n",
       "      <th>...</th>\n",
       "      <td>...</td>\n",
       "      <td>...</td>\n",
       "    </tr>\n",
       "    <tr>\n",
       "      <th>6488</th>\n",
       "      <td>2012-12-31 19:00:00</td>\n",
       "      <td>204.254380</td>\n",
       "    </tr>\n",
       "    <tr>\n",
       "      <th>6489</th>\n",
       "      <td>2012-12-31 20:00:00</td>\n",
       "      <td>142.610080</td>\n",
       "    </tr>\n",
       "    <tr>\n",
       "      <th>6490</th>\n",
       "      <td>2012-12-31 21:00:00</td>\n",
       "      <td>132.809980</td>\n",
       "    </tr>\n",
       "    <tr>\n",
       "      <th>6491</th>\n",
       "      <td>2012-12-31 22:00:00</td>\n",
       "      <td>92.404940</td>\n",
       "    </tr>\n",
       "    <tr>\n",
       "      <th>6492</th>\n",
       "      <td>2012-12-31 23:00:00</td>\n",
       "      <td>38.964684</td>\n",
       "    </tr>\n",
       "  </tbody>\n",
       "</table>\n",
       "<p>6493 rows × 2 columns</p>\n",
       "</div>"
      ],
      "text/plain": [
       "                 datetime       count\n",
       "0     2011-01-20 00:00:00   21.486200\n",
       "1     2011-01-20 01:00:00    0.061608\n",
       "2     2011-01-20 02:00:00    0.000000\n",
       "3     2011-01-20 03:00:00    2.039008\n",
       "4     2011-01-20 04:00:00    2.553952\n",
       "...                   ...         ...\n",
       "6488  2012-12-31 19:00:00  204.254380\n",
       "6489  2012-12-31 20:00:00  142.610080\n",
       "6490  2012-12-31 21:00:00  132.809980\n",
       "6491  2012-12-31 22:00:00   92.404940\n",
       "6492  2012-12-31 23:00:00   38.964684\n",
       "\n",
       "[6493 rows x 2 columns]"
      ]
     },
     "execution_count": 73,
     "metadata": {},
     "output_type": "execute_result"
    }
   ],
   "source": [
    "result = pd.read_csv('bike.csv')\n",
    "result"
   ]
  }
 ],
 "metadata": {
  "kernelspec": {
   "display_name": "Python 3 (ipykernel)",
   "language": "python",
   "name": "python3"
  },
  "language_info": {
   "codemirror_mode": {
    "name": "ipython",
    "version": 3
   },
   "file_extension": ".py",
   "mimetype": "text/x-python",
   "name": "python",
   "nbconvert_exporter": "python",
   "pygments_lexer": "ipython3",
   "version": "3.9.13"
  }
 },
 "nbformat": 4,
 "nbformat_minor": 5
}
