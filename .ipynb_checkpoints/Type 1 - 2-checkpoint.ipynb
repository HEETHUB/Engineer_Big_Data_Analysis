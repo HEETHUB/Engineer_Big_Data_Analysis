{
 "cells": [
  {
   "cell_type": "markdown",
   "id": "92974fce",
   "metadata": {},
   "source": [
    "## Complicated Data Analysis\n",
    "### 2.1 Group Aggregate/Summary ***"
   ]
  },
  {
   "cell_type": "code",
   "execution_count": 1,
   "id": "c7da2738",
   "metadata": {},
   "outputs": [
    {
     "name": "stdout",
     "output_type": "stream",
     "text": [
      "          COUNT\n",
      "CHAS RAD       \n",
      "0    1        3\n",
      "     2        2\n",
      "     3        5\n",
      "     4       33\n",
      "     5       51\n",
      "     6       17\n",
      "     24     124\n",
      "1    5        7\n",
      "     24       8\n"
     ]
    }
   ],
   "source": [
    "import pandas as pd\n",
    "data = pd.read_csv(\"boston.csv\")\n",
    "data_new = data[(data['TAX'] > data['TAX'].median())]\n",
    "data_new = data_new[['CHAS', 'RAD']]\n",
    "data_new['CHAS'].unique()\n",
    "data_new['RAD'].unique()\n",
    "data_new = pd.DataFrame(data_new.groupby(['CHAS','RAD'])['RAD'].count())\n",
    "data_new.columns = ['COUNT']\n",
    "print(data_new)"
   ]
  },
  {
   "cell_type": "code",
   "execution_count": 2,
   "id": "58eee5f5",
   "metadata": {},
   "outputs": [
    {
     "name": "stdout",
     "output_type": "stream",
     "text": [
      "          COUNT\n",
      "CHAS RAD       \n",
      "0    1        3\n",
      "     2        2\n",
      "     3        5\n",
      "     4       33\n",
      "     5       51\n",
      "     6       17\n",
      "     24     124\n",
      "1    5        7\n",
      "     24       8\n"
     ]
    }
   ],
   "source": [
    "import pandas as pd\n",
    "data = pd.read_csv(\"boston.csv\")\n",
    "tax_median = data['TAX'].median()\n",
    "data_new = data[data['TAX'] > tax_median][['CHAS','RAD']]\n",
    "data_new2 = data_new.groupby(['CHAS','RAD'])['RAD'].count()\n",
    "data_new3 = pd.DataFrame(data_new2)\n",
    "data_new3.columns = ['COUNT']\n",
    "print(data_new3)"
   ]
  },
  {
   "cell_type": "markdown",
   "id": "2229d4d7",
   "metadata": {},
   "source": [
    "#### pd.DataFrame.groupby([그룹화할 columns]).[수행할 column].추가작업()"
   ]
  },
  {
   "cell_type": "markdown",
   "id": "ec05cbd4",
   "metadata": {},
   "source": [
    "### 2.2 Ascending/Descending Sorting"
   ]
  },
  {
   "cell_type": "code",
   "execution_count": 7,
   "id": "ab2cd771",
   "metadata": {},
   "outputs": [
    {
     "name": "stdout",
     "output_type": "stream",
     "text": [
      "Num    28490.598646\n",
      "dtype: float64\n"
     ]
    }
   ],
   "source": [
    "import pandas as pd\n",
    "import numpy as np\n",
    "data = pd.read_csv(\"boston.csv\")\n",
    "data_a = data.sort_values(by='TAX', ascending=True)[['TAX']]\n",
    "data_b = data.sort_values(by='TAX', ascending=False)[['TAX']]\n",
    "data_new = pd.DataFrame()\n",
    "# data_new.columns = ['Num']\n",
    "for i in range(data_a.shape[0]):\n",
    "    data_new.loc[i,'Num'] =  data_a.iloc[i,0] - data_b.iloc[i,0]\n",
    "data_new = abs(data_new)\n",
    "print(data_new.var())"
   ]
  },
  {
   "cell_type": "code",
   "execution_count": 9,
   "id": "2504e68d",
   "metadata": {},
   "outputs": [
    {
     "name": "stdout",
     "output_type": "stream",
     "text": [
      "28490.5986459515\n"
     ]
    }
   ],
   "source": [
    "import pandas as pd\n",
    "data = pd.read_csv(\"boston.csv\")\n",
    "data_asc = data['TAX'].copy()\n",
    "data_desc = data['TAX'].copy()\n",
    "data_asc.sort_values(ascending=True, inplace=True)\n",
    "data_desc.sort_values(ascending=False, inplace=True)\n",
    "data_asc.reset_index(drop=True, inplace=True)\n",
    "data_desc.reset_index(drop=True, inplace=True)\n",
    "data_concat = pd.concat([data_asc, data_desc], axis=1)\n",
    "data_concat['diff'] = abs(data_concat.iloc[:,0]-data_concat.iloc[:,1])\n",
    "print(data_concat['diff'].var())"
   ]
  },
  {
   "cell_type": "markdown",
   "id": "d00bf4d0",
   "metadata": {},
   "source": [
    "#### pd.DataFrame.reset_index(drop, inplace) : 변환한 함수의 index 초기화, drop=True : 기존 인덱스 삭제"
   ]
  },
  {
   "cell_type": "markdown",
   "id": "dfebad1b",
   "metadata": {},
   "source": [
    "#### pd.concat([DataFrame1, DataFrame2], axis=행0열1)"
   ]
  },
  {
   "cell_type": "markdown",
   "id": "6cc532de",
   "metadata": {},
   "source": [
    "### 2.3 MinMaxScaler"
   ]
  },
  {
   "cell_type": "code",
   "execution_count": 21,
   "id": "5dc86af2",
   "metadata": {},
   "outputs": [
    {
     "name": "stdout",
     "output_type": "stream",
     "text": [
      "106\n"
     ]
    }
   ],
   "source": [
    "import pandas as pd\n",
    "from  sklearn.preprocessing import MinMaxScaler\n",
    "scaler = MinMaxScaler()\n",
    "data = pd.read_csv('boston.csv')\n",
    "data = data[['MEDV']].copy()\n",
    "data = scaler.fit_transform(data)\n",
    "print(len(data[data>0.5]))"
   ]
  },
  {
   "cell_type": "code",
   "execution_count": 22,
   "id": "b6c16840",
   "metadata": {},
   "outputs": [
    {
     "name": "stdout",
     "output_type": "stream",
     "text": [
      "106\n"
     ]
    }
   ],
   "source": [
    "import pandas as pd\n",
    "from sklearn.preprocessing import MinMaxScaler\n",
    "data = pd.read_csv('boston.csv')\n",
    "scaler = MinMaxScaler()\n",
    "data_minmax = scaler.fit_transform(data)\n",
    "data_minmax = pd.DataFrame(data_minmax, columns = data.columns)\n",
    "print(data_minmax[data_minmax['MEDV'] > 0.5]['MEDV'].count())"
   ]
  },
  {
   "cell_type": "markdown",
   "id": "60dc10ed",
   "metadata": {},
   "source": [
    "### 2.4 Frequency"
   ]
  },
  {
   "cell_type": "code",
   "execution_count": 37,
   "id": "b8f778a8",
   "metadata": {},
   "outputs": [
    {
     "name": "stdout",
     "output_type": "stream",
     "text": [
      "100 43\n"
     ]
    }
   ],
   "source": [
    "import pandas as pd\n",
    "data = pd.read_csv('boston.csv')\n",
    "data['AGE'] = data['AGE'].apply(lambda x: round(x))\n",
    "d = data.sort_values(by='AGE').reset_index(drop=True)\n",
    "dic = {}\n",
    "for i in range(d.shape[0]):\n",
    "    if d['AGE'][i] in dic:\n",
    "        dic[d['AGE'][i]] += 1\n",
    "    else:\n",
    "        dic[d['AGE'][i]] = 1\n",
    "val = None\n",
    "num = 0\n",
    "for key, value in dic.items():\n",
    "    if val == None:\n",
    "        val = key\n",
    "        num = value\n",
    "    else:\n",
    "        if value > num:\n",
    "            val = key\n",
    "            num = value\n",
    "print(val, num)"
   ]
  },
  {
   "cell_type": "code",
   "execution_count": 73,
   "id": "5b7bbcde",
   "metadata": {},
   "outputs": [
    {
     "name": "stdout",
     "output_type": "stream",
     "text": [
      "100.0 43\n"
     ]
    }
   ],
   "source": [
    "# #1 pandas 함수만 사용\n",
    "data = pd.read_csv('boston.csv')\n",
    "data2 = pd.DataFrame(round(data['AGE'], 0))\n",
    "data3 = data2.groupby('AGE')['AGE'].count()\n",
    "data3 = pd.DataFrame(data3)\n",
    "data3.columns = ['COUNT']\n",
    "data3.reset_index(drop=False,inplace=True)\n",
    "data3.sort_values(by='COUNT',ascending=False,inplace=True)\n",
    "print(data3.iloc[0,0], data3.iloc[0,1])"
   ]
  },
  {
   "cell_type": "code",
   "execution_count": 75,
   "id": "3a4ba637",
   "metadata": {},
   "outputs": [
    {
     "name": "stdout",
     "output_type": "stream",
     "text": [
      "100 43\n"
     ]
    }
   ],
   "source": [
    "# #2 scipy.stats의 mode 함수 사용\n",
    "import pandas as pd\n",
    "data = pd.read_csv('boston.csv')\n",
    "from scipy.stats import mode\n",
    "print(int(mode(round(data['AGE'],0))[0]), int(mode(round(data['AGE'],0))[1]))"
   ]
  },
  {
   "cell_type": "markdown",
   "id": "8816cce6",
   "metadata": {},
   "source": [
    "### 2.5 StandardScaler"
   ]
  },
  {
   "cell_type": "code",
   "execution_count": 95,
   "id": "9a85ef75",
   "metadata": {},
   "outputs": [
    {
     "name": "stdout",
     "output_type": "stream",
     "text": [
      "0.48\n"
     ]
    }
   ],
   "source": [
    "import pandas as pd\n",
    "data = pd.read_csv('boston.csv')\n",
    "from sklearn.preprocessing import StandardScaler\n",
    "scaler = StandardScaler()\n",
    "data = pd.DataFrame(scaler.fit_transform(data), columns = data.columns)\n",
    "result = data[(data['DIS'] > 0.4) & (data['DIS'] < 0.6)]['DIS'].mean()\n",
    "print(round(result, 2))"
   ]
  },
  {
   "cell_type": "code",
   "execution_count": 98,
   "id": "67f8c88c",
   "metadata": {},
   "outputs": [
    {
     "name": "stdout",
     "output_type": "stream",
     "text": [
      "0.48\n"
     ]
    }
   ],
   "source": [
    "import pandas as pd\n",
    "from sklearn.preprocessing import StandardScaler\n",
    "data = pd.read_csv('boston.csv')\n",
    "scaler = StandardScaler()\n",
    "data_stdd = scaler.fit_transform(data)\n",
    "data_stdd = pd.DataFrame(data_stdd, columns = data.columns)\n",
    "data_stdd = data_stdd[(data_stdd['DIS'] > 0.4) & (data_stdd['DIS'] < 0.6)]\n",
    "print(round(data_stdd['DIS'].mean(),2))"
   ]
  },
  {
   "cell_type": "markdown",
   "id": "4b01cb27",
   "metadata": {},
   "source": [
    "### 2.6 Unique"
   ]
  },
  {
   "cell_type": "code",
   "execution_count": 152,
   "id": "0ab7f6d1",
   "metadata": {},
   "outputs": [
    {
     "name": "stdout",
     "output_type": "stream",
     "text": [
      "218.0\n"
     ]
    }
   ],
   "source": [
    "import pandas as pd\n",
    "data = pd.read_csv('boston.csv')\n",
    "num = 0\n",
    "for col in list(data):\n",
    "    num += pd.DataFrame(data[col].unique()).count()[0]\n",
    "# print(round(pd.DataFrame(num).mean(),1))\n",
    "print(num/data.shape[1])"
   ]
  },
  {
   "cell_type": "code",
   "execution_count": 154,
   "id": "5c52e8cd",
   "metadata": {},
   "outputs": [
    {
     "name": "stdout",
     "output_type": "stream",
     "text": [
      "218.0\n"
     ]
    }
   ],
   "source": [
    "import pandas as pd\n",
    "data = pd.read_csv('boston.csv')\n",
    "data_col = data.columns\n",
    "sum = 0\n",
    "for col in data_col:\n",
    "    sum = sum + int(pd.DataFrame(data[col].unique()).count()[0])\n",
    "print(sum/data_col.size)"
   ]
  }
 ],
 "metadata": {
  "kernelspec": {
   "display_name": "Python 3 (ipykernel)",
   "language": "python",
   "name": "python3"
  },
  "language_info": {
   "codemirror_mode": {
    "name": "ipython",
    "version": 3
   },
   "file_extension": ".py",
   "mimetype": "text/x-python",
   "name": "python",
   "nbconvert_exporter": "python",
   "pygments_lexer": "ipython3",
   "version": "3.9.13"
  }
 },
 "nbformat": 4,
 "nbformat_minor": 5
}
