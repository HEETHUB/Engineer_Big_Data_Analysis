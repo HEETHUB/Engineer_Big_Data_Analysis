{
 "cells": [
  {
   "cell_type": "markdown",
   "id": "92974fce",
   "metadata": {},
   "source": [
    "## Complicated Data Analysis\n",
    "### 2.1 Group Aggregate/Summary ***"
   ]
  },
  {
   "cell_type": "code",
   "execution_count": 1,
   "id": "c7da2738",
   "metadata": {},
   "outputs": [
    {
     "name": "stdout",
     "output_type": "stream",
     "text": [
      "          COUNT\n",
      "CHAS RAD       \n",
      "0    1        3\n",
      "     2        2\n",
      "     3        5\n",
      "     4       33\n",
      "     5       51\n",
      "     6       17\n",
      "     24     124\n",
      "1    5        7\n",
      "     24       8\n"
     ]
    }
   ],
   "source": [
    "import pandas as pd\n",
    "data = pd.read_csv(\"boston.csv\")\n",
    "data_new = data[(data['TAX'] > data['TAX'].median())]\n",
    "data_new = data_new[['CHAS', 'RAD']]\n",
    "data_new['CHAS'].unique()\n",
    "data_new['RAD'].unique()\n",
    "data_new = pd.DataFrame(data_new.groupby(['CHAS','RAD'])['RAD'].count())\n",
    "data_new.columns = ['COUNT']\n",
    "print(data_new)"
   ]
  },
  {
   "cell_type": "code",
   "execution_count": 2,
   "id": "58eee5f5",
   "metadata": {},
   "outputs": [
    {
     "name": "stdout",
     "output_type": "stream",
     "text": [
      "          COUNT\n",
      "CHAS RAD       \n",
      "0    1        3\n",
      "     2        2\n",
      "     3        5\n",
      "     4       33\n",
      "     5       51\n",
      "     6       17\n",
      "     24     124\n",
      "1    5        7\n",
      "     24       8\n"
     ]
    }
   ],
   "source": [
    "import pandas as pd\n",
    "data = pd.read_csv(\"boston.csv\")\n",
    "tax_median = data['TAX'].median()\n",
    "data_new = data[data['TAX'] > tax_median][['CHAS','RAD']]\n",
    "data_new2 = data_new.groupby(['CHAS','RAD'])['RAD'].count()\n",
    "data_new3 = pd.DataFrame(data_new2)\n",
    "data_new3.columns = ['COUNT']\n",
    "print(data_new3)"
   ]
  },
  {
   "cell_type": "markdown",
   "id": "2229d4d7",
   "metadata": {},
   "source": [
    "#### pd.DataFrame.groupby([그룹화할 columns]).[수행할 column].추가작업()"
   ]
  },
  {
   "cell_type": "markdown",
   "id": "ec05cbd4",
   "metadata": {},
   "source": [
    "### 2.2 Ascending/Descending Sorting"
   ]
  },
  {
   "cell_type": "code",
   "execution_count": 7,
   "id": "ab2cd771",
   "metadata": {},
   "outputs": [
    {
     "name": "stdout",
     "output_type": "stream",
     "text": [
      "Num    28490.598646\n",
      "dtype: float64\n"
     ]
    }
   ],
   "source": [
    "import pandas as pd\n",
    "import numpy as np\n",
    "data = pd.read_csv(\"boston.csv\")\n",
    "data_a = data.sort_values(by='TAX', ascending=True)[['TAX']]\n",
    "data_b = data.sort_values(by='TAX', ascending=False)[['TAX']]\n",
    "data_new = pd.DataFrame()\n",
    "# data_new.columns = ['Num']\n",
    "for i in range(data_a.shape[0]):\n",
    "    data_new.loc[i,'Num'] =  data_a.iloc[i,0] - data_b.iloc[i,0]\n",
    "data_new = abs(data_new)\n",
    "print(data_new.var())"
   ]
  },
  {
   "cell_type": "code",
   "execution_count": 9,
   "id": "2504e68d",
   "metadata": {},
   "outputs": [
    {
     "name": "stdout",
     "output_type": "stream",
     "text": [
      "28490.5986459515\n"
     ]
    }
   ],
   "source": [
    "import pandas as pd\n",
    "data = pd.read_csv(\"boston.csv\")\n",
    "data_asc = data['TAX'].copy()\n",
    "data_desc = data['TAX'].copy()\n",
    "data_asc.sort_values(ascending=True, inplace=True)\n",
    "data_desc.sort_values(ascending=False, inplace=True)\n",
    "data_asc.reset_index(drop=True, inplace=True)\n",
    "data_desc.reset_index(drop=True, inplace=True)\n",
    "data_concat = pd.concat([data_asc, data_desc], axis=1)\n",
    "data_concat['diff'] = abs(data_concat.iloc[:,0]-data_concat.iloc[:,1])\n",
    "print(data_concat['diff'].var())"
   ]
  },
  {
   "cell_type": "markdown",
   "id": "d00bf4d0",
   "metadata": {},
   "source": [
    "#### pd.DataFrame.reset_index(drop, inplace) : 변환한 함수의 index 초기화, drop=True : 기존 인덱스 삭제"
   ]
  },
  {
   "cell_type": "markdown",
   "id": "dfebad1b",
   "metadata": {},
   "source": [
    "#### pd.concat([DataFrame1, DataFrame2], axis=행0열1)"
   ]
  },
  {
   "cell_type": "code",
   "execution_count": null,
   "id": "d82e5dec",
   "metadata": {},
   "outputs": [],
   "source": []
  }
 ],
 "metadata": {
  "kernelspec": {
   "display_name": "Python 3",
   "language": "python",
   "name": "python3"
  },
  "language_info": {
   "codemirror_mode": {
    "name": "ipython",
    "version": 3
   },
   "file_extension": ".py",
   "mimetype": "text/x-python",
   "name": "python",
   "nbconvert_exporter": "python",
   "pygments_lexer": "ipython3",
   "version": "3.8.2"
  }
 },
 "nbformat": 4,
 "nbformat_minor": 5
}
