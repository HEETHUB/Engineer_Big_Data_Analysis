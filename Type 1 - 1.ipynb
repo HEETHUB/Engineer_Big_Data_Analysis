{
 "cells": [
  {
   "cell_type": "markdown",
   "id": "bd220414",
   "metadata": {},
   "source": [
    "### 1.1 sorting Top 10 "
   ]
  },
  {
   "cell_type": "code",
   "execution_count": 4,
   "id": "3d2682d5",
   "metadata": {},
   "outputs": [
    {
     "name": "stdout",
     "output_type": "stream",
     "text": [
      "398    5.0\n",
      "405    5.0\n",
      "400    5.6\n",
      "399    6.3\n",
      "414    7.0\n",
      "489    7.0\n",
      "401    7.2\n",
      "385    7.2\n",
      "415    7.2\n",
      "387    7.4\n",
      "Name: MEDV, dtype: float64\n"
     ]
    }
   ],
   "source": [
    "import pandas as pd\n",
    "import numpy as np\n",
    "\n",
    "data = pd.read_csv('boston.csv')\n",
    "print(data.sort_values(by='MEDV', ascending=True)['MEDV'].head(10))"
   ]
  },
  {
   "cell_type": "markdown",
   "id": "cb4a5013",
   "metadata": {},
   "source": [
    "### 1.2 Checking Null Values"
   ]
  },
  {
   "cell_type": "code",
   "execution_count": 5,
   "id": "8b2e633c",
   "metadata": {},
   "outputs": [
    {
     "name": "stdout",
     "output_type": "stream",
     "text": [
      "RM    0.010596\n",
      "dtype: float64\n"
     ]
    }
   ],
   "source": [
    "import pandas as pd\n",
    "\n",
    "data = pd.read_csv(\"boston.csv\")\n",
    "data = data[['RM']]\n",
    "mean = data.mean()\n",
    "std_mean = data.fillna(value=mean).std()\n",
    "std_drop = data.dropna().std()\n",
    "print(abs(std_drop-std_mean))\n",
    "# help(pd.DataFrame.fillna)"
   ]
  },
  {
   "cell_type": "code",
   "execution_count": 6,
   "id": "0cac6838",
   "metadata": {},
   "outputs": [
    {
     "name": "stdout",
     "output_type": "stream",
     "text": [
      "0.010595546094104624\n"
     ]
    }
   ],
   "source": [
    "import pandas as pd\n",
    "\n",
    "data = pd.read_csv(\"boston.csv\")\n",
    "data_mean = data['RM'].copy()\n",
    "rm_mean = data_mean.mean()\n",
    "data_mean.fillna(rm_mean, inplace=True)\n",
    "data_del = data['RM'].copy()\n",
    "data_del.dropna(inplace=True)\n",
    "print(abs(data_mean.std()-data_del.std()))"
   ]
  },
  {
   "cell_type": "markdown",
   "id": "f04ca9c6",
   "metadata": {},
   "source": [
    "### 1.3 Checking Outliers"
   ]
  },
  {
   "cell_type": "code",
   "execution_count": 7,
   "id": "1bc0cc22",
   "metadata": {},
   "outputs": [
    {
     "name": "stdout",
     "output_type": "stream",
     "text": [
      "3462.5\n"
     ]
    }
   ],
   "source": [
    "import pandas as pd\n",
    "\n",
    "data = pd.read_csv(\"boston.csv\")\n",
    "data_zn = data['ZN'].copy()\n",
    "mean_zn = data_zn.mean()\n",
    "std_zn = data_zn.std()\n",
    "print(data_zn[(data_zn < mean_zn-1.5*std_zn)|(data_zn > mean_zn+1.5*std_zn)].sum())"
   ]
  },
  {
   "cell_type": "code",
   "execution_count": 8,
   "id": "a6a6da73",
   "metadata": {},
   "outputs": [
    {
     "name": "stdout",
     "output_type": "stream",
     "text": [
      "3462.5\n"
     ]
    }
   ],
   "source": [
    "import pandas as pd\n",
    "\n",
    "data = pd.read_csv(\"boston.csv\")\n",
    "zn_mean = data['ZN'].mean()\n",
    "zn_std = data['ZN'].std()\n",
    "zn_max = zn_mean + (1.5*zn_std)\n",
    "zn_min = zn_mean - (1.5*zn_std)\n",
    "zn_max2 = data[data['ZN'] > zn_max]['ZN']\n",
    "print(sum(zn_max2))"
   ]
  },
  {
   "cell_type": "markdown",
   "id": "982f4016",
   "metadata": {},
   "source": [
    "### 1.4 Finding IQR (Inter Quantile Range)"
   ]
  },
  {
   "cell_type": "code",
   "execution_count": 9,
   "id": "09597a90",
   "metadata": {},
   "outputs": [
    {
     "name": "stdout",
     "output_type": "stream",
     "text": [
      "CRIM         3.595038\n",
      "ZN          12.500000\n",
      "INDUS       12.910000\n",
      "NOX          0.175000\n",
      "RM           0.736000\n",
      "AGE         49.050000\n",
      "DIS          3.088250\n",
      "TAX        387.000000\n",
      "PTRATIO      2.800000\n",
      "B           20.847500\n",
      "LSTAT       10.005000\n",
      "MEDV         7.975000\n",
      "dtype: float64\n"
     ]
    }
   ],
   "source": [
    "import pandas as pd\n",
    "data = pd.read_csv(\"boston.csv\")\n",
    "columns = list(data.columns)\n",
    "columns.remove('CHAS')\n",
    "columns.remove('RAD')\n",
    "data = data[columns]\n",
    "des_25 = data.describe().loc['25%',:]\n",
    "des_75 = data.describe().loc['75%',:]\n",
    "print(des_75 - des_25)"
   ]
  },
  {
   "cell_type": "code",
   "execution_count": 10,
   "id": "8e57aae9",
   "metadata": {},
   "outputs": [
    {
     "name": "stdout",
     "output_type": "stream",
     "text": [
      "CRIM         3.595038\n",
      "ZN          12.500000\n",
      "INDUS       12.910000\n",
      "NOX          0.175000\n",
      "RM           0.736000\n",
      "AGE         49.050000\n",
      "DIS          3.088250\n",
      "TAX        387.000000\n",
      "PTRATIO      2.800000\n",
      "B           20.847500\n",
      "LSTAT       10.005000\n",
      "MEDV         7.975000\n",
      "dtype: float64\n"
     ]
    }
   ],
   "source": [
    "import pandas as pd\n",
    "data = pd.read_csv(\"boston.csv\")\n",
    "data_col12 = data.drop(columns = ['CHAS', 'RAD'])\n",
    "data_col12_desc = data_col12.describe()\n",
    "data_col12_desc_T = data_col12_desc.iloc[[4,6]].T\n",
    "print(data_col12_desc_T['75%']-data_col12_desc_T['25%'])"
   ]
  },
  {
   "cell_type": "markdown",
   "id": "8536e50d",
   "metadata": {},
   "source": [
    "### 1.5 Finding Ranking"
   ]
  },
  {
   "cell_type": "code",
   "execution_count": 11,
   "id": "b2d5ba72",
   "metadata": {},
   "outputs": [
    {
     "name": "stdout",
     "output_type": "stream",
     "text": [
      "22.179644268774698 21.2 5.0 41.7\n"
     ]
    }
   ],
   "source": [
    "import pandas as pd\n",
    "data = pd.read_csv(\"boston.csv\")\n",
    "data_sort = data.sort_values(by='MEDV', ascending=False)[['MEDV']]\n",
    "data_sort_30 = data_sort.iloc[29,:]\n",
    "for i in range(29):\n",
    "    data_sort.iloc[i,:] = data_sort_30\n",
    "mean = data_sort.mean()\n",
    "median = data_sort.median()\n",
    "min = data_sort.min()\n",
    "max = data_sort.max()\n",
    "print(float(mean), float(median), float(min), float(max))"
   ]
  },
  {
   "cell_type": "code",
   "execution_count": 12,
   "id": "04f33ab7",
   "metadata": {
    "scrolled": true
   },
   "outputs": [
    {
     "name": "stdout",
     "output_type": "stream",
     "text": [
      "22.180830039525684 21.2 5.0 42.3\n"
     ]
    }
   ],
   "source": [
    "import pandas as pd\n",
    "data = pd.read_csv(\"boston.csv\")\n",
    "data_new = data['MEDV'].sort_values(ascending=False)\n",
    "data_new.iloc[0:28] = data_new.iloc[29]\n",
    "print(data_new.mean(), data_new.median(), data_new.min(), data_new.max())"
   ]
  }
 ],
 "metadata": {
  "kernelspec": {
   "display_name": "Python 3",
   "language": "python",
   "name": "python3"
  },
  "language_info": {
   "codemirror_mode": {
    "name": "ipython",
    "version": 3
   },
   "file_extension": ".py",
   "mimetype": "text/x-python",
   "name": "python",
   "nbconvert_exporter": "python",
   "pygments_lexer": "ipython3",
   "version": "3.8.2"
  }
 },
 "nbformat": 4,
 "nbformat_minor": 5
}
