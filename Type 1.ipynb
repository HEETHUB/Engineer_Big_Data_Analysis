{
 "cells": [
  {
   "cell_type": "markdown",
   "id": "bd220414",
   "metadata": {},
   "source": [
    "### 1.1 sorting Top 10 "
   ]
  },
  {
   "cell_type": "code",
   "execution_count": 18,
   "id": "3d2682d5",
   "metadata": {},
   "outputs": [
    {
     "name": "stdout",
     "output_type": "stream",
     "text": [
      "398    5.0\n",
      "405    5.0\n",
      "400    5.6\n",
      "399    6.3\n",
      "414    7.0\n",
      "489    7.0\n",
      "401    7.2\n",
      "385    7.2\n",
      "415    7.2\n",
      "387    7.4\n",
      "Name: MEDV, dtype: float64\n"
     ]
    }
   ],
   "source": [
    "import pandas as pd\n",
    "import numpy as np\n",
    "\n",
    "data = pd.read_csv('boston.csv')\n",
    "print(data.sort_values(by='MEDV', ascending=True)['MEDV'].head(10))"
   ]
  },
  {
   "cell_type": "markdown",
   "id": "cb4a5013",
   "metadata": {},
   "source": [
    "### 1.2 Checking Null Values"
   ]
  },
  {
   "cell_type": "code",
   "execution_count": 37,
   "id": "8b2e633c",
   "metadata": {},
   "outputs": [
    {
     "name": "stdout",
     "output_type": "stream",
     "text": [
      "RM    0.010596\n",
      "dtype: float64\n"
     ]
    }
   ],
   "source": [
    "import pandas as pd\n",
    "\n",
    "data = pd.read_csv(\"boston.csv\")\n",
    "data = data[['RM']]\n",
    "mean = data.mean()\n",
    "std_mean = data.fillna(value=mean).std()\n",
    "std_drop = data.dropna().std()\n",
    "print(abs(std_drop-std_mean))\n",
    "# help(pd.DataFrame.fillna)"
   ]
  },
  {
   "cell_type": "code",
   "execution_count": 38,
   "id": "0cac6838",
   "metadata": {},
   "outputs": [
    {
     "name": "stdout",
     "output_type": "stream",
     "text": [
      "0.010595546094104624\n"
     ]
    }
   ],
   "source": [
    "import pandas as pd\n",
    "\n",
    "data = pd.read_csv(\"boston.csv\")\n",
    "data_mean = data['RM'].copy()\n",
    "rm_mean = data_mean.mean()\n",
    "data_mean.fillna(rm_mean, inplace=True)\n",
    "data_del = data['RM'].copy()\n",
    "data_del.dropna(inplace=True)\n",
    "print(abs(data_mean.std()-data_del.std()))"
   ]
  },
  {
   "cell_type": "markdown",
   "id": "f04ca9c6",
   "metadata": {},
   "source": [
    "### 1.3 Checking Outliers"
   ]
  },
  {
   "cell_type": "code",
   "execution_count": 50,
   "id": "1bc0cc22",
   "metadata": {},
   "outputs": [
    {
     "name": "stdout",
     "output_type": "stream",
     "text": [
      "3462.5\n"
     ]
    }
   ],
   "source": [
    "import pandas as pd\n",
    "\n",
    "data = pd.read_csv(\"boston.csv\")\n",
    "data_zn = data['ZN'].copy()\n",
    "mean_zn = data_zn.mean()\n",
    "std_zn = data_zn.std()\n",
    "print(data_zn[(data_zn < mean_zn-1.5*std_zn)|(data_zn > mean_zn+1.5*std_zn)].sum())"
   ]
  },
  {
   "cell_type": "code",
   "execution_count": 51,
   "id": "a6a6da73",
   "metadata": {},
   "outputs": [
    {
     "name": "stdout",
     "output_type": "stream",
     "text": [
      "3462.5\n"
     ]
    }
   ],
   "source": [
    "import pandas as pd\n",
    "\n",
    "data = pd.read_csv(\"boston.csv\")\n",
    "zn_mean = data['ZN'].mean()\n",
    "zn_std = data['ZN'].std()\n",
    "zn_max = zn_mean + (1.5*zn_std)\n",
    "zn_min = zn_mean - (1.5*zn_std)\n",
    "zn_max2 = data[data['ZN'] > zn_max]['ZN']\n",
    "print(sum(zn_max2))"
   ]
  },
  {
   "cell_type": "code",
   "execution_count": null,
   "id": "3ff0fad1",
   "metadata": {},
   "outputs": [],
   "source": []
  }
 ],
 "metadata": {
  "kernelspec": {
   "display_name": "Python 3",
   "language": "python",
   "name": "python3"
  },
  "language_info": {
   "codemirror_mode": {
    "name": "ipython",
    "version": 3
   },
   "file_extension": ".py",
   "mimetype": "text/x-python",
   "name": "python",
   "nbconvert_exporter": "python",
   "pygments_lexer": "ipython3",
   "version": "3.8.2"
  }
 },
 "nbformat": 4,
 "nbformat_minor": 5
}
