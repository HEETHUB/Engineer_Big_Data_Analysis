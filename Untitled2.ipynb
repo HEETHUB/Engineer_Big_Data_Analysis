{
 "cells": [
  {
   "cell_type": "code",
   "execution_count": 1,
   "id": "7f66a39e",
   "metadata": {},
   "outputs": [
    {
     "name": "stderr",
     "output_type": "stream",
     "text": [
      "/Users/heetaecho/opt/anaconda3/lib/python3.9/site-packages/xgboost/compat.py:36: FutureWarning: pandas.Int64Index is deprecated and will be removed from pandas in a future version. Use pandas.Index with the appropriate dtype instead.\n",
      "  from pandas import MultiIndex, Int64Index\n",
      "/Users/heetaecho/opt/anaconda3/lib/python3.9/site-packages/xgboost/sklearn.py:1224: UserWarning: The use of label encoder in XGBClassifier is deprecated and will be removed in a future release. To remove this warning, do the following: 1) Pass option use_label_encoder=False when constructing XGBClassifier object; and 2) Encode your labels (y) as integers starting with 0, i.e. 0, 1, 2, ..., [num_class - 1].\n",
      "  warnings.warn(label_encoder_deprecation_msg, UserWarning)\n",
      "/Users/heetaecho/opt/anaconda3/lib/python3.9/site-packages/sklearn/preprocessing/_label.py:98: DataConversionWarning: A column-vector y was passed when a 1d array was expected. Please change the shape of y to (n_samples, ), for example using ravel().\n",
      "  y = column_or_1d(y, warn=True)\n",
      "/Users/heetaecho/opt/anaconda3/lib/python3.9/site-packages/sklearn/preprocessing/_label.py:133: DataConversionWarning: A column-vector y was passed when a 1d array was expected. Please change the shape of y to (n_samples, ), for example using ravel().\n",
      "  y = column_or_1d(y, warn=True)\n",
      "/Users/heetaecho/opt/anaconda3/lib/python3.9/site-packages/xgboost/data.py:250: FutureWarning: pandas.Int64Index is deprecated and will be removed from pandas in a future version. Use pandas.Index with the appropriate dtype instead.\n",
      "  elif isinstance(data.columns, (pd.Int64Index, pd.RangeIndex)):\n"
     ]
    }
   ],
   "source": [
    "# 데이터 가져오기\n",
    "import pandas as pd\n",
    "x_train = pd.read_csv('titanic_x_train.csv', encoding='cp949')\n",
    "x_test = pd.read_csv('titanic_x_test.csv', encoding='cp949')\n",
    "y_train = pd.read_csv('titanic_y_train.csv')\n",
    "\n",
    "# 전처리하기\n",
    "x_test_passenger_id = x_test['PassengerId']\n",
    "x_train = x_train.drop(columns=['PassengerId'])\n",
    "x_test = x_test.drop(columns=['PassengerId'])\n",
    "y_train = y_train.drop(columns=['PassengerId'])\n",
    "x_train = x_train.drop(columns=['티켓번호','승객이름','나이','객실번호'])\n",
    "x_test = x_test.drop(columns=['티켓번호','승객이름','나이','객실번호'])\n",
    "\n",
    "# 결측치 처리하기\n",
    "x_train['선착장'] = x_train['선착장'].fillna('S')\n",
    "x_test['선착장'] = x_test['선착장'].fillna('S')\n",
    "\n",
    "# 인코딩 수행하기\n",
    "x_train['성별'] = x_train['성별'].replace({'male':0,'female':1})\n",
    "x_test['성별'] = x_test['성별'].replace({'male':0,'female':1})\n",
    "선착장_dummy = pd.get_dummies(x_train['선착장'], drop_first=True).rename(columns={'Q':'선착장Q','S':'선착장S'})\n",
    "x_train = pd.concat([x_train, 선착장_dummy],axis=1)\n",
    "x_train = x_train.drop(columns=['선착장'])\n",
    "선착장_dummy = pd.get_dummies(x_test['선착장'], drop_first=True).rename(columns={'Q':'선착장Q','S':'선착장S'})\n",
    "x_test = pd.concat([x_test, 선착장_dummy],axis=1)\n",
    "x_test = x_test.drop(columns=['선착장'])\n",
    "\n",
    "# 파생변수 만들기\n",
    "x_train['가족수'] = x_train['형제자매배우자수'] + x_train['부모자식수']\n",
    "x_train = x_train.drop(columns=['형제자매배우자수','부모자식수'])\n",
    "x_test['가족수'] = x_test['형제자매배우자수'] + x_test['부모자식수']\n",
    "x_test = x_test.drop(columns=['형제자매배우자수','부모자식수'])\n",
    "\n",
    "# 데이터 분리하기\n",
    "from sklearn.model_selection import train_test_split\n",
    "X_TRAIN, X_TEST, Y_TRAIN, Y_TEST = train_test_split(x_train, y_train, test_size=0.1, random_state=10)\n",
    "\n",
    "# 모델 학습하기\n",
    "from xgboost import XGBClassifier\n",
    "# model = XGBClassifier(eval_metric='error', n_estimators=100, max_depth=5, random_state=10)\n",
    "model = XGBClassifier(eval_metric='error', n_estimators=200, max_depth=5, random_state=10)\n",
    "model.fit(X_TRAIN, Y_TRAIN)\n",
    "\n",
    "# 최종 결과를 파일로 저장하기\n",
    "y_test_predicted = pd.DataFrame(model.predict(x_test)).rename(columns={0:'Survived'})\n",
    "final = pd.concat([x_test_passenger_id, y_test_predicted], axis=1)\n",
    "final.to_csv('titanic_final.csv', index=False)"
   ]
  },
  {
   "cell_type": "code",
   "execution_count": null,
   "id": "6b274c44",
   "metadata": {},
   "outputs": [],
   "source": []
  }
 ],
 "metadata": {
  "kernelspec": {
   "display_name": "Python 3 (ipykernel)",
   "language": "python",
   "name": "python3"
  },
  "language_info": {
   "codemirror_mode": {
    "name": "ipython",
    "version": 3
   },
   "file_extension": ".py",
   "mimetype": "text/x-python",
   "name": "python",
   "nbconvert_exporter": "python",
   "pygments_lexer": "ipython3",
   "version": "3.9.13"
  }
 },
 "nbformat": 4,
 "nbformat_minor": 5
}
