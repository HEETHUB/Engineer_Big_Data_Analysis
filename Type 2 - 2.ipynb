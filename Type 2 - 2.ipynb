{
 "cells": [
  {
   "cell_type": "markdown",
   "id": "6269aaee",
   "metadata": {},
   "source": [
    "## 2.1 데이터 탐색하기"
   ]
  },
  {
   "cell_type": "markdown",
   "id": "ea8a68f4",
   "metadata": {},
   "source": [
    "### 데이터 가져오기"
   ]
  },
  {
   "cell_type": "code",
   "execution_count": 37,
   "id": "60223ce6",
   "metadata": {},
   "outputs": [],
   "source": [
    "# pandas 라이브러리 가져오기\n",
    "import pandas as pd\n",
    "\n",
    "# 주어진 데이터 파일을 모두 읽어서, 각 데이터 프레임 변수에 저장하기\n",
    "x_train = pd.read_csv('titanic_x_train.csv', encoding='cp949')\n",
    "x_test = pd.read_csv('titanic_x_test.csv', encoding='cp949')\n",
    "y_train = pd.read_csv('titanic_y_train.csv')"
   ]
  },
  {
   "cell_type": "code",
   "execution_count": 38,
   "id": "db212d38",
   "metadata": {},
   "outputs": [
    {
     "name": "stdout",
     "output_type": "stream",
     "text": [
      "                                   0\n",
      "PassengerId                        1\n",
      "티켓등급                               3\n",
      "승객이름         Braund, Mr. Owen Harris\n",
      "성별                              male\n",
      "나이                              22.0\n",
      "형제자매배우자수                           1\n",
      "부모자식수                              0\n",
      "티켓번호                       A/5 21171\n",
      "운임요금                            7.25\n",
      "객실번호                             NaN\n",
      "선착장                                S\n",
      "                            0\n",
      "PassengerId               892\n",
      "티켓등급                        3\n",
      "승객이름         Kelly, Mr. James\n",
      "성별                       male\n",
      "나이                       34.5\n",
      "형제자매배우자수                    0\n",
      "부모자식수                       0\n",
      "티켓번호                   330911\n",
      "운임요금                   7.8292\n",
      "객실번호                      NaN\n",
      "선착장                         Q\n"
     ]
    }
   ],
   "source": [
    "# x_train, x_test의 상위 1개 행을 확인하기\n",
    "print(x_train.head(1).T)\n",
    "print(x_test.head(1).T)"
   ]
  },
  {
   "cell_type": "code",
   "execution_count": 39,
   "id": "c3d15f3d",
   "metadata": {},
   "outputs": [
    {
     "name": "stdout",
     "output_type": "stream",
     "text": [
      "   PassengerId  Survived\n",
      "0            1         0\n",
      "1            2         1\n",
      "2            3         1\n",
      "3            4         1\n",
      "4            5         0\n"
     ]
    }
   ],
   "source": [
    "# y_train의 상위 5개 행을 가져오기\n",
    "print(y_train.head(5))"
   ]
  },
  {
   "cell_type": "markdown",
   "id": "e5752513",
   "metadata": {},
   "source": [
    "### 행/열 확인하기"
   ]
  },
  {
   "cell_type": "code",
   "execution_count": 40,
   "id": "39d4df56",
   "metadata": {},
   "outputs": [
    {
     "name": "stdout",
     "output_type": "stream",
     "text": [
      "(891, 11)\n",
      "(418, 11)\n",
      "(891, 2)\n"
     ]
    }
   ],
   "source": [
    "# 각 데이터 세트의 행과 열의 개수를 확인하기\n",
    "print(x_train.shape)\n",
    "print(x_test.shape)\n",
    "print(y_train.shape)"
   ]
  },
  {
   "cell_type": "markdown",
   "id": "79438c25",
   "metadata": {},
   "source": [
    "### 요약정보 확인하기"
   ]
  },
  {
   "cell_type": "code",
   "execution_count": 41,
   "id": "19e8bb8f",
   "metadata": {},
   "outputs": [
    {
     "name": "stdout",
     "output_type": "stream",
     "text": [
      "<class 'pandas.core.frame.DataFrame'>\n",
      "RangeIndex: 891 entries, 0 to 890\n",
      "Data columns (total 11 columns):\n",
      " #   Column       Non-Null Count  Dtype  \n",
      "---  ------       --------------  -----  \n",
      " 0   PassengerId  891 non-null    int64  \n",
      " 1   티켓등급         891 non-null    int64  \n",
      " 2   승객이름         891 non-null    object \n",
      " 3   성별           891 non-null    object \n",
      " 4   나이           714 non-null    float64\n",
      " 5   형제자매배우자수     891 non-null    int64  \n",
      " 6   부모자식수        891 non-null    int64  \n",
      " 7   티켓번호         891 non-null    object \n",
      " 8   운임요금         891 non-null    float64\n",
      " 9   객실번호         204 non-null    object \n",
      " 10  선착장          889 non-null    object \n",
      "dtypes: float64(2), int64(4), object(5)\n",
      "memory usage: 76.7+ KB\n",
      "None\n"
     ]
    }
   ],
   "source": [
    "# x_train 세트의 요약정보 확인하기\n",
    "print(x_train.info())"
   ]
  },
  {
   "cell_type": "code",
   "execution_count": 42,
   "id": "e21e840d",
   "metadata": {},
   "outputs": [
    {
     "name": "stdout",
     "output_type": "stream",
     "text": [
      "2\n",
      "4\n",
      "891\n",
      "681\n",
      "148\n"
     ]
    }
   ],
   "source": [
    "# '성별' 칼럼의 중복 제거한 값과 개수 확인하기\n",
    "print(x_train['성별'].unique().size)\n",
    "\n",
    "# '선착장' 칼럼의 중복 제거한 값과 개수 확인하기\n",
    "print(x_train['선착장'].unique().size)\n",
    "\n",
    "# 나머지 3개 칼럼의 중복 제거한 값을 개수 확인하기\n",
    "print(x_train['승객이름'].unique().size)\n",
    "print(x_train['티켓번호'].unique().size)\n",
    "print(x_train['객실번호'].unique().size)"
   ]
  },
  {
   "cell_type": "markdown",
   "id": "48f3c18a",
   "metadata": {},
   "source": [
    "### 기초통계량 확인하기"
   ]
  },
  {
   "cell_type": "code",
   "execution_count": 43,
   "id": "6d10d741",
   "metadata": {},
   "outputs": [
    {
     "name": "stdout",
     "output_type": "stream",
     "text": [
      "             count        mean         std   min       25%       50%    75%  \\\n",
      "PassengerId  891.0  446.000000  257.353842  1.00  223.5000  446.0000  668.5   \n",
      "티켓등급         891.0    2.308642    0.836071  1.00    2.0000    3.0000    3.0   \n",
      "나이           714.0   29.699118   14.526497  0.42   20.1250   28.0000   38.0   \n",
      "형제자매배우자수     891.0    0.523008    1.102743  0.00    0.0000    0.0000    1.0   \n",
      "부모자식수        891.0    0.381594    0.806057  0.00    0.0000    0.0000    0.0   \n",
      "운임요금         891.0   32.204208   49.693429  0.00    7.9104   14.4542   31.0   \n",
      "\n",
      "                  max  \n",
      "PassengerId  891.0000  \n",
      "티켓등급           3.0000  \n",
      "나이            80.0000  \n",
      "형제자매배우자수       8.0000  \n",
      "부모자식수          6.0000  \n",
      "운임요금         512.3292  \n"
     ]
    }
   ],
   "source": [
    "# x_train의 기초 통계량 확인하고, 가독성을 위해 행/열 바꿔서 출력하기\n",
    "print(x_train.describe().T)"
   ]
  },
  {
   "cell_type": "markdown",
   "id": "abe2eb7e",
   "metadata": {},
   "source": [
    "### 독립변수와 종속변수의 관계 확인하기"
   ]
  },
  {
   "cell_type": "code",
   "execution_count": 44,
   "id": "33ca666e",
   "metadata": {},
   "outputs": [],
   "source": [
    "# x_train, y_train을 세로 방향으로 통합한 후, data 변수에 저장하기\n",
    "data = pd.concat([x_train, y_train], axis=1)"
   ]
  },
  {
   "cell_type": "code",
   "execution_count": 45,
   "id": "63514c0d",
   "metadata": {},
   "outputs": [
    {
     "name": "stdout",
     "output_type": "stream",
     "text": [
      "성별\n",
      "female    0.742038\n",
      "male      0.188908\n",
      "Name: Survived, dtype: float64\n"
     ]
    }
   ],
   "source": [
    "# '성별' 칼럼에 따라 Survived의 평균값을 구하기\n",
    "print(data.groupby(['성별'])['Survived'].mean())"
   ]
  },
  {
   "cell_type": "code",
   "execution_count": 46,
   "id": "8dd3b114",
   "metadata": {},
   "outputs": [
    {
     "name": "stdout",
     "output_type": "stream",
     "text": [
      "티켓등급\n",
      "1    0.629630\n",
      "2    0.472826\n",
      "3    0.242363\n",
      "Name: Survived, dtype: float64\n"
     ]
    }
   ],
   "source": [
    "# '티켓등급' 칼럼에 따라 Survived의 평균값을 구하기\n",
    "print(data.groupby(['티켓등급'])['Survived'].mean())"
   ]
  },
  {
   "cell_type": "code",
   "execution_count": 47,
   "id": "9ffa2b30",
   "metadata": {},
   "outputs": [
    {
     "name": "stdout",
     "output_type": "stream",
     "text": [
      "선착장\n",
      "C    0.553571\n",
      "Q    0.389610\n",
      "S    0.336957\n",
      "Name: Survived, dtype: float64\n"
     ]
    }
   ],
   "source": [
    "# '선착장' 칼럼에 따라 Survived의 평균값을 구하기\n",
    "print(data.groupby(['선착장'])['Survived'].mean())"
   ]
  },
  {
   "cell_type": "markdown",
   "id": "6ce6cc67",
   "metadata": {},
   "source": [
    "## 2.2 전처리하기"
   ]
  },
  {
   "cell_type": "markdown",
   "id": "a52b946b",
   "metadata": {},
   "source": [
    "### 불필요한 칼럼 삭제하기"
   ]
  },
  {
   "cell_type": "code",
   "execution_count": 48,
   "id": "a84cbfdc",
   "metadata": {},
   "outputs": [],
   "source": [
    "# 테스트 데이터의 PassengerId 값은 x_test_passenger_id 변수에 저장하기\n",
    "x_test_passenger_id = x_test['PassengerId']"
   ]
  },
  {
   "cell_type": "code",
   "execution_count": 49,
   "id": "c6f07e92",
   "metadata": {},
   "outputs": [],
   "source": [
    "# PassengerId 칼럼을 삭제하기\n",
    "x_train = x_train.drop(columns=['PassengerId'])\n",
    "x_test = x_test.drop(columns=['PassengerId'])\n",
    "y_train = y_train.drop(columns=['PassengerId'])"
   ]
  },
  {
   "cell_type": "code",
   "execution_count": 50,
   "id": "736b94f1",
   "metadata": {},
   "outputs": [
    {
     "name": "stdout",
     "output_type": "stream",
     "text": [
      "   티켓등급                                               승객이름      성별    나이  \\\n",
      "0     3                            Braund, Mr. Owen Harris    male  22.0   \n",
      "1     1  Cumings, Mrs. John Bradley (Florence Briggs Th...  female  38.0   \n",
      "2     3                             Heikkinen, Miss. Laina  female  26.0   \n",
      "3     1       Futrelle, Mrs. Jacques Heath (Lily May Peel)  female  35.0   \n",
      "4     3                           Allen, Mr. William Henry    male  35.0   \n",
      "\n",
      "   형제자매배우자수  부모자식수              티켓번호     운임요금  객실번호 선착장  \n",
      "0         1      0         A/5 21171   7.2500   NaN   S  \n",
      "1         1      0          PC 17599  71.2833   C85   C  \n",
      "2         0      0  STON/O2. 3101282   7.9250   NaN   S  \n",
      "3         1      0            113803  53.1000  C123   S  \n",
      "4         0      0            373450   8.0500   NaN   S  \n",
      "   Survived\n",
      "0         0\n",
      "1         1\n",
      "2         1\n",
      "3         1\n",
      "4         0\n"
     ]
    }
   ],
   "source": [
    "# 칼럼이 삭제된 상위 5개 행을 확인하기\n",
    "print(x_train.head())\n",
    "print(y_train.head())"
   ]
  },
  {
   "cell_type": "code",
   "execution_count": 51,
   "id": "0ed39e21",
   "metadata": {},
   "outputs": [],
   "source": [
    "# 학습 데이터와 테스트 데이터에서 '티켓번호' 칼럼 삭제하기\n",
    "x_train = x_train.drop(columns=['티켓번호'])\n",
    "x_test = x_test.drop(columns=['티켓번호'])"
   ]
  },
  {
   "cell_type": "code",
   "execution_count": 52,
   "id": "cdd5f2de",
   "metadata": {},
   "outputs": [],
   "source": [
    "# 학습 데이터와 테스트 데이터에서 '승객이름' 칼럼 삭제하기\n",
    "x_train = x_train.drop(columns=['승객이름'])\n",
    "x_test = x_test.drop(columns=['승객이름'])"
   ]
  },
  {
   "cell_type": "markdown",
   "id": "b068d1dc",
   "metadata": {},
   "source": [
    "### 결측치 처리하기"
   ]
  },
  {
   "cell_type": "code",
   "execution_count": 53,
   "id": "29b5bf5e",
   "metadata": {},
   "outputs": [
    {
     "name": "stdout",
     "output_type": "stream",
     "text": [
      "177\n",
      "687\n",
      "2\n"
     ]
    }
   ],
   "source": [
    "# '나이', '객실번호', '선착장' 칼럼의 결측치 개수 세기\n",
    "print(x_train['나이'].isnull().sum())\n",
    "print(x_train['객실번호'].isnull().sum())\n",
    "print(x_train['선착장'].isnull().sum())"
   ]
  },
  {
   "cell_type": "code",
   "execution_count": 54,
   "id": "fadaa670",
   "metadata": {},
   "outputs": [
    {
     "name": "stdout",
     "output_type": "stream",
     "text": [
      "                나이  Survived\n",
      "나이        1.000000 -0.077221\n",
      "Survived -0.077221  1.000000\n"
     ]
    }
   ],
   "source": [
    "# '나이'와 'Survived' 칼럼 간의 상관관계를 확인하기\n",
    "print(data[['나이','Survived']].corr())\n",
    "\n",
    "# x_train에서 '나이' 칼럼을 삭제하기\n",
    "x_train = x_train.drop(columns=['나이'])\n",
    "\n",
    "# x_test에서 '나이' 칼럼을 삭제하기\n",
    "x_test = x_test.drop(columns=['나이'])"
   ]
  },
  {
   "cell_type": "code",
   "execution_count": 55,
   "id": "8fd9ad49",
   "metadata": {},
   "outputs": [
    {
     "name": "stdout",
     "output_type": "stream",
     "text": [
      "148\n"
     ]
    }
   ],
   "source": [
    "# x_train의 '객실번호' 값에서 중복을 제외한 값의 개수 세기\n",
    "print(x_train['객실번호'].unique().size)\n",
    "\n",
    "# x_train에서 '객실번호' 칼럼을 삭제하기\n",
    "x_train = x_train.drop(columns=['객실번호'])\n",
    "\n",
    "# x_test 세트에서 '객실번호' 칼럼을 삭제하기\n",
    "x_test = x_test.drop(columns=['객실번호'])"
   ]
  },
  {
   "cell_type": "code",
   "execution_count": 56,
   "id": "71ca0684",
   "metadata": {},
   "outputs": [
    {
     "name": "stdout",
     "output_type": "stream",
     "text": [
      "선착장\n",
      "C    168\n",
      "Q     77\n",
      "S    644\n",
      "Name: 선착장, dtype: int64\n"
     ]
    }
   ],
   "source": [
    "# '선착장' 칼럼별로 값의 개수를 세기\n",
    "print(x_train.groupby('선착장')['선착장'].count())"
   ]
  },
  {
   "cell_type": "code",
   "execution_count": 57,
   "id": "e7b8e141",
   "metadata": {},
   "outputs": [
    {
     "data": {
      "text/plain": [
       "0"
      ]
     },
     "execution_count": 57,
     "metadata": {},
     "output_type": "execute_result"
    }
   ],
   "source": [
    "# x_train의 '선착장' 칼럼의 결측치는 'S' 이용하기\n",
    "x_train['선착장'] = x_train['선착장'].fillna('S')\n",
    "\n",
    "# x_train의 '선착장' 칼럼에 결측치가 있는지 다시 확인하기\n",
    "x_train['선착장'].isnull().sum()"
   ]
  },
  {
   "cell_type": "code",
   "execution_count": 58,
   "id": "38c34da6",
   "metadata": {},
   "outputs": [
    {
     "name": "stdout",
     "output_type": "stream",
     "text": [
      "0\n"
     ]
    }
   ],
   "source": [
    "# x_test의 '선착장' 칼럼에 결측치가 있는지 다시 확인하기\n",
    "print(x_test['선착장'].isnull().sum())"
   ]
  },
  {
   "cell_type": "markdown",
   "id": "e76aec85",
   "metadata": {},
   "source": [
    "### 범주형 변수를 인코딩하기"
   ]
  },
  {
   "cell_type": "code",
   "execution_count": 59,
   "id": "53cd24dd",
   "metadata": {},
   "outputs": [],
   "source": [
    "# 학습 데이터의 '성별' 칼럼을 인코딩하기\n",
    "x_train['성별'] = x_train['성별'].replace({'male':0, 'female':1})\n",
    "\n",
    "# 테스트 데이터의 '성별' 칼럼을 인코딩하기\n",
    "x_test['성별'] = x_test['성별'].replace({'male':0, 'female':1})"
   ]
  },
  {
   "cell_type": "code",
   "execution_count": 60,
   "id": "4786371b",
   "metadata": {},
   "outputs": [
    {
     "data": {
      "text/html": [
       "<div>\n",
       "<style scoped>\n",
       "    .dataframe tbody tr th:only-of-type {\n",
       "        vertical-align: middle;\n",
       "    }\n",
       "\n",
       "    .dataframe tbody tr th {\n",
       "        vertical-align: top;\n",
       "    }\n",
       "\n",
       "    .dataframe thead th {\n",
       "        text-align: right;\n",
       "    }\n",
       "</style>\n",
       "<table border=\"1\" class=\"dataframe\">\n",
       "  <thead>\n",
       "    <tr style=\"text-align: right;\">\n",
       "      <th></th>\n",
       "      <th>티켓등급</th>\n",
       "      <th>성별</th>\n",
       "      <th>형제자매배우자수</th>\n",
       "      <th>부모자식수</th>\n",
       "      <th>운임요금</th>\n",
       "      <th>선착장</th>\n",
       "      <th>선착장Q</th>\n",
       "      <th>선착장S</th>\n",
       "    </tr>\n",
       "  </thead>\n",
       "  <tbody>\n",
       "    <tr>\n",
       "      <th>0</th>\n",
       "      <td>3</td>\n",
       "      <td>0</td>\n",
       "      <td>1</td>\n",
       "      <td>0</td>\n",
       "      <td>7.2500</td>\n",
       "      <td>S</td>\n",
       "      <td>0</td>\n",
       "      <td>1</td>\n",
       "    </tr>\n",
       "    <tr>\n",
       "      <th>1</th>\n",
       "      <td>1</td>\n",
       "      <td>1</td>\n",
       "      <td>1</td>\n",
       "      <td>0</td>\n",
       "      <td>71.2833</td>\n",
       "      <td>C</td>\n",
       "      <td>0</td>\n",
       "      <td>0</td>\n",
       "    </tr>\n",
       "    <tr>\n",
       "      <th>2</th>\n",
       "      <td>3</td>\n",
       "      <td>1</td>\n",
       "      <td>0</td>\n",
       "      <td>0</td>\n",
       "      <td>7.9250</td>\n",
       "      <td>S</td>\n",
       "      <td>0</td>\n",
       "      <td>1</td>\n",
       "    </tr>\n",
       "    <tr>\n",
       "      <th>3</th>\n",
       "      <td>1</td>\n",
       "      <td>1</td>\n",
       "      <td>1</td>\n",
       "      <td>0</td>\n",
       "      <td>53.1000</td>\n",
       "      <td>S</td>\n",
       "      <td>0</td>\n",
       "      <td>1</td>\n",
       "    </tr>\n",
       "    <tr>\n",
       "      <th>4</th>\n",
       "      <td>3</td>\n",
       "      <td>0</td>\n",
       "      <td>0</td>\n",
       "      <td>0</td>\n",
       "      <td>8.0500</td>\n",
       "      <td>S</td>\n",
       "      <td>0</td>\n",
       "      <td>1</td>\n",
       "    </tr>\n",
       "  </tbody>\n",
       "</table>\n",
       "</div>"
      ],
      "text/plain": [
       "   티켓등급  성별  형제자매배우자수  부모자식수     운임요금 선착장  선착장Q  선착장S\n",
       "0     3   0         1      0   7.2500   S     0     1\n",
       "1     1   1         1      0  71.2833   C     0     0\n",
       "2     3   1         0      0   7.9250   S     0     1\n",
       "3     1   1         1      0  53.1000   S     0     1\n",
       "4     3   0         0      0   8.0500   S     0     1"
      ]
     },
     "execution_count": 60,
     "metadata": {},
     "output_type": "execute_result"
    }
   ],
   "source": [
    "# x_train의 '선착장' 칼럼에 대해 원핫 인코딩을 수행한 후, '선착장_dummy'에 저장하기\n",
    "선착장_dummy = pd.get_dummies(x_train['선착장'], drop_first=True).rename(columns = {'Q':'선착장Q', 'S':'선착장S'})\n",
    "\n",
    "# 기존 x_train의 우측에 '선착장_dummy' 변수를 덧붙여, x_train에 다시 저장하기\n",
    "x_train = pd.concat([x_train, 선착장_dummy], axis=1)\n",
    "\n",
    "# x_train의 상위 5개 행 확인하기\n",
    "x_train.head(5)"
   ]
  },
  {
   "cell_type": "code",
   "execution_count": 61,
   "id": "8e67c54e",
   "metadata": {},
   "outputs": [],
   "source": [
    "# 학습 데이터에서 '선착장' 칼럼 삭제하기\n",
    "x_train = x_train.drop(columns=['선착장'])"
   ]
  },
  {
   "cell_type": "code",
   "execution_count": 62,
   "id": "5c2f824c",
   "metadata": {},
   "outputs": [],
   "source": [
    "# x_test 세트의 선착장 칼럼에 대해 원핫 인코딩을 수행하고, 기존 칼럼은 삭제하기\n",
    "선착장_dummy = pd.get_dummies(x_test['선착장'], drop_first=True).rename(columns = {'Q':'선착장Q', 'S':'선착장S'})\n",
    "\n",
    "# 기존 x_test의 우측에 '선착장_dummy' 변수를 덧붙여, x_test에 다시 저장하기\n",
    "x_test = pd.concat([x_test, 선착장_dummy], axis=1)\n",
    "\n",
    "# 테스트 데이터에서 '선착장' 칼럼 삭제하기\n",
    "x_test = x_test.drop(columns=['선착장'])"
   ]
  },
  {
   "cell_type": "markdown",
   "id": "04a60f68",
   "metadata": {},
   "source": [
    "### 파생변수 만들기"
   ]
  },
  {
   "cell_type": "code",
   "execution_count": 63,
   "id": "33a8053b",
   "metadata": {},
   "outputs": [
    {
     "name": "stdout",
     "output_type": "stream",
     "text": [
      "   형제자매배우자수  부모자식수  가족수\n",
      "0         1      0    1\n",
      "1         1      0    1\n",
      "2         0      0    0\n",
      "3         1      0    1\n",
      "4         0      0    0\n",
      "5         0      0    0\n",
      "6         0      0    0\n",
      "7         3      1    4\n",
      "8         0      2    2\n",
      "9         1      0    1\n"
     ]
    }
   ],
   "source": [
    "# '형제자매배우자수'와 '부모자식수' 칼럼을 더하여 '가족수'라는 칼럼을 만들기\n",
    "x_train['가족수'] = x_train['형제자매배우자수'] + x_train['부모자식수']\n",
    "\n",
    "# 결과 확인을 위해, 상위 10개 행을 확인하기\n",
    "print(x_train[['형제자매배우자수','부모자식수','가족수']].head(10))"
   ]
  },
  {
   "cell_type": "code",
   "execution_count": 64,
   "id": "1003e1e6",
   "metadata": {},
   "outputs": [],
   "source": [
    "# 학습 데이터에서 '형제자매배우자수', '부모자식수' 칼럼을 삭제하기\n",
    "x_train = x_train.drop(columns=['형제자매배우자수','부모자식수'])"
   ]
  },
  {
   "cell_type": "code",
   "execution_count": 65,
   "id": "81a3f03e",
   "metadata": {},
   "outputs": [],
   "source": [
    "# 테스트 데이터에서 '형제자매배우자수'와 '부모자식수' 칼럼을 더한 '가족수'라는 칼럼을 만들기\n",
    "x_test['가족수'] = x_test['형제자매배우자수'] + x_test['부모자식수']\n",
    "\n",
    "# 테스트 데이터에서 '형제자매배우자수', '부모자식수' 칼럼 삭제하기\n",
    "x_test = x_test.drop(columns=['형제자매배우자수','부모자식수'])"
   ]
  },
  {
   "cell_type": "markdown",
   "id": "51591d43",
   "metadata": {},
   "source": [
    "## 2.3 학습하고 평가하기"
   ]
  },
  {
   "cell_type": "markdown",
   "id": "409240ed",
   "metadata": {},
   "source": [
    "### 데이터 분리하기"
   ]
  },
  {
   "cell_type": "code",
   "execution_count": 66,
   "id": "eef4f7d5",
   "metadata": {},
   "outputs": [
    {
     "name": "stdout",
     "output_type": "stream",
     "text": [
      "(712, 6)\n",
      "(179, 6)\n",
      "(712, 1)\n",
      "(179, 1)\n"
     ]
    }
   ],
   "source": [
    "# 데이터 분리하기 위한 train_test_split 함수를 가져오기\n",
    "from sklearn.model_selection import train_test_split\n",
    "\n",
    "# 학습용과 검증용을 8:2로 분리하여, 각 4개의 변수에 저장하기\n",
    "X_TRAIN, X_TEST, Y_TRAIN, Y_TEST = train_test_split(x_train, y_train, test_size=0.2, random_state=10)\n",
    "\n",
    "# 분리된 데이터의 행/열 구조를 확인하기\n",
    "print(X_TRAIN.shape)\n",
    "print(X_TEST.shape)\n",
    "print(Y_TRAIN.shape)\n",
    "print(Y_TEST.shape)"
   ]
  },
  {
   "cell_type": "markdown",
   "id": "3db9d29f",
   "metadata": {},
   "source": [
    "### 데이터 학습 및 하이퍼 파라미터 튜닝하기"
   ]
  },
  {
   "cell_type": "code",
   "execution_count": 67,
   "id": "f14a5963",
   "metadata": {},
   "outputs": [],
   "source": [
    "# xgboost 라이브러리에서 제공하는 XGBClassifier 함수를 가져오기\n",
    "from xgboost import XGBClassifier"
   ]
  },
  {
   "cell_type": "code",
   "execution_count": 68,
   "id": "6c0d9e67",
   "metadata": {},
   "outputs": [
    {
     "name": "stderr",
     "output_type": "stream",
     "text": [
      "/Users/heetaecho/opt/anaconda3/lib/python3.9/site-packages/xgboost/sklearn.py:1224: UserWarning: The use of label encoder in XGBClassifier is deprecated and will be removed in a future release. To remove this warning, do the following: 1) Pass option use_label_encoder=False when constructing XGBClassifier object; and 2) Encode your labels (y) as integers starting with 0, i.e. 0, 1, 2, ..., [num_class - 1].\n",
      "  warnings.warn(label_encoder_deprecation_msg, UserWarning)\n",
      "/Users/heetaecho/opt/anaconda3/lib/python3.9/site-packages/sklearn/preprocessing/_label.py:98: DataConversionWarning: A column-vector y was passed when a 1d array was expected. Please change the shape of y to (n_samples, ), for example using ravel().\n",
      "  y = column_or_1d(y, warn=True)\n",
      "/Users/heetaecho/opt/anaconda3/lib/python3.9/site-packages/sklearn/preprocessing/_label.py:133: DataConversionWarning: A column-vector y was passed when a 1d array was expected. Please change the shape of y to (n_samples, ), for example using ravel().\n",
      "  y = column_or_1d(y, warn=True)\n",
      "/Users/heetaecho/opt/anaconda3/lib/python3.9/site-packages/xgboost/data.py:250: FutureWarning: pandas.Int64Index is deprecated and will be removed from pandas in a future version. Use pandas.Index with the appropriate dtype instead.\n",
      "  elif isinstance(data.columns, (pd.Int64Index, pd.RangeIndex)):\n"
     ]
    },
    {
     "data": {
      "text/plain": [
       "XGBClassifier(base_score=0.5, booster='gbtree', colsample_bylevel=1,\n",
       "              colsample_bynode=1, colsample_bytree=1, enable_categorical=False,\n",
       "              eval_metric='error', gamma=0, gpu_id=-1, importance_type=None,\n",
       "              interaction_constraints='', learning_rate=0.300000012,\n",
       "              max_delta_step=0, max_depth=6, min_child_weight=1, missing=nan,\n",
       "              monotone_constraints='()', n_estimators=100, n_jobs=8,\n",
       "              num_parallel_tree=1, predictor='auto', random_state=10,\n",
       "              reg_alpha=0, reg_lambda=1, scale_pos_weight=1, subsample=1,\n",
       "              tree_method='exact', validate_parameters=1, verbosity=None)"
      ]
     },
     "execution_count": 68,
     "metadata": {},
     "output_type": "execute_result"
    }
   ],
   "source": [
    "# 1)\n",
    "# XGB 분류 분석을 수행할 첫 번째 모델을 만들고, 공부시키기\n",
    "model = XGBClassifier(eval_metric = 'error', random_state=10) # eval_metric -> 분류 모델로 학습하는 경우 작성하는 대푯값\n",
    "model.fit(X_TRAIN, Y_TRAIN)"
   ]
  },
  {
   "cell_type": "code",
   "execution_count": 69,
   "id": "5f1d806b",
   "metadata": {},
   "outputs": [
    {
     "data": {
      "text/plain": [
       "XGBClassifier(base_score=0.5, booster='gbtree', colsample_bylevel=1,\n",
       "              colsample_bynode=1, colsample_bytree=1, enable_categorical=False,\n",
       "              eval_metric='error', gamma=0, gpu_id=-1, importance_type=None,\n",
       "              interaction_constraints='', learning_rate=0.300000012,\n",
       "              max_delta_step=0, max_depth=5, min_child_weight=1, missing=nan,\n",
       "              monotone_constraints='()', n_estimators=100, n_jobs=8,\n",
       "              num_parallel_tree=1, predictor='auto', random_state=10,\n",
       "              reg_alpha=0, reg_lambda=1, scale_pos_weight=1, subsample=1,\n",
       "              tree_method='exact', validate_parameters=1, verbosity=None)"
      ]
     },
     "execution_count": 69,
     "metadata": {},
     "output_type": "execute_result"
    }
   ],
   "source": [
    "# 2)\n",
    "# XGB 분류 분석을 수행할 두 번째 모델을 만들기\n",
    "model = XGBClassifier(n_estimators = 100, max_depth = 5, eval_metric = 'error', random_state = 10)\n",
    "\n",
    "# 만들어진 모델을 공부시키기\n",
    "model.fit(X_TRAIN, Y_TRAIN)"
   ]
  },
  {
   "cell_type": "markdown",
   "id": "1f92e39f",
   "metadata": {},
   "source": [
    "### 결과 예측하기"
   ]
  },
  {
   "cell_type": "code",
   "execution_count": 70,
   "id": "283b0c60",
   "metadata": {},
   "outputs": [
    {
     "name": "stdout",
     "output_type": "stream",
     "text": [
      "     Survived\n",
      "0           0\n",
      "1           1\n",
      "2           0\n",
      "3           0\n",
      "4           1\n",
      "..        ...\n",
      "413         0\n",
      "414         1\n",
      "415         0\n",
      "416         0\n",
      "417         1\n",
      "\n",
      "[418 rows x 1 columns]\n"
     ]
    }
   ],
   "source": [
    "# 학습이 완료된 모델을 통해 y_test 값을 예측하기 : 최종 결과 제출용\n",
    "y_test_predicted = pd.DataFrame(model.predict(x_test)).rename(columns={0:'Survived'})\n",
    "\n",
    "# y_test_predicted 값 확인하기\n",
    "print(y_test_predicted)"
   ]
  },
  {
   "cell_type": "code",
   "execution_count": 71,
   "id": "467273e7",
   "metadata": {},
   "outputs": [],
   "source": [
    "# 학습이 완료된 모델을 통해 Y_TEST 값을 예측하기 : 평가지표 계산용\n",
    "Y_TEST_PREDICTED = pd.DataFrame(model.predict(X_TEST))"
   ]
  },
  {
   "cell_type": "markdown",
   "id": "66924448",
   "metadata": {},
   "source": [
    "### 모델 평가하기"
   ]
  },
  {
   "cell_type": "code",
   "execution_count": 72,
   "id": "b51613be",
   "metadata": {},
   "outputs": [],
   "source": [
    "# sklearn 패키지의 metrics 모듈에서 roc_auc_score 함수를 가져오기\n",
    "from sklearn.metrics import roc_auc_score"
   ]
  },
  {
   "cell_type": "code",
   "execution_count": 73,
   "id": "55fc7d60",
   "metadata": {},
   "outputs": [
    {
     "name": "stdout",
     "output_type": "stream",
     "text": [
      "0.7983181692859112\n"
     ]
    }
   ],
   "source": [
    "# 1차 학습모델의 ROC 평가지표 값을 확인하기\n",
    "print(roc_auc_score(Y_TEST, Y_TEST_PREDICTED))"
   ]
  },
  {
   "cell_type": "code",
   "execution_count": 74,
   "id": "db2c127b",
   "metadata": {},
   "outputs": [
    {
     "name": "stdout",
     "output_type": "stream",
     "text": [
      "0.7983181692859112\n"
     ]
    }
   ],
   "source": [
    "# 2차 학습모델의 ROC 평가지표 값을 확인하기\n",
    "print(roc_auc_score(Y_TEST, Y_TEST_PREDICTED))"
   ]
  },
  {
   "cell_type": "markdown",
   "id": "055f9861",
   "metadata": {},
   "source": [
    "## 2.4 결과 제출하기"
   ]
  },
  {
   "cell_type": "code",
   "execution_count": 75,
   "id": "ed020210",
   "metadata": {},
   "outputs": [
    {
     "name": "stdout",
     "output_type": "stream",
     "text": [
      "     PassengerId  Survived\n",
      "0            892         0\n",
      "1            893         1\n",
      "2            894         0\n",
      "3            895         0\n",
      "4            896         1\n",
      "..           ...       ...\n",
      "413         1305         0\n",
      "414         1306         1\n",
      "415         1307         0\n",
      "416         1308         0\n",
      "417         1309         1\n",
      "\n",
      "[418 rows x 2 columns]\n"
     ]
    }
   ],
   "source": [
    "# x_test_passenger_id 변수와 y_test_predicted 변수를 세로 방향으로 붙이기\n",
    "print(pd.concat([x_test_passenger_id, y_test_predicted], axis=1))"
   ]
  },
  {
   "cell_type": "code",
   "execution_count": 76,
   "id": "ee0c8e47",
   "metadata": {},
   "outputs": [],
   "source": [
    "# 앞의 출력 결과를 final 변수에 저장하기\n",
    "final = pd.concat([x_test_passenger_id, y_test_predicted], axis=1)\n",
    "\n",
    "# final 변수를 data 디렉터리 하위에 titanic_final.csv 이름으로 저장하기\n",
    "final.to_csv('titanic_final.csv')"
   ]
  },
  {
   "cell_type": "markdown",
   "id": "22353ef7",
   "metadata": {},
   "source": [
    "## 최종 제출 코드"
   ]
  },
  {
   "cell_type": "code",
   "execution_count": 77,
   "id": "c010bb80",
   "metadata": {},
   "outputs": [
    {
     "name": "stderr",
     "output_type": "stream",
     "text": [
      "/Users/heetaecho/opt/anaconda3/lib/python3.9/site-packages/xgboost/sklearn.py:1224: UserWarning: The use of label encoder in XGBClassifier is deprecated and will be removed in a future release. To remove this warning, do the following: 1) Pass option use_label_encoder=False when constructing XGBClassifier object; and 2) Encode your labels (y) as integers starting with 0, i.e. 0, 1, 2, ..., [num_class - 1].\n",
      "  warnings.warn(label_encoder_deprecation_msg, UserWarning)\n",
      "/Users/heetaecho/opt/anaconda3/lib/python3.9/site-packages/sklearn/preprocessing/_label.py:98: DataConversionWarning: A column-vector y was passed when a 1d array was expected. Please change the shape of y to (n_samples, ), for example using ravel().\n",
      "  y = column_or_1d(y, warn=True)\n",
      "/Users/heetaecho/opt/anaconda3/lib/python3.9/site-packages/sklearn/preprocessing/_label.py:133: DataConversionWarning: A column-vector y was passed when a 1d array was expected. Please change the shape of y to (n_samples, ), for example using ravel().\n",
      "  y = column_or_1d(y, warn=True)\n",
      "/Users/heetaecho/opt/anaconda3/lib/python3.9/site-packages/xgboost/data.py:250: FutureWarning: pandas.Int64Index is deprecated and will be removed from pandas in a future version. Use pandas.Index with the appropriate dtype instead.\n",
      "  elif isinstance(data.columns, (pd.Int64Index, pd.RangeIndex)):\n"
     ]
    }
   ],
   "source": [
    "# 데이터 가져오기\n",
    "import pandas as pd\n",
    "x_train = pd.read_csv('titanic_x_train.csv', encoding='cp949')\n",
    "x_test = pd.read_csv('titanic_x_test.csv', encoding='cp949')\n",
    "y_train = pd.read_csv('titanic_y_train.csv')\n",
    "\n",
    "# 전처리하기\n",
    "x_test_passenger_id = x_test['PassengerId']\n",
    "x_train = x_train.drop(columns=['PassengerId'])\n",
    "x_test = x_test.drop(columns=['PassengerId'])\n",
    "y_train = y_train.drop(columns=['PassengerId'])\n",
    "x_train = x_train.drop(columns=['티켓번호','승객이름','나이','객실번호'])\n",
    "x_test = x_test.drop(columns=['티켓번호','승객이름','나이','객실번호'])\n",
    "\n",
    "# 결측치 처리하기\n",
    "x_train['선착장'] = x_train['선착장'].fillna('S')\n",
    "x_test['선착장'] = x_test['선착장'].fillna('S')\n",
    "\n",
    "# 인코딩 수행하기\n",
    "x_train['성별'] = x_train['성별'].replace({'male':0,'female':1})\n",
    "x_test['성별'] = x_test['성별'].replace({'male':0,'female':1})\n",
    "선착장_dummy = pd.get_dummies(x_train['선착장'], drop_first=True).rename(columns={'Q':'선착장Q','S':'선착장S'})\n",
    "x_train = pd.concat([x_train, 선착장_dummy],axis=1)\n",
    "x_train = x_train.drop(columns=['선착장'])\n",
    "선착장_dummy = pd.get_dummies(x_test['선착장'], drop_first=True).rename(columns={'Q':'선착장Q','S':'선착장S'})\n",
    "x_test = pd.concat([x_test, 선착장_dummy],axis=1)\n",
    "x_test = x_test.drop(columns=['선착장'])\n",
    "\n",
    "# 파생변수 만들기\n",
    "x_train['가족수'] = x_train['형제자매배우자수'] + x_train['부모자식수']\n",
    "x_train = x_train.drop(columns=['형제자매배우자수','부모자식수'])\n",
    "x_test['가족수'] = x_test['형제자매배우자수'] + x_test['부모자식수']\n",
    "x_test = x_test.drop(columns=['형제자매배우자수','부모자식수'])\n",
    "\n",
    "# 데이터 분리하기\n",
    "from sklearn.model_selection import train_test_split\n",
    "X_TRAIN, X_TEST, Y_TRAIN, Y_TEST = train_test_split(x_train, y_train, test_size=0.1, random_state=10)\n",
    "\n",
    "# 모델 학습하기\n",
    "from xgboost import XGBClassifier\n",
    "# model = XGBClassifier(eval_metric='error', n_estimators=100, max_depth=5, random_state=10)\n",
    "model = XGBClassifier(eval_metric='error', n_estimators=200, max_depth=5, random_state=10)\n",
    "model.fit(X_TRAIN, Y_TRAIN)\n",
    "\n",
    "# 최종 결과를 파일로 저장하기\n",
    "y_test_predicted = pd.DataFrame(model.predict(x_test)).rename(columns={0:'Survived'})\n",
    "final = pd.concat([x_test_passenger_id, y_test_predicted], axis=1)\n",
    "# final.to_csv('titanic_final.csv', index=False)"
   ]
  },
  {
   "cell_type": "code",
   "execution_count": 78,
   "id": "a249aa51",
   "metadata": {},
   "outputs": [
    {
     "data": {
      "text/html": [
       "<div>\n",
       "<style scoped>\n",
       "    .dataframe tbody tr th:only-of-type {\n",
       "        vertical-align: middle;\n",
       "    }\n",
       "\n",
       "    .dataframe tbody tr th {\n",
       "        vertical-align: top;\n",
       "    }\n",
       "\n",
       "    .dataframe thead th {\n",
       "        text-align: right;\n",
       "    }\n",
       "</style>\n",
       "<table border=\"1\" class=\"dataframe\">\n",
       "  <thead>\n",
       "    <tr style=\"text-align: right;\">\n",
       "      <th></th>\n",
       "      <th>Unnamed: 0</th>\n",
       "      <th>PassengerId</th>\n",
       "      <th>Survived</th>\n",
       "    </tr>\n",
       "  </thead>\n",
       "  <tbody>\n",
       "    <tr>\n",
       "      <th>0</th>\n",
       "      <td>0</td>\n",
       "      <td>892</td>\n",
       "      <td>0</td>\n",
       "    </tr>\n",
       "    <tr>\n",
       "      <th>1</th>\n",
       "      <td>1</td>\n",
       "      <td>893</td>\n",
       "      <td>1</td>\n",
       "    </tr>\n",
       "    <tr>\n",
       "      <th>2</th>\n",
       "      <td>2</td>\n",
       "      <td>894</td>\n",
       "      <td>0</td>\n",
       "    </tr>\n",
       "    <tr>\n",
       "      <th>3</th>\n",
       "      <td>3</td>\n",
       "      <td>895</td>\n",
       "      <td>0</td>\n",
       "    </tr>\n",
       "    <tr>\n",
       "      <th>4</th>\n",
       "      <td>4</td>\n",
       "      <td>896</td>\n",
       "      <td>1</td>\n",
       "    </tr>\n",
       "    <tr>\n",
       "      <th>...</th>\n",
       "      <td>...</td>\n",
       "      <td>...</td>\n",
       "      <td>...</td>\n",
       "    </tr>\n",
       "    <tr>\n",
       "      <th>413</th>\n",
       "      <td>413</td>\n",
       "      <td>1305</td>\n",
       "      <td>0</td>\n",
       "    </tr>\n",
       "    <tr>\n",
       "      <th>414</th>\n",
       "      <td>414</td>\n",
       "      <td>1306</td>\n",
       "      <td>1</td>\n",
       "    </tr>\n",
       "    <tr>\n",
       "      <th>415</th>\n",
       "      <td>415</td>\n",
       "      <td>1307</td>\n",
       "      <td>0</td>\n",
       "    </tr>\n",
       "    <tr>\n",
       "      <th>416</th>\n",
       "      <td>416</td>\n",
       "      <td>1308</td>\n",
       "      <td>0</td>\n",
       "    </tr>\n",
       "    <tr>\n",
       "      <th>417</th>\n",
       "      <td>417</td>\n",
       "      <td>1309</td>\n",
       "      <td>1</td>\n",
       "    </tr>\n",
       "  </tbody>\n",
       "</table>\n",
       "<p>418 rows × 3 columns</p>\n",
       "</div>"
      ],
      "text/plain": [
       "     Unnamed: 0  PassengerId  Survived\n",
       "0             0          892         0\n",
       "1             1          893         1\n",
       "2             2          894         0\n",
       "3             3          895         0\n",
       "4             4          896         1\n",
       "..          ...          ...       ...\n",
       "413         413         1305         0\n",
       "414         414         1306         1\n",
       "415         415         1307         0\n",
       "416         416         1308         0\n",
       "417         417         1309         1\n",
       "\n",
       "[418 rows x 3 columns]"
      ]
     },
     "execution_count": 78,
     "metadata": {},
     "output_type": "execute_result"
    }
   ],
   "source": [
    "titanic_final = pd.read_csv('titanic_final.csv')\n",
    "titanic_final"
   ]
  }
 ],
 "metadata": {
  "kernelspec": {
   "display_name": "Python 3 (ipykernel)",
   "language": "python",
   "name": "python3"
  },
  "language_info": {
   "codemirror_mode": {
    "name": "ipython",
    "version": 3
   },
   "file_extension": ".py",
   "mimetype": "text/x-python",
   "name": "python",
   "nbconvert_exporter": "python",
   "pygments_lexer": "ipython3",
   "version": "3.9.13"
  }
 },
 "nbformat": 4,
 "nbformat_minor": 5
}
